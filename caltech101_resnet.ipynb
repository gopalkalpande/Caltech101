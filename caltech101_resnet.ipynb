{
  "nbformat": 4,
  "nbformat_minor": 0,
  "metadata": {
    "colab": {
      "name": "caltech101 resnet.ipynb",
      "version": "0.3.2",
      "provenance": [],
      "include_colab_link": true
    },
    "kernelspec": {
      "name": "python3",
      "display_name": "Python 3"
    },
    "accelerator": "GPU"
  },
  "cells": [
    {
      "cell_type": "markdown",
      "metadata": {
        "id": "view-in-github",
        "colab_type": "text"
      },
      "source": [
        "<a href=\"https://colab.research.google.com/github/gopalkalpande/Caltech101/blob/master/caltech101_resnet.ipynb\" target=\"_parent\"><img src=\"https://colab.research.google.com/assets/colab-badge.svg\" alt=\"Open In Colab\"/></a>"
      ]
    },
    {
      "cell_type": "code",
      "metadata": {
        "id": "HihF0ls2Z34a",
        "colab_type": "code",
        "outputId": "ea69f952-264e-4fcc-8525-269a50e8dba4",
        "colab": {
          "base_uri": "https://localhost:8080/",
          "height": 122
        }
      },
      "source": [
        "from google.colab import drive\n",
        "drive.mount('/content/drive')\n"
      ],
      "execution_count": 1,
      "outputs": [
        {
          "output_type": "stream",
          "text": [
            "Go to this URL in a browser: https://accounts.google.com/o/oauth2/auth?client_id=947318989803-6bn6qk8qdgf4n4g3pfee6491hc0brc4i.apps.googleusercontent.com&redirect_uri=urn%3Aietf%3Awg%3Aoauth%3A2.0%3Aoob&scope=email%20https%3A%2F%2Fwww.googleapis.com%2Fauth%2Fdocs.test%20https%3A%2F%2Fwww.googleapis.com%2Fauth%2Fdrive%20https%3A%2F%2Fwww.googleapis.com%2Fauth%2Fdrive.photos.readonly%20https%3A%2F%2Fwww.googleapis.com%2Fauth%2Fpeopleapi.readonly&response_type=code\n",
            "\n",
            "Enter your authorization code:\n",
            "··········\n",
            "Mounted at /content/drive\n"
          ],
          "name": "stdout"
        }
      ]
    },
    {
      "cell_type": "code",
      "metadata": {
        "id": "vboznIYAaHMH",
        "colab_type": "code",
        "outputId": "2f2861bd-bb7f-4fcc-f014-60e075bd4987",
        "colab": {
          "base_uri": "https://localhost:8080/",
          "height": 34
        }
      },
      "source": [
        "!ls '/content/drive/My Drive/data/caltech_101/'"
      ],
      "execution_count": 2,
      "outputs": [
        {
          "output_type": "stream",
          "text": [
            "101_ObjectCategories  data\n"
          ],
          "name": "stdout"
        }
      ]
    },
    {
      "cell_type": "code",
      "metadata": {
        "id": "Y9QvYvQraHO1",
        "colab_type": "code",
        "colab": {}
      },
      "source": [
        "import pandas as pd\n",
        "\n",
        "from sklearn.model_selection import train_test_split\n",
        "\n",
        "import shutil\n",
        "import os\n"
      ],
      "execution_count": 0,
      "outputs": []
    },
    {
      "cell_type": "code",
      "metadata": {
        "id": "PFsEzSNDaHR1",
        "colab_type": "code",
        "outputId": "a401de69-2b0a-497f-9430-b3481d9a93dc",
        "colab": {
          "base_uri": "https://localhost:8080/",
          "height": 68
        }
      },
      "source": [
        "os.environ[\"CUDA_DEVICE_ORDER\"]=\"PCI_BUS_ID\"\n",
        "# The GPU id to use, usually either \"0\" or \"1\"\n",
        "os.environ[\"CUDA_VISIBLE_DEVICES\"]=\"0\" \n",
        "\n",
        "import numpy as np\n",
        "import cv2\n",
        "from matplotlib import pyplot as plt\n",
        "\n",
        "import keras\n",
        "print(\"keras version: \", keras.__version__)\n",
        "\n",
        "import tensorflow as tf\n",
        "print(\"tensoflow version: \", tf.__version__)\n",
        "\n",
        "# TensorFlow wizardry\n",
        "config = tf.ConfigProto()\n",
        " \n",
        "# Don't pre-allocate memory; allocate as-needed\n",
        "config.gpu_options.allow_growth = True\n",
        " \n",
        "# Only allow a total of half the GPU memory to be allocated\n",
        "config.gpu_options.per_process_gpu_memory_fraction = 0.9\n",
        " \n",
        "# Create a session with the above options specified.\n",
        "keras.backend.tensorflow_backend.set_session(tf.Session(config=config))"
      ],
      "execution_count": 4,
      "outputs": [
        {
          "output_type": "stream",
          "text": [
            "Using TensorFlow backend.\n"
          ],
          "name": "stderr"
        },
        {
          "output_type": "stream",
          "text": [
            "keras version:  2.2.4\n",
            "tensoflow version:  1.13.1\n"
          ],
          "name": "stdout"
        }
      ]
    },
    {
      "cell_type": "code",
      "metadata": {
        "id": "nTifCqsLaHUt",
        "colab_type": "code",
        "outputId": "d60e1f3a-93e4-4973-ecb1-2e3309b90805",
        "colab": {
          "base_uri": "https://localhost:8080/",
          "height": 34
        }
      },
      "source": [
        "dataset_path = '/content/drive/My Drive/data/caltech_101/101_ObjectCategories'\n",
        "folder_names = []\n",
        "folder_names = [f for f in sorted(os.listdir(dataset_path))]\n",
        "\n",
        "print(len(folder_names)) # 102 = 101 categories + background"
      ],
      "execution_count": 5,
      "outputs": [
        {
          "output_type": "stream",
          "text": [
            "102\n"
          ],
          "name": "stdout"
        }
      ]
    },
    {
      "cell_type": "code",
      "metadata": {
        "id": "J3ixJtGbaHXG",
        "colab_type": "code",
        "colab": {}
      },
      "source": [
        "# directories to use. Run the other cells ONLY ONCE to create the splitting\n",
        "\n",
        "base_path = '/content/drive/My Drive/data/caltech_101/101_ObjectCategories'\n",
        "train_dir = os.path.join(base_path, 'train')\n",
        "validation_dir = os.path.join(base_path, 'validation')\n",
        "test_dir = os.path.join(base_path, 'test')\n"
      ],
      "execution_count": 0,
      "outputs": []
    },
    {
      "cell_type": "code",
      "metadata": {
        "id": "GfhcpwlQa2qK",
        "colab_type": "code",
        "outputId": "af046b06-691b-44bb-c035-93d30b8c7fd8",
        "colab": {
          "base_uri": "https://localhost:8080/",
          "height": 34
        }
      },
      "source": [
        "!ls '/content/drive/My Drive/data/caltech_101/'\n"
      ],
      "execution_count": 7,
      "outputs": [
        {
          "output_type": "stream",
          "text": [
            "101_ObjectCategories  data\n"
          ],
          "name": "stdout"
        }
      ]
    },
    {
      "cell_type": "code",
      "metadata": {
        "id": "D1tFxPuka2vZ",
        "colab_type": "code",
        "outputId": "4bb02408-89b1-4da2-c24b-8b32e040cc3b",
        "colab": {
          "base_uri": "https://localhost:8080/",
          "height": 1768
        }
      },
      "source": [
        "category_dict = {}\n",
        "images_per_category_dict = {}\n",
        "category_images_path_dict = {}\n",
        "\n",
        "total_images = 0\n",
        "\n",
        "for i, category in enumerate(folder_names):\n",
        "    category_dict[i] = category\n",
        "    \n",
        "    folder_path = dataset_path + '/' + category\n",
        "    #image_names = [os.path.join(folder_path, img) for img in sorted(os.listdir(folder_path))]\n",
        "    image_names = [img for img in sorted(os.listdir(folder_path))]\n",
        "    \n",
        "    images_per_category_dict[i] = len(image_names)\n",
        "    category_images_path_dict[i] = image_names\n",
        "    \n",
        "    print('%s: %d' %(category, images_per_category_dict[i]))\n",
        "    total_images += images_per_category_dict[i]\n",
        "    \n",
        "print('Total images in dataset: %d' %(total_images))\n"
      ],
      "execution_count": 8,
      "outputs": [
        {
          "output_type": "stream",
          "text": [
            "BACKGROUND_Google: 468\n",
            "Faces: 435\n",
            "Faces_easy: 435\n",
            "Leopards: 200\n",
            "Motorbikes: 798\n",
            "accordion: 55\n",
            "airplanes: 800\n",
            "anchor: 42\n",
            "ant: 42\n",
            "barrel: 47\n",
            "bass: 54\n",
            "beaver: 46\n",
            "binocular: 33\n",
            "bonsai: 128\n",
            "brain: 98\n",
            "brontosaurus: 43\n",
            "buddha: 85\n",
            "butterfly: 91\n",
            "camera: 50\n",
            "cannon: 43\n",
            "car_side: 123\n",
            "ceiling_fan: 47\n",
            "cellphone: 59\n",
            "chair: 62\n",
            "chandelier: 107\n",
            "cougar_body: 47\n",
            "cougar_face: 69\n",
            "crab: 73\n",
            "crayfish: 70\n",
            "crocodile: 50\n",
            "crocodile_head: 51\n",
            "cup: 57\n",
            "dalmatian: 67\n",
            "dollar_bill: 52\n",
            "dolphin: 65\n",
            "dragonfly: 68\n",
            "electric_guitar: 75\n",
            "elephant: 64\n",
            "emu: 53\n",
            "euphonium: 64\n",
            "ewer: 85\n",
            "ferry: 67\n",
            "flamingo: 67\n",
            "flamingo_head: 45\n",
            "garfield: 34\n",
            "gerenuk: 34\n",
            "gramophone: 51\n",
            "grand_piano: 99\n",
            "hawksbill: 100\n",
            "headphone: 42\n",
            "hedgehog: 54\n",
            "helicopter: 88\n",
            "ibis: 80\n",
            "inline_skate: 31\n",
            "joshua_tree: 64\n",
            "kangaroo: 86\n",
            "ketch: 114\n",
            "lamp: 61\n",
            "laptop: 81\n",
            "llama: 78\n",
            "lobster: 41\n",
            "lotus: 66\n",
            "mandolin: 43\n",
            "mayfly: 40\n",
            "menorah: 87\n",
            "metronome: 32\n",
            "minaret: 76\n",
            "nautilus: 55\n",
            "octopus: 35\n",
            "okapi: 39\n",
            "pagoda: 47\n",
            "panda: 38\n",
            "pigeon: 45\n",
            "pizza: 53\n",
            "platypus: 34\n",
            "pyramid: 57\n",
            "revolver: 82\n",
            "rhino: 59\n",
            "rooster: 49\n",
            "saxophone: 40\n",
            "schooner: 63\n",
            "scissors: 39\n",
            "scorpion: 84\n",
            "sea_horse: 57\n",
            "snoopy: 35\n",
            "soccer_ball: 64\n",
            "stapler: 45\n",
            "starfish: 86\n",
            "stegosaurus: 59\n",
            "stop_sign: 64\n",
            "strawberry: 35\n",
            "sunflower: 85\n",
            "tick: 49\n",
            "trilobite: 86\n",
            "umbrella: 75\n",
            "watch: 239\n",
            "water_lilly: 37\n",
            "wheelchair: 59\n",
            "wild_cat: 34\n",
            "windsor_chair: 56\n",
            "wrench: 39\n",
            "yin_yang: 60\n",
            "Total images in dataset: 9145\n"
          ],
          "name": "stdout"
        }
      ]
    },
    {
      "cell_type": "code",
      "metadata": {
        "id": "0PSIz5eAa2yr",
        "colab_type": "code",
        "colab": {
          "base_uri": "https://localhost:8080/",
          "height": 54
        },
        "outputId": "d1e7fbe7-c6bb-4def-b781-85137127d4b0"
      },
      "source": [
        "'''# create the directories to use\n",
        "base_path = '/content/drive/My Drive/data/caltech_101/data'\n",
        "os.mkdir(base_path)\n",
        "\n",
        "train_dir = os.path.join(base_path, 'train')\n",
        "os.mkdir(train_dir)\n",
        "\n",
        "validation_dir = os.path.join(base_path, 'validation')\n",
        "os.mkdir(validation_dir)\n",
        "\n",
        "test_dir = os.path.join(base_path, 'test')\n",
        "os.mkdir(test_dir)\n",
        "'''\n"
      ],
      "execution_count": 11,
      "outputs": [
        {
          "output_type": "execute_result",
          "data": {
            "text/plain": [
              "\"# create the directories to use\\nbase_path = '/content/drive/My Drive/data/caltech_101/data'\\nos.mkdir(base_path)\\n\\ntrain_dir = os.path.join(base_path, 'train')\\nos.mkdir(train_dir)\\n\\nvalidation_dir = os.path.join(base_path, 'validation')\\nos.mkdir(validation_dir)\\n\\ntest_dir = os.path.join(base_path, 'test')\\nos.mkdir(test_dir)\\n\""
            ]
          },
          "metadata": {
            "tags": []
          },
          "execution_count": 11
        }
      ]
    },
    {
      "cell_type": "code",
      "metadata": {
        "id": "HVocWq_ixKTl",
        "colab_type": "code",
        "colab": {
          "base_uri": "https://localhost:8080/",
          "height": 34
        },
        "outputId": "8da00ae5-4887-4605-dc88-dd8e0b625094"
      },
      "source": [
        "!ls '/content/drive/My Drive/data/caltech_101/data'"
      ],
      "execution_count": 10,
      "outputs": [
        {
          "output_type": "stream",
          "text": [
            "test  train  validation\n"
          ],
          "name": "stdout"
        }
      ]
    },
    {
      "cell_type": "code",
      "metadata": {
        "id": "bT0yiR2-a215",
        "colab_type": "code",
        "colab": {}
      },
      "source": [
        "# create the categories files in each\n",
        "'''\n",
        "for directory in [train_dir, validation_dir, test_dir]:\n",
        "    for category in folder_names:\n",
        "        os.mkdir(os.path.join(directory, category))\n",
        "'''"
      ],
      "execution_count": 0,
      "outputs": []
    },
    {
      "cell_type": "code",
      "metadata": {
        "id": "FBrL9V5Ta24x",
        "colab_type": "code",
        "outputId": "3fbac260-e1c7-4faf-e60f-c21fc8a63431",
        "colab": {
          "base_uri": "https://localhost:8080/",
          "height": 374
        }
      },
      "source": [
        "# calculate the number of images to place in each train/valid/test categories folder\n",
        "'''\n",
        "total_train = 0\n",
        "total_validation = 0\n",
        "total_test = 0\n",
        "\n",
        "total_train_2 = 0\n",
        "total_validation_2 = 0\n",
        "total_test_2 = 0\n",
        "\n",
        "for i, category in enumerate(folder_names):\n",
        "    train_number = int(0.7 * images_per_category_dict[i])\n",
        "    validation_number = int(0.2 * images_per_category_dict[i])\n",
        "    test_number = images_per_category_dict[i] - train_number - validation_number # for not exceeding maximum number\n",
        "    \n",
        "    # for statistics later\n",
        "    total_train += train_number\n",
        "    total_validation += validation_number\n",
        "    total_test += test_number\n",
        "    \n",
        "    # now copy these images to respective folders\n",
        "    # Copy first 1000 cat images to train_cats_dir\n",
        "    fnames = category_images_path_dict[i][:train_number]\n",
        "    for fname in fnames:\n",
        "        src = os.path.join(dataset_path, category, fname)\n",
        "        dst = os.path.join(train_dir, category, fname)\n",
        "        shutil.copyfile(src, dst)\n",
        "        \n",
        "    total_train_2 += len(fnames)\n",
        "        \n",
        "    fnames = category_images_path_dict[i][train_number:train_number + validation_number]\n",
        "    for fname in fnames:\n",
        "        src = os.path.join(dataset_path, category, fname)\n",
        "        dst = os.path.join(validation_dir, category, fname)\n",
        "        shutil.copyfile(src, dst)\n",
        "        \n",
        "    total_validation_2 += len(fnames)\n",
        "    \n",
        "    fnames = category_images_path_dict[i][train_number + validation_number:]\n",
        "    for fname in fnames:\n",
        "        src = os.path.join(dataset_path, category, fname)\n",
        "        dst = os.path.join(test_dir, category, fname)\n",
        "        shutil.copyfile(src, dst)\n",
        "        \n",
        "    total_test_2 += len(fnames)\n",
        "'''"
      ],
      "execution_count": 0,
      "outputs": [
        {
          "output_type": "error",
          "ename": "KeyboardInterrupt",
          "evalue": "ignored",
          "traceback": [
            "\u001b[0;31m---------------------------------------------------------------------------\u001b[0m",
            "\u001b[0;31mKeyboardInterrupt\u001b[0m                         Traceback (most recent call last)",
            "\u001b[0;32m<ipython-input-14-e50b70b498ae>\u001b[0m in \u001b[0;36m<module>\u001b[0;34m()\u001b[0m\n\u001b[1;32m     24\u001b[0m         \u001b[0msrc\u001b[0m \u001b[0;34m=\u001b[0m \u001b[0mos\u001b[0m\u001b[0;34m.\u001b[0m\u001b[0mpath\u001b[0m\u001b[0;34m.\u001b[0m\u001b[0mjoin\u001b[0m\u001b[0;34m(\u001b[0m\u001b[0mdataset_path\u001b[0m\u001b[0;34m,\u001b[0m \u001b[0mcategory\u001b[0m\u001b[0;34m,\u001b[0m \u001b[0mfname\u001b[0m\u001b[0;34m)\u001b[0m\u001b[0;34m\u001b[0m\u001b[0;34m\u001b[0m\u001b[0m\n\u001b[1;32m     25\u001b[0m         \u001b[0mdst\u001b[0m \u001b[0;34m=\u001b[0m \u001b[0mos\u001b[0m\u001b[0;34m.\u001b[0m\u001b[0mpath\u001b[0m\u001b[0;34m.\u001b[0m\u001b[0mjoin\u001b[0m\u001b[0;34m(\u001b[0m\u001b[0mtrain_dir\u001b[0m\u001b[0;34m,\u001b[0m \u001b[0mcategory\u001b[0m\u001b[0;34m,\u001b[0m \u001b[0mfname\u001b[0m\u001b[0;34m)\u001b[0m\u001b[0;34m\u001b[0m\u001b[0;34m\u001b[0m\u001b[0m\n\u001b[0;32m---> 26\u001b[0;31m         \u001b[0mshutil\u001b[0m\u001b[0;34m.\u001b[0m\u001b[0mcopyfile\u001b[0m\u001b[0;34m(\u001b[0m\u001b[0msrc\u001b[0m\u001b[0;34m,\u001b[0m \u001b[0mdst\u001b[0m\u001b[0;34m)\u001b[0m\u001b[0;34m\u001b[0m\u001b[0;34m\u001b[0m\u001b[0m\n\u001b[0m\u001b[1;32m     27\u001b[0m \u001b[0;34m\u001b[0m\u001b[0m\n\u001b[1;32m     28\u001b[0m     \u001b[0mtotal_train_2\u001b[0m \u001b[0;34m+=\u001b[0m \u001b[0mlen\u001b[0m\u001b[0;34m(\u001b[0m\u001b[0mfnames\u001b[0m\u001b[0;34m)\u001b[0m\u001b[0;34m\u001b[0m\u001b[0;34m\u001b[0m\u001b[0m\n",
            "\u001b[0;32m/usr/lib/python3.6/shutil.py\u001b[0m in \u001b[0;36mcopyfile\u001b[0;34m(src, dst, follow_symlinks)\u001b[0m\n\u001b[1;32m    120\u001b[0m         \u001b[0;32mwith\u001b[0m \u001b[0mopen\u001b[0m\u001b[0;34m(\u001b[0m\u001b[0msrc\u001b[0m\u001b[0;34m,\u001b[0m \u001b[0;34m'rb'\u001b[0m\u001b[0;34m)\u001b[0m \u001b[0;32mas\u001b[0m \u001b[0mfsrc\u001b[0m\u001b[0;34m:\u001b[0m\u001b[0;34m\u001b[0m\u001b[0;34m\u001b[0m\u001b[0m\n\u001b[1;32m    121\u001b[0m             \u001b[0;32mwith\u001b[0m \u001b[0mopen\u001b[0m\u001b[0;34m(\u001b[0m\u001b[0mdst\u001b[0m\u001b[0;34m,\u001b[0m \u001b[0;34m'wb'\u001b[0m\u001b[0;34m)\u001b[0m \u001b[0;32mas\u001b[0m \u001b[0mfdst\u001b[0m\u001b[0;34m:\u001b[0m\u001b[0;34m\u001b[0m\u001b[0;34m\u001b[0m\u001b[0m\n\u001b[0;32m--> 122\u001b[0;31m                 \u001b[0mcopyfileobj\u001b[0m\u001b[0;34m(\u001b[0m\u001b[0mfsrc\u001b[0m\u001b[0;34m,\u001b[0m \u001b[0mfdst\u001b[0m\u001b[0;34m)\u001b[0m\u001b[0;34m\u001b[0m\u001b[0;34m\u001b[0m\u001b[0m\n\u001b[0m\u001b[1;32m    123\u001b[0m     \u001b[0;32mreturn\u001b[0m \u001b[0mdst\u001b[0m\u001b[0;34m\u001b[0m\u001b[0;34m\u001b[0m\u001b[0m\n\u001b[1;32m    124\u001b[0m \u001b[0;34m\u001b[0m\u001b[0m\n",
            "\u001b[0;32m/usr/lib/python3.6/shutil.py\u001b[0m in \u001b[0;36mcopyfileobj\u001b[0;34m(fsrc, fdst, length)\u001b[0m\n\u001b[1;32m     77\u001b[0m     \u001b[0;34m\"\"\"copy data from file-like object fsrc to file-like object fdst\"\"\"\u001b[0m\u001b[0;34m\u001b[0m\u001b[0;34m\u001b[0m\u001b[0m\n\u001b[1;32m     78\u001b[0m     \u001b[0;32mwhile\u001b[0m \u001b[0;36m1\u001b[0m\u001b[0;34m:\u001b[0m\u001b[0;34m\u001b[0m\u001b[0;34m\u001b[0m\u001b[0m\n\u001b[0;32m---> 79\u001b[0;31m         \u001b[0mbuf\u001b[0m \u001b[0;34m=\u001b[0m \u001b[0mfsrc\u001b[0m\u001b[0;34m.\u001b[0m\u001b[0mread\u001b[0m\u001b[0;34m(\u001b[0m\u001b[0mlength\u001b[0m\u001b[0;34m)\u001b[0m\u001b[0;34m\u001b[0m\u001b[0;34m\u001b[0m\u001b[0m\n\u001b[0m\u001b[1;32m     80\u001b[0m         \u001b[0;32mif\u001b[0m \u001b[0;32mnot\u001b[0m \u001b[0mbuf\u001b[0m\u001b[0;34m:\u001b[0m\u001b[0;34m\u001b[0m\u001b[0;34m\u001b[0m\u001b[0m\n\u001b[1;32m     81\u001b[0m             \u001b[0;32mbreak\u001b[0m\u001b[0;34m\u001b[0m\u001b[0;34m\u001b[0m\u001b[0m\n",
            "\u001b[0;31mKeyboardInterrupt\u001b[0m: "
          ]
        }
      ]
    },
    {
      "cell_type": "code",
      "metadata": {
        "id": "BQY-R1CDa28Z",
        "colab_type": "code",
        "colab": {}
      },
      "source": [
        "'''print('Correct train split: ', total_train == total_train_2)\n",
        "print('Correct validation split: ', total_validation == total_validation_2)\n",
        "print('Correct test split: ', total_test == total_test_2)\n",
        "print()\n",
        "print('Number of training images: ', total_train)\n",
        "print('Number of validation images: ', total_validation)\n",
        "print('Number of test images: ', total_test)\n",
        "print()\n",
        "print('Real percentage of training images: ', total_train / total_images)\n",
        "print('Real percentage of validation images: ', total_validation / total_images)\n",
        "print('Real percentage of test images: ', total_test / total_images)\n",
        "'''"
      ],
      "execution_count": 0,
      "outputs": []
    },
    {
      "cell_type": "code",
      "metadata": {
        "id": "kz-cyqsnxh8V",
        "colab_type": "code",
        "colab": {}
      },
      "source": [
        "#!ls \"/content/drive/My Drive/data/caltech_101/data/train\"\n"
      ],
      "execution_count": 0,
      "outputs": []
    },
    {
      "cell_type": "code",
      "metadata": {
        "id": "MlA9c7F1xiGC",
        "colab_type": "code",
        "colab": {
          "base_uri": "https://localhost:8080/",
          "height": 34
        },
        "outputId": "60e184aa-a40e-4f9b-dbac-c0767001c4c1"
      },
      "source": [
        "Y_train = []\n",
        "path = \"/content/drive/My Drive/data/caltech_101/data/train\"\n",
        "for label in os.listdir(os.path.join(path)):\n",
        "    back_path = os.path.join(path,label)\n",
        "    for filename in os.listdir(back_path):\n",
        "        Y_train.append(label)\n",
        "len(Y_train)\n"
      ],
      "execution_count": 14,
      "outputs": [
        {
          "output_type": "execute_result",
          "data": {
            "text/plain": [
              "3239"
            ]
          },
          "metadata": {
            "tags": []
          },
          "execution_count": 14
        }
      ]
    },
    {
      "cell_type": "code",
      "metadata": {
        "id": "bVr-gYHBxiMk",
        "colab_type": "code",
        "colab": {
          "base_uri": "https://localhost:8080/",
          "height": 34
        },
        "outputId": "a99d4e34-9a25-4c29-a589-0f32336e116a"
      },
      "source": [
        "Y_test = []\n",
        "path = \"/content/drive/My Drive/data/caltech_101/data/test\"\n",
        "for label in os.listdir(os.path.join(path)):\n",
        "    back_path = os.path.join(path,label)\n",
        "    for filename in os.listdir(back_path):\n",
        "        Y_test.append(label)\n",
        "\n",
        "len(Y_test)\n"
      ],
      "execution_count": 15,
      "outputs": [
        {
          "output_type": "execute_result",
          "data": {
            "text/plain": [
              "481"
            ]
          },
          "metadata": {
            "tags": []
          },
          "execution_count": 15
        }
      ]
    },
    {
      "cell_type": "code",
      "metadata": {
        "id": "qlQvDP6mxz7-",
        "colab_type": "code",
        "colab": {
          "base_uri": "https://localhost:8080/",
          "height": 34
        },
        "outputId": "ac36d189-523f-4ac3-b969-3c696497e362"
      },
      "source": [
        "Y_valid = []\n",
        "path = \"/content/drive/My Drive/data/caltech_101/data/validation\"\n",
        "for label in os.listdir(os.path.join(path)):\n",
        "    back_path = os.path.join(path,label)\n",
        "    for filename in os.listdir(back_path):\n",
        "        Y_valid.append(label)\n",
        "\n",
        "len(Y_valid)\n"
      ],
      "execution_count": 16,
      "outputs": [
        {
          "output_type": "execute_result",
          "data": {
            "text/plain": [
              "905"
            ]
          },
          "metadata": {
            "tags": []
          },
          "execution_count": 16
        }
      ]
    },
    {
      "cell_type": "code",
      "metadata": {
        "id": "P2OyJtDLx0FT",
        "colab_type": "code",
        "colab": {}
      },
      "source": [
        "from sklearn import preprocessing\n",
        "le = preprocessing.LabelEncoder()\n",
        "le.fit(Y_train)\n",
        "Y_train= le.transform(Y_train)\n",
        "Y_valid= le.transform(Y_valid)\n",
        "Y_test= le.transform(Y_test)\n",
        "\n"
      ],
      "execution_count": 0,
      "outputs": []
    },
    {
      "cell_type": "code",
      "metadata": {
        "id": "uj_czVS3z9Nh",
        "colab_type": "code",
        "colab": {}
      },
      "source": [
        "train_dir = \"/content/drive/My Drive/data/caltech_101/data/train\"\n",
        "validation_dir = \"/content/drive/My Drive/data/caltech_101/data/validation\"\n",
        "test_dir = \"/content/drive/My Drive/data/caltech_101/data/test\"\n"
      ],
      "execution_count": 0,
      "outputs": []
    },
    {
      "cell_type": "code",
      "metadata": {
        "id": "YNztqMqWx0C0",
        "colab_type": "code",
        "colab": {
          "base_uri": "https://localhost:8080/",
          "height": 51
        },
        "outputId": "10634e75-0dd6-4ff7-ad70-e72ae5465866"
      },
      "source": [
        "from keras.preprocessing.image import ImageDataGenerator\n",
        "\n",
        "# All images will be rescaled by 1./255\n",
        "train_datagen = ImageDataGenerator(rescale=1./255)\n",
        "test_datagen = ImageDataGenerator(rescale=1./255)\n",
        "\n",
        "train_generator = train_datagen.flow_from_directory(\n",
        "        # This is the target directory\n",
        "        train_dir,\n",
        "        # All images will be resized to 150x150\n",
        "        target_size=(150, 150),\n",
        "        batch_size=20,\n",
        "        # Since we use binary_crossentropy loss, we need binary labels\n",
        "        class_mode='categorical')\n",
        "\n",
        "validation_generator = test_datagen.flow_from_directory(\n",
        "        validation_dir,\n",
        "        target_size=(150, 150),\n",
        "        batch_size=20,\n",
        "        class_mode='categorical')\n",
        "\n"
      ],
      "execution_count": 89,
      "outputs": [
        {
          "output_type": "stream",
          "text": [
            "Found 3238 images belonging to 102 classes.\n",
            "Found 905 images belonging to 102 classes.\n"
          ],
          "name": "stdout"
        }
      ]
    },
    {
      "cell_type": "code",
      "metadata": {
        "id": "ZFA53Zmwxz_n",
        "colab_type": "code",
        "colab": {}
      },
      "source": [
        "from keras.applications.resnet50 import ResNet50\n",
        "from keras.applications.inception_v3 import InceptionV3\n",
        "from keras.preprocessing import image\n",
        "from keras.applications.resnet50 import preprocess_input, decode_predictions\n",
        "from keras.layers import Dense, GlobalAveragePooling2D\n",
        "from keras import optimizers\n",
        "import numpy as np"
      ],
      "execution_count": 0,
      "outputs": []
    },
    {
      "cell_type": "code",
      "metadata": {
        "id": "Zl2biowbza1Q",
        "colab_type": "code",
        "colab": {
          "base_uri": "https://localhost:8080/",
          "height": 71
        },
        "outputId": "20072270-801a-4c65-e685-6592125b8559"
      },
      "source": [
        "base_model = InceptionV3(weights = 'imagenet', include_top = False, input_shape = (150, 150, 3))"
      ],
      "execution_count": 51,
      "outputs": [
        {
          "output_type": "stream",
          "text": [
            "Downloading data from https://github.com/fchollet/deep-learning-models/releases/download/v0.5/inception_v3_weights_tf_dim_ordering_tf_kernels_notop.h5\n",
            "87916544/87910968 [==============================] - 1s 0us/step\n"
          ],
          "name": "stdout"
        }
      ]
    },
    {
      "cell_type": "code",
      "metadata": {
        "id": "ovrjpWFDzayS",
        "colab_type": "code",
        "colab": {}
      },
      "source": [
        "from keras import models\n",
        "from keras.models import Model\n",
        "from keras import layers"
      ],
      "execution_count": 0,
      "outputs": []
    },
    {
      "cell_type": "code",
      "metadata": {
        "id": "lWMAtWFYzawC",
        "colab_type": "code",
        "colab": {}
      },
      "source": [
        "# create the base pre-trained model\n",
        "base_model = InceptionV3(weights='imagenet', include_top=False)\n",
        "\n",
        "# add a global spatial average pooling layer\n",
        "x = base_model.output\n",
        "x = GlobalAveragePooling2D()(x)\n",
        "# let's add a fully-connected layer\n",
        "x = Dense(1024, activation='relu')(x)\n",
        "# and a logistic layer -- let's say we have 102 classes\n",
        "predictions = Dense(102, activation='softmax')(x)\n",
        "\n",
        "# this is the model we will train\n",
        "model = Model(inputs=base_model.input, outputs=predictions)"
      ],
      "execution_count": 0,
      "outputs": []
    },
    {
      "cell_type": "code",
      "metadata": {
        "id": "4R5ygHaezatr",
        "colab_type": "code",
        "colab": {
          "base_uri": "https://localhost:8080/",
          "height": 34
        },
        "outputId": "be8efd76-4896-4ad5-cab3-810f8ef93301"
      },
      "source": [
        "len(model.trainable_weights)"
      ],
      "execution_count": 91,
      "outputs": [
        {
          "output_type": "execute_result",
          "data": {
            "text/plain": [
              "192"
            ]
          },
          "metadata": {
            "tags": []
          },
          "execution_count": 91
        }
      ]
    },
    {
      "cell_type": "code",
      "metadata": {
        "id": "6grUhd1YzaqB",
        "colab_type": "code",
        "colab": {}
      },
      "source": [
        "for layer in base_model.layers:\n",
        "    layer.trainable = False"
      ],
      "execution_count": 0,
      "outputs": []
    },
    {
      "cell_type": "code",
      "metadata": {
        "id": "M6scrgLB06kR",
        "colab_type": "code",
        "colab": {
          "base_uri": "https://localhost:8080/",
          "height": 34
        },
        "outputId": "1563b83b-b7e5-45c6-88ba-f80808836bfa"
      },
      "source": [
        "len(model.trainable_weights)"
      ],
      "execution_count": 93,
      "outputs": [
        {
          "output_type": "execute_result",
          "data": {
            "text/plain": [
              "4"
            ]
          },
          "metadata": {
            "tags": []
          },
          "execution_count": 93
        }
      ]
    },
    {
      "cell_type": "code",
      "metadata": {
        "id": "wgpfYlH0AitG",
        "colab_type": "code",
        "colab": {}
      },
      "source": [
        "# compile the model (should be done *after* setting layers to non-trainable)\n",
        "model.compile(optimizer=optimizers.Adam(), loss='categorical_crossentropy', metrics=['acc'])"
      ],
      "execution_count": 0,
      "outputs": []
    },
    {
      "cell_type": "code",
      "metadata": {
        "id": "kwl5Rf09Ai0_",
        "colab_type": "code",
        "colab": {
          "base_uri": "https://localhost:8080/",
          "height": 122
        },
        "outputId": "069aa44d-4f61-437b-ae9f-be8ffa3547c2"
      },
      "source": [
        "model.fit_generator(\n",
        "      train_generator,\n",
        "      steps_per_epoch=100,\n",
        "      epochs=2,\n",
        "      validation_data=validation_generator,\n",
        "      validation_steps=50)"
      ],
      "execution_count": 95,
      "outputs": [
        {
          "output_type": "stream",
          "text": [
            "Epoch 1/2\n",
            "100/100 [==============================] - 41s 415ms/step - loss: 1.6836 - acc: 0.6110 - val_loss: 1.3278 - val_acc: 0.7503\n",
            "Epoch 2/2\n",
            "100/100 [==============================] - 11s 109ms/step - loss: 0.8644 - acc: 0.7657 - val_loss: 1.1220 - val_acc: 0.8213\n"
          ],
          "name": "stdout"
        },
        {
          "output_type": "execute_result",
          "data": {
            "text/plain": [
              "<keras.callbacks.History at 0x7f6c7f25ec50>"
            ]
          },
          "metadata": {
            "tags": []
          },
          "execution_count": 95
        }
      ]
    },
    {
      "cell_type": "code",
      "metadata": {
        "id": "Y3ForfNwAjHQ",
        "colab_type": "code",
        "colab": {}
      },
      "source": [
        "# we chose to train the top 2 inception blocks, i.e. we will freeze\n",
        "# the first 249 layers and unfreeze the rest:\n",
        "for layer in model.layers[:249]:\n",
        "   layer.trainable = False\n",
        "for layer in model.layers[249:]:\n",
        "   layer.trainable = True"
      ],
      "execution_count": 0,
      "outputs": []
    },
    {
      "cell_type": "code",
      "metadata": {
        "id": "WoouWfQABQQZ",
        "colab_type": "code",
        "colab": {}
      },
      "source": [
        "model.compile(optimizer=optimizers.Adam(), loss='categorical_crossentropy', metrics=['acc'])"
      ],
      "execution_count": 0,
      "outputs": []
    },
    {
      "cell_type": "code",
      "metadata": {
        "id": "CXTOACF-BQYo",
        "colab_type": "code",
        "colab": {
          "base_uri": "https://localhost:8080/",
          "height": 1737
        },
        "outputId": "8e087d9a-52d5-4af4-a140-6d63bc037bbc"
      },
      "source": [
        "history = model.fit_generator(\n",
        "      train_generator,\n",
        "      steps_per_epoch=100,\n",
        "      epochs=50,\n",
        "      validation_data=validation_generator,\n",
        "      validation_steps=50)"
      ],
      "execution_count": 98,
      "outputs": [
        {
          "output_type": "stream",
          "text": [
            "Epoch 1/50\n",
            "100/100 [==============================] - 45s 453ms/step - loss: 0.9843 - acc: 0.7625 - val_loss: 10.4146 - val_acc: 0.2822\n",
            "Epoch 2/50\n",
            "100/100 [==============================] - 13s 130ms/step - loss: 0.6514 - acc: 0.8544 - val_loss: 1.4614 - val_acc: 0.7888\n",
            "Epoch 3/50\n",
            "100/100 [==============================] - 12s 119ms/step - loss: 0.4006 - acc: 0.8884 - val_loss: 2.7442 - val_acc: 0.6832\n",
            "Epoch 4/50\n",
            "100/100 [==============================] - 12s 121ms/step - loss: 0.2929 - acc: 0.9275 - val_loss: 1.6770 - val_acc: 0.8183\n",
            "Epoch 5/50\n",
            "100/100 [==============================] - 12s 118ms/step - loss: 0.2130 - acc: 0.9414 - val_loss: 0.8473 - val_acc: 0.8751\n",
            "Epoch 6/50\n",
            "100/100 [==============================] - 12s 121ms/step - loss: 0.2329 - acc: 0.9314 - val_loss: 0.7891 - val_acc: 0.8711\n",
            "Epoch 7/50\n",
            "100/100 [==============================] - 12s 121ms/step - loss: 0.1541 - acc: 0.9540 - val_loss: 0.4829 - val_acc: 0.9107\n",
            "Epoch 8/50\n",
            "100/100 [==============================] - 13s 126ms/step - loss: 0.1396 - acc: 0.9575 - val_loss: 0.8395 - val_acc: 0.8711\n",
            "Epoch 9/50\n",
            "100/100 [==============================] - 12s 125ms/step - loss: 0.1372 - acc: 0.9550 - val_loss: 0.6326 - val_acc: 0.8843\n",
            "Epoch 10/50\n",
            "100/100 [==============================] - 12s 119ms/step - loss: 0.0805 - acc: 0.9760 - val_loss: 0.5300 - val_acc: 0.9206\n",
            "Epoch 11/50\n",
            "100/100 [==============================] - 12s 121ms/step - loss: 0.1333 - acc: 0.9670 - val_loss: 0.5840 - val_acc: 0.8964\n",
            "Epoch 12/50\n",
            "100/100 [==============================] - 12s 121ms/step - loss: 0.1080 - acc: 0.9690 - val_loss: 0.9000 - val_acc: 0.8741\n",
            "Epoch 13/50\n",
            "100/100 [==============================] - 12s 117ms/step - loss: 0.1054 - acc: 0.9728 - val_loss: 0.8596 - val_acc: 0.8650\n",
            "Epoch 14/50\n",
            "100/100 [==============================] - 12s 121ms/step - loss: 0.1051 - acc: 0.9735 - val_loss: 0.6935 - val_acc: 0.8863\n",
            "Epoch 15/50\n",
            "100/100 [==============================] - 13s 129ms/step - loss: 0.0831 - acc: 0.9820 - val_loss: 0.5586 - val_acc: 0.9178\n",
            "Epoch 16/50\n",
            "100/100 [==============================] - 12s 121ms/step - loss: 0.0900 - acc: 0.9754 - val_loss: 0.6336 - val_acc: 0.9015\n",
            "Epoch 17/50\n",
            "100/100 [==============================] - 13s 132ms/step - loss: 0.0970 - acc: 0.9770 - val_loss: 0.7063 - val_acc: 0.8792\n",
            "Epoch 18/50\n",
            "100/100 [==============================] - 13s 129ms/step - loss: 0.0696 - acc: 0.9814 - val_loss: 0.4778 - val_acc: 0.9239\n",
            "Epoch 19/50\n",
            "100/100 [==============================] - 12s 118ms/step - loss: 0.0547 - acc: 0.9840 - val_loss: 0.6586 - val_acc: 0.9107\n",
            "Epoch 20/50\n",
            "100/100 [==============================] - 12s 120ms/step - loss: 0.0498 - acc: 0.9860 - val_loss: 0.6390 - val_acc: 0.9147\n",
            "Epoch 21/50\n",
            "100/100 [==============================] - 12s 125ms/step - loss: 0.0619 - acc: 0.9815 - val_loss: 0.8451 - val_acc: 0.8567\n",
            "Epoch 22/50\n",
            "100/100 [==============================] - 12s 124ms/step - loss: 0.0493 - acc: 0.9830 - val_loss: 1.1603 - val_acc: 0.8325\n",
            "Epoch 23/50\n",
            "100/100 [==============================] - 12s 118ms/step - loss: 0.0689 - acc: 0.9815 - val_loss: 1.1672 - val_acc: 0.8579\n",
            "Epoch 24/50\n",
            "100/100 [==============================] - 12s 121ms/step - loss: 0.1234 - acc: 0.9740 - val_loss: 1.0876 - val_acc: 0.8609\n",
            "Epoch 25/50\n",
            "100/100 [==============================] - 12s 119ms/step - loss: 0.0620 - acc: 0.9870 - val_loss: 0.7102 - val_acc: 0.8893\n",
            "Epoch 26/50\n",
            "100/100 [==============================] - 12s 119ms/step - loss: 0.0283 - acc: 0.9930 - val_loss: 0.5753 - val_acc: 0.9107\n",
            "Epoch 27/50\n",
            "100/100 [==============================] - 12s 120ms/step - loss: 0.0904 - acc: 0.9770 - val_loss: 0.7547 - val_acc: 0.8812\n",
            "Epoch 28/50\n",
            "100/100 [==============================] - 13s 129ms/step - loss: 0.0974 - acc: 0.9780 - val_loss: 0.6399 - val_acc: 0.8914\n",
            "Epoch 29/50\n",
            "100/100 [==============================] - 12s 119ms/step - loss: 0.0459 - acc: 0.9890 - val_loss: 0.7731 - val_acc: 0.8853\n",
            "Epoch 30/50\n",
            "100/100 [==============================] - 12s 120ms/step - loss: 0.0919 - acc: 0.9800 - val_loss: 2.0040 - val_acc: 0.7827\n",
            "Epoch 31/50\n",
            "100/100 [==============================] - 12s 120ms/step - loss: 0.0429 - acc: 0.9855 - val_loss: 0.6770 - val_acc: 0.8863\n",
            "Epoch 32/50\n",
            "100/100 [==============================] - 12s 121ms/step - loss: 0.0619 - acc: 0.9824 - val_loss: 0.5669 - val_acc: 0.9117\n",
            "Epoch 33/50\n",
            "100/100 [==============================] - 12s 120ms/step - loss: 0.0689 - acc: 0.9800 - val_loss: 0.6460 - val_acc: 0.9041\n",
            "Epoch 34/50\n",
            "100/100 [==============================] - 12s 120ms/step - loss: 0.0342 - acc: 0.9890 - val_loss: 0.6074 - val_acc: 0.9015\n",
            "Epoch 35/50\n",
            "100/100 [==============================] - 13s 130ms/step - loss: 0.0418 - acc: 0.9880 - val_loss: 0.5693 - val_acc: 0.9137\n",
            "Epoch 36/50\n",
            "100/100 [==============================] - 12s 120ms/step - loss: 0.0336 - acc: 0.9910 - val_loss: 0.5666 - val_acc: 0.9015\n",
            "Epoch 37/50\n",
            "100/100 [==============================] - 12s 119ms/step - loss: 0.0650 - acc: 0.9834 - val_loss: 0.6389 - val_acc: 0.9046\n",
            "Epoch 38/50\n",
            "100/100 [==============================] - 12s 121ms/step - loss: 0.0721 - acc: 0.9825 - val_loss: 0.7374 - val_acc: 0.8772\n",
            "Epoch 39/50\n",
            "100/100 [==============================] - 12s 118ms/step - loss: 0.0834 - acc: 0.9780 - val_loss: 0.7487 - val_acc: 0.8782\n",
            "Epoch 40/50\n",
            "100/100 [==============================] - 12s 120ms/step - loss: 0.0692 - acc: 0.9805 - val_loss: 0.7090 - val_acc: 0.9096\n",
            "Epoch 41/50\n",
            "100/100 [==============================] - 13s 127ms/step - loss: 0.0244 - acc: 0.9940 - val_loss: 0.5004 - val_acc: 0.9239\n",
            "Epoch 42/50\n",
            "100/100 [==============================] - 13s 126ms/step - loss: 0.0465 - acc: 0.9879 - val_loss: 0.5917 - val_acc: 0.9056\n",
            "Epoch 43/50\n",
            "100/100 [==============================] - 13s 133ms/step - loss: 0.0444 - acc: 0.9870 - val_loss: 0.7420 - val_acc: 0.8904\n",
            "Epoch 44/50\n",
            "100/100 [==============================] - 12s 120ms/step - loss: 0.0168 - acc: 0.9960 - val_loss: 0.5470 - val_acc: 0.9196\n",
            "Epoch 45/50\n",
            "100/100 [==============================] - 12s 121ms/step - loss: 0.0194 - acc: 0.9934 - val_loss: 0.5337 - val_acc: 0.9086\n",
            "Epoch 46/50\n",
            "100/100 [==============================] - 12s 120ms/step - loss: 0.0387 - acc: 0.9885 - val_loss: 0.6281 - val_acc: 0.9107\n",
            "Epoch 47/50\n",
            "100/100 [==============================] - 12s 122ms/step - loss: 0.0317 - acc: 0.9925 - val_loss: 0.5022 - val_acc: 0.9239\n",
            "Epoch 48/50\n",
            "100/100 [==============================] - 13s 129ms/step - loss: 0.0344 - acc: 0.9910 - val_loss: 0.6099 - val_acc: 0.9157\n",
            "Epoch 49/50\n",
            "100/100 [==============================] - 12s 119ms/step - loss: 0.0309 - acc: 0.9904 - val_loss: 0.5201 - val_acc: 0.9208\n",
            "Epoch 50/50\n",
            "100/100 [==============================] - 12s 122ms/step - loss: 0.0574 - acc: 0.9829 - val_loss: 0.5262 - val_acc: 0.9086\n"
          ],
          "name": "stdout"
        }
      ]
    },
    {
      "cell_type": "code",
      "metadata": {
        "id": "Vir6z4B907GL",
        "colab_type": "code",
        "colab": {
          "base_uri": "https://localhost:8080/",
          "height": 51
        },
        "outputId": "f3214eec-7e92-4269-9453-629b9ed14126"
      },
      "source": [
        "test_generator = test_datagen.flow_from_directory(\n",
        "        test_dir,\n",
        "        target_size=(150, 150),\n",
        "        batch_size=20,\n",
        "        class_mode='categorical')\n",
        "\n",
        "test_loss, test_acc = model.evaluate_generator(test_generator, steps=50)\n",
        "print('test acc:', test_acc)\n"
      ],
      "execution_count": 99,
      "outputs": [
        {
          "output_type": "stream",
          "text": [
            "Found 480 images belonging to 102 classes.\n",
            "test acc: 0.9039999949932098\n"
          ],
          "name": "stdout"
        }
      ]
    },
    {
      "cell_type": "code",
      "metadata": {
        "id": "US8JEdsx064A",
        "colab_type": "code",
        "colab": {
          "base_uri": "https://localhost:8080/",
          "height": 545
        },
        "outputId": "2b9dc6f5-6c51-4337-d005-3707575c4ff1"
      },
      "source": [
        "acc = history.history['acc']\n",
        "val_acc = history.history['val_acc']\n",
        "loss = history.history['loss']\n",
        "val_loss = history.history['val_loss']\n",
        "\n",
        "epochs = range(len(acc))\n",
        "\n",
        "plt.plot(epochs, acc, 'bo', label='Training acc')\n",
        "plt.plot(epochs, val_acc, 'b', label='Validation acc')\n",
        "plt.title('Training and validation accuracy')\n",
        "plt.legend()\n",
        "\n",
        "plt.figure()\n",
        "\n",
        "plt.plot(epochs, loss, 'bo', label='Training loss')\n",
        "plt.plot(epochs, val_loss, 'b', label='Validation loss')\n",
        "plt.title('Training and validation loss')\n",
        "plt.legend()\n",
        "\n",
        "plt.show()\n"
      ],
      "execution_count": 100,
      "outputs": [
        {
          "output_type": "display_data",
          "data": {
            "image/png": "[encoded data removed]",
            "text/plain": [
              "<Figure size 432x288 with 1 Axes>"
            ]
          },
          "metadata": {
            "tags": []
          }
        },
        {
          "output_type": "display_data",
          "data": {
            "image/png": "[encoded data removed]",
            "text/plain": [
              "<Figure size 432x288 with 1 Axes>"
            ]
          },
          "metadata": {
            "tags": []
          }
        }
      ]
    },
    {
      "cell_type": "code",
      "metadata": {
        "id": "lr8DiDyeFMiF",
        "colab_type": "code",
        "colab": {
          "base_uri": "https://localhost:8080/",
          "height": 51
        },
        "outputId": "807f7cfb-8902-4835-e00b-e3d551268330"
      },
      "source": [
        "model.save(\"/content/drive/My Drive/data/caltech_101/caltech_InceptionV3_2.h5\")\n",
        "\n",
        "!ls \"/content/drive/My Drive/data/caltech_101/\"\n"
      ],
      "execution_count": 101,
      "outputs": [
        {
          "output_type": "stream",
          "text": [
            "101_ObjectCategories\t  caltech_InceptionV3_2.h5  data\n",
            "caltech_InceptionV3_1.h5  caltech_resnet_1.h5\n"
          ],
          "name": "stdout"
        }
      ]
    },
    {
      "cell_type": "markdown",
      "metadata": {
        "id": "Mr8doaV6MtyI",
        "colab_type": "text"
      },
      "source": [
        "# Expt 2:"
      ]
    },
    {
      "cell_type": "code",
      "metadata": {
        "id": "xV4wb8yNFMqn",
        "colab_type": "code",
        "colab": {
          "base_uri": "https://localhost:8080/",
          "height": 34
        },
        "outputId": "f3be73ab-9e46-4e9b-a788-567398b59524"
      },
      "source": [
        "# create the base pre-trained model\n",
        "base_model = InceptionV3(weights='imagenet', include_top=False)\n",
        "\n",
        "# add a global spatial average pooling layer\n",
        "x = base_model.output\n",
        "x = GlobalAveragePooling2D()(x)\n",
        "# let's add a fully-connected layer\n",
        "x = Dense(1024, activation='relu')(x)\n",
        "# and a logistic layer -- let's say we have 102 classes\n",
        "predictions = Dense(102, activation='softmax')(x)\n",
        "\n",
        "# this is the model we will train\n",
        "model = Model(inputs=base_model.input, outputs=predictions)\n",
        "\n",
        "len(model.trainable_weights)"
      ],
      "execution_count": 102,
      "outputs": [
        {
          "output_type": "execute_result",
          "data": {
            "text/plain": [
              "192"
            ]
          },
          "metadata": {
            "tags": []
          },
          "execution_count": 102
        }
      ]
    },
    {
      "cell_type": "code",
      "metadata": {
        "id": "3YurrEiaFNCj",
        "colab_type": "code",
        "colab": {
          "base_uri": "https://localhost:8080/",
          "height": 34
        },
        "outputId": "6b0015e6-7b04-4bd4-aa99-119a3d463a3b"
      },
      "source": [
        "for layer in base_model.layers:\n",
        "    layer.trainable = False\n",
        "\n",
        "len(model.trainable_weights)\n"
      ],
      "execution_count": 103,
      "outputs": [
        {
          "output_type": "execute_result",
          "data": {
            "text/plain": [
              "4"
            ]
          },
          "metadata": {
            "tags": []
          },
          "execution_count": 103
        }
      ]
    },
    {
      "cell_type": "code",
      "metadata": {
        "id": "RsSRXhsbFM_E",
        "colab_type": "code",
        "colab": {}
      },
      "source": [
        "# compile the model (should be done *after* setting layers to non-trainable)\n",
        "model.compile(optimizer=optimizers.Adam(), loss='categorical_crossentropy', metrics=['acc'])\n"
      ],
      "execution_count": 0,
      "outputs": []
    },
    {
      "cell_type": "code",
      "metadata": {
        "id": "0GA5_Eo8FM8N",
        "colab_type": "code",
        "colab": {
          "base_uri": "https://localhost:8080/",
          "height": 34
        },
        "outputId": "ce6aac81-4cb1-4743-9f70-ace0fa6998f6"
      },
      "source": [
        "train_datagen = ImageDataGenerator(\n",
        "      rescale=1./255,\n",
        "      rotation_range=40,\n",
        "      width_shift_range=0.2,\n",
        "      height_shift_range=0.2,\n",
        "      shear_range=0.2,\n",
        "      zoom_range=0.2,\n",
        "      horizontal_flip=True,\n",
        "      fill_mode='nearest')\n",
        "\n",
        "\n",
        "train_generator = train_datagen.flow_from_directory(\n",
        "        # This is the target directory\n",
        "        train_dir,\n",
        "        # All images will be resized to 150x150\n",
        "        target_size=(150, 150),\n",
        "        batch_size=20,\n",
        "        # Since we use binary_crossentropy loss, we need binary labels\n",
        "        class_mode='categorical')\n"
      ],
      "execution_count": 105,
      "outputs": [
        {
          "output_type": "stream",
          "text": [
            "Found 3238 images belonging to 102 classes.\n"
          ],
          "name": "stdout"
        }
      ]
    },
    {
      "cell_type": "code",
      "metadata": {
        "id": "H-qxrte1FM49",
        "colab_type": "code",
        "colab": {
          "base_uri": "https://localhost:8080/",
          "height": 122
        },
        "outputId": "1dc4c59b-d4db-4c6a-9ed2-e70736a9a8a9"
      },
      "source": [
        "model.fit_generator(\n",
        "      train_generator,\n",
        "      steps_per_epoch=100,\n",
        "      epochs=2,\n",
        "      validation_data=validation_generator,\n",
        "      validation_steps=50)\n"
      ],
      "execution_count": 106,
      "outputs": [
        {
          "output_type": "stream",
          "text": [
            "Epoch 1/2\n",
            "100/100 [==============================] - 57s 565ms/step - loss: 1.9860 - acc: 0.5360 - val_loss: 1.6871 - val_acc: 0.6680\n",
            "Epoch 2/2\n",
            "100/100 [==============================] - 19s 193ms/step - loss: 1.1776 - acc: 0.6746 - val_loss: 1.0713 - val_acc: 0.7584\n"
          ],
          "name": "stdout"
        },
        {
          "output_type": "execute_result",
          "data": {
            "text/plain": [
              "<keras.callbacks.History at 0x7f6c856a1ef0>"
            ]
          },
          "metadata": {
            "tags": []
          },
          "execution_count": 106
        }
      ]
    },
    {
      "cell_type": "code",
      "metadata": {
        "id": "gKrp0A1EFM2w",
        "colab_type": "code",
        "colab": {}
      },
      "source": [
        "# we chose to train the top 2 inception blocks, i.e. we will freeze\n",
        "# the first 249 layers and unfreeze the rest:\n",
        "for layer in model.layers[:249]:\n",
        "   layer.trainable = False\n",
        "for layer in model.layers[249:]:\n",
        "   layer.trainable = True\n"
      ],
      "execution_count": 0,
      "outputs": []
    },
    {
      "cell_type": "code",
      "metadata": {
        "id": "cxmXigwNFM0h",
        "colab_type": "code",
        "colab": {}
      },
      "source": [
        "model.compile(optimizer=optimizers.Adam(), loss='categorical_crossentropy', metrics=['acc'])\n"
      ],
      "execution_count": 0,
      "outputs": []
    },
    {
      "cell_type": "code",
      "metadata": {
        "id": "FwGzbaDtFMxf",
        "colab_type": "code",
        "colab": {
          "base_uri": "https://localhost:8080/",
          "height": 1771
        },
        "outputId": "1da44f55-41bf-400b-d88f-a3487e932e39"
      },
      "source": [
        "%%time\n",
        "history = model.fit_generator(\n",
        "      train_generator,\n",
        "      steps_per_epoch=100,\n",
        "      epochs=50,\n",
        "      validation_data=validation_generator,\n",
        "      validation_steps=50)\n"
      ],
      "execution_count": 109,
      "outputs": [
        {
          "output_type": "stream",
          "text": [
            "Epoch 1/50\n",
            "100/100 [==============================] - 61s 608ms/step - loss: 1.1225 - acc: 0.7005 - val_loss: 1.2448 - val_acc: 0.7990\n",
            "Epoch 2/50\n",
            "100/100 [==============================] - 20s 203ms/step - loss: 0.7480 - acc: 0.7933 - val_loss: 1.0385 - val_acc: 0.8030\n",
            "Epoch 3/50\n",
            "100/100 [==============================] - 20s 201ms/step - loss: 0.6358 - acc: 0.8126 - val_loss: 1.3895 - val_acc: 0.7619\n",
            "Epoch 4/50\n",
            "100/100 [==============================] - 21s 208ms/step - loss: 0.4956 - acc: 0.8595 - val_loss: 1.0997 - val_acc: 0.8152\n",
            "Epoch 5/50\n",
            "100/100 [==============================] - 21s 209ms/step - loss: 0.4768 - acc: 0.8673 - val_loss: 0.8361 - val_acc: 0.8609\n",
            "Epoch 6/50\n",
            "100/100 [==============================] - 20s 201ms/step - loss: 0.4694 - acc: 0.8712 - val_loss: 0.6979 - val_acc: 0.8711\n",
            "Epoch 7/50\n",
            "100/100 [==============================] - 20s 202ms/step - loss: 0.4195 - acc: 0.8785 - val_loss: 0.6587 - val_acc: 0.8701\n",
            "Epoch 8/50\n",
            "100/100 [==============================] - 21s 207ms/step - loss: 0.3353 - acc: 0.9094 - val_loss: 0.7919 - val_acc: 0.8832\n",
            "Epoch 9/50\n",
            "100/100 [==============================] - 21s 205ms/step - loss: 0.3345 - acc: 0.9030 - val_loss: 0.8849 - val_acc: 0.8335\n",
            "Epoch 10/50\n",
            "100/100 [==============================] - 20s 200ms/step - loss: 0.2819 - acc: 0.9194 - val_loss: 0.6649 - val_acc: 0.8893\n",
            "Epoch 11/50\n",
            "100/100 [==============================] - 22s 220ms/step - loss: 0.2969 - acc: 0.9129 - val_loss: 0.9127 - val_acc: 0.8234\n",
            "Epoch 12/50\n",
            "100/100 [==============================] - 22s 216ms/step - loss: 0.2735 - acc: 0.9175 - val_loss: 0.7099 - val_acc: 0.8619\n",
            "Epoch 13/50\n",
            "100/100 [==============================] - 20s 201ms/step - loss: 0.2328 - acc: 0.9319 - val_loss: 1.1853 - val_acc: 0.8416\n",
            "Epoch 14/50\n",
            "100/100 [==============================] - 20s 198ms/step - loss: 0.2402 - acc: 0.9300 - val_loss: 0.6414 - val_acc: 0.8990\n",
            "Epoch 15/50\n",
            "100/100 [==============================] - 20s 200ms/step - loss: 0.2434 - acc: 0.9304 - val_loss: 1.0532 - val_acc: 0.8426\n",
            "Epoch 16/50\n",
            "100/100 [==============================] - 21s 215ms/step - loss: 0.2537 - acc: 0.9255 - val_loss: 1.2873 - val_acc: 0.8081\n",
            "Epoch 17/50\n",
            "100/100 [==============================] - 20s 199ms/step - loss: 0.2457 - acc: 0.9250 - val_loss: 0.7187 - val_acc: 0.8792\n",
            "Epoch 18/50\n",
            "100/100 [==============================] - 20s 202ms/step - loss: 0.2139 - acc: 0.9358 - val_loss: 0.8881 - val_acc: 0.8579\n",
            "Epoch 19/50\n",
            "100/100 [==============================] - 20s 199ms/step - loss: 0.2319 - acc: 0.9324 - val_loss: 0.7445 - val_acc: 0.8802\n",
            "Epoch 20/50\n",
            "100/100 [==============================] - 22s 221ms/step - loss: 0.1917 - acc: 0.9465 - val_loss: 0.5549 - val_acc: 0.9036\n",
            "Epoch 21/50\n",
            "100/100 [==============================] - 20s 201ms/step - loss: 0.2042 - acc: 0.9365 - val_loss: 0.6653 - val_acc: 0.8863\n",
            "Epoch 22/50\n",
            "100/100 [==============================] - 20s 202ms/step - loss: 0.2216 - acc: 0.9345 - val_loss: 0.6014 - val_acc: 0.8904\n",
            "Epoch 23/50\n",
            "100/100 [==============================] - 21s 207ms/step - loss: 0.2036 - acc: 0.9419 - val_loss: 0.5749 - val_acc: 0.8985\n",
            "Epoch 24/50\n",
            "100/100 [==============================] - 22s 218ms/step - loss: 0.1971 - acc: 0.9379 - val_loss: 0.9501 - val_acc: 0.8619\n",
            "Epoch 25/50\n",
            "100/100 [==============================] - 21s 205ms/step - loss: 0.1701 - acc: 0.9550 - val_loss: 0.8537 - val_acc: 0.8761\n",
            "Epoch 26/50\n",
            "100/100 [==============================] - 22s 222ms/step - loss: 0.2218 - acc: 0.9369 - val_loss: 0.6624 - val_acc: 0.8969\n",
            "Epoch 27/50\n",
            "100/100 [==============================] - 21s 207ms/step - loss: 0.1902 - acc: 0.9440 - val_loss: 1.0743 - val_acc: 0.8365\n",
            "Epoch 28/50\n",
            "100/100 [==============================] - 22s 217ms/step - loss: 0.1851 - acc: 0.9480 - val_loss: 0.8482 - val_acc: 0.8711\n",
            "Epoch 29/50\n",
            "100/100 [==============================] - 20s 203ms/step - loss: 0.1771 - acc: 0.9450 - val_loss: 0.7902 - val_acc: 0.8741\n",
            "Epoch 30/50\n",
            "100/100 [==============================] - 20s 201ms/step - loss: 0.1532 - acc: 0.9580 - val_loss: 0.5960 - val_acc: 0.8914\n",
            "Epoch 31/50\n",
            "100/100 [==============================] - 20s 203ms/step - loss: 0.1788 - acc: 0.9504 - val_loss: 0.5038 - val_acc: 0.8914\n",
            "Epoch 32/50\n",
            "100/100 [==============================] - 22s 217ms/step - loss: 0.1548 - acc: 0.9510 - val_loss: 0.6549 - val_acc: 0.8893\n",
            "Epoch 33/50\n",
            "100/100 [==============================] - 20s 203ms/step - loss: 0.1190 - acc: 0.9670 - val_loss: 0.6873 - val_acc: 0.8904\n",
            "Epoch 34/50\n",
            "100/100 [==============================] - 20s 204ms/step - loss: 0.1506 - acc: 0.9550 - val_loss: 0.6998 - val_acc: 0.8782\n",
            "Epoch 35/50\n",
            "100/100 [==============================] - 20s 205ms/step - loss: 0.1674 - acc: 0.9525 - val_loss: 0.7392 - val_acc: 0.8822\n",
            "Epoch 36/50\n",
            "100/100 [==============================] - 21s 214ms/step - loss: 0.1328 - acc: 0.9589 - val_loss: 0.7257 - val_acc: 0.8914\n",
            "Epoch 37/50\n",
            "100/100 [==============================] - 20s 202ms/step - loss: 0.1579 - acc: 0.9545 - val_loss: 1.0087 - val_acc: 0.8619\n",
            "Epoch 38/50\n",
            "100/100 [==============================] - 20s 203ms/step - loss: 0.1188 - acc: 0.9645 - val_loss: 0.9374 - val_acc: 0.8589\n",
            "Epoch 39/50\n",
            "100/100 [==============================] - 20s 205ms/step - loss: 0.1591 - acc: 0.9519 - val_loss: 1.0616 - val_acc: 0.8274\n",
            "Epoch 40/50\n",
            "100/100 [==============================] - 22s 218ms/step - loss: 0.1405 - acc: 0.9555 - val_loss: 0.8563 - val_acc: 0.8579\n",
            "Epoch 41/50\n",
            "100/100 [==============================] - 22s 216ms/step - loss: 0.1667 - acc: 0.9514 - val_loss: 0.6287 - val_acc: 0.8782\n",
            "Epoch 42/50\n",
            "100/100 [==============================] - 20s 204ms/step - loss: 0.1262 - acc: 0.9624 - val_loss: 0.6250 - val_acc: 0.9025\n",
            "Epoch 43/50\n",
            "100/100 [==============================] - 21s 213ms/step - loss: 0.1371 - acc: 0.9580 - val_loss: 0.8745 - val_acc: 0.8690\n",
            "Epoch 44/50\n",
            "100/100 [==============================] - 21s 206ms/step - loss: 0.0997 - acc: 0.9724 - val_loss: 0.7004 - val_acc: 0.8863\n",
            "Epoch 45/50\n",
            "100/100 [==============================] - 20s 202ms/step - loss: 0.1287 - acc: 0.9634 - val_loss: 0.6721 - val_acc: 0.8904\n",
            "Epoch 46/50\n",
            "100/100 [==============================] - 20s 202ms/step - loss: 0.1237 - acc: 0.9665 - val_loss: 0.8446 - val_acc: 0.8893\n",
            "Epoch 47/50\n",
            "100/100 [==============================] - 21s 214ms/step - loss: 0.1037 - acc: 0.9664 - val_loss: 0.9457 - val_acc: 0.8893\n",
            "Epoch 48/50\n",
            "100/100 [==============================] - 20s 201ms/step - loss: 0.1267 - acc: 0.9660 - val_loss: 0.8011 - val_acc: 0.8934\n",
            "Epoch 49/50\n",
            "100/100 [==============================] - 20s 200ms/step - loss: 0.1399 - acc: 0.9529 - val_loss: 0.7638 - val_acc: 0.8814\n",
            "Epoch 50/50\n",
            "100/100 [==============================] - 20s 199ms/step - loss: 0.1519 - acc: 0.9560 - val_loss: 0.6498 - val_acc: 0.8883\n",
            "CPU times: user 21min 7s, sys: 1min 5s, total: 22min 12s\n",
            "Wall time: 17min 54s\n"
          ],
          "name": "stdout"
        }
      ]
    },
    {
      "cell_type": "code",
      "metadata": {
        "id": "j4ySjFCmGO_q",
        "colab_type": "code",
        "colab": {
          "base_uri": "https://localhost:8080/",
          "height": 51
        },
        "outputId": "8b869ddb-54f3-4bc3-ed60-9c5dd0fd33bd"
      },
      "source": [
        "test_generator = test_datagen.flow_from_directory(\n",
        "        test_dir,\n",
        "        target_size=(150, 150),\n",
        "        batch_size=20,\n",
        "        class_mode='categorical')\n",
        "\n",
        "test_loss, test_acc = model.evaluate_generator(test_generator, steps=50)\n",
        "print('test acc:', test_acc)\n"
      ],
      "execution_count": 110,
      "outputs": [
        {
          "output_type": "stream",
          "text": [
            "Found 480 images belonging to 102 classes.\n",
            "test acc: 0.8849999952316284\n"
          ],
          "name": "stdout"
        }
      ]
    },
    {
      "cell_type": "code",
      "metadata": {
        "id": "gYgSMJorGSsQ",
        "colab_type": "code",
        "colab": {
          "base_uri": "https://localhost:8080/",
          "height": 545
        },
        "outputId": "ce2e0794-d309-43c2-d08e-dcb2aa1dca66"
      },
      "source": [
        "acc = history.history['acc']\n",
        "val_acc = history.history['val_acc']\n",
        "loss = history.history['loss']\n",
        "val_loss = history.history['val_loss']\n",
        "\n",
        "epochs = range(len(acc))\n",
        "\n",
        "plt.plot(epochs, acc, 'bo', label='Training acc')\n",
        "plt.plot(epochs, val_acc, 'b', label='Validation acc')\n",
        "plt.title('Training and validation accuracy')\n",
        "plt.legend()\n",
        "\n",
        "plt.figure()\n",
        "\n",
        "plt.plot(epochs, loss, 'bo', label='Training loss')\n",
        "plt.plot(epochs, val_loss, 'b', label='Validation loss')\n",
        "plt.title('Training and validation loss')\n",
        "plt.legend()\n",
        "\n",
        "plt.show()"
      ],
      "execution_count": 111,
      "outputs": [
        {
          "output_type": "display_data",
          "data": {
            "image/png": "[encoded data removed]",
            "text/plain": [
              "<Figure size 432x288 with 1 Axes>"
            ]
          },
          "metadata": {
            "tags": []
          }
        },
        {
          "output_type": "display_data",
          "data": {
            "image/png": "[encoded data removed]",
            "text/plain": [
              "<Figure size 432x288 with 1 Axes>"
            ]
          },
          "metadata": {
            "tags": []
          }
        }
      ]
    },
    {
      "cell_type": "code",
      "metadata": {
        "id": "dr8_-NtsPh7x",
        "colab_type": "code",
        "colab": {
          "base_uri": "https://localhost:8080/",
          "height": 51
        },
        "outputId": "ceb8cc04-e781-48de-d195-839eceb40ff8"
      },
      "source": [
        "model.save(\"/content/drive/My Drive/data/caltech_101/caltech_InceptionV3_1.h5\")\n",
        "\n",
        "!ls \"/content/drive/My Drive/data/caltech_101/\"\n"
      ],
      "execution_count": 112,
      "outputs": [
        {
          "output_type": "stream",
          "text": [
            "101_ObjectCategories\t  caltech_InceptionV3_2.h5  data\n",
            "caltech_InceptionV3_1.h5  caltech_resnet_1.h5\n"
          ],
          "name": "stdout"
        }
      ]
    }
  ]
}