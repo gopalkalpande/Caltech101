{
  "nbformat": 4,
  "nbformat_minor": 0,
  "metadata": {
    "colab": {
      "name": "Caltech101_Object_Classification.ipynb",
      "version": "0.3.2",
      "provenance": [],
      "include_colab_link": true
    },
    "kernelspec": {
      "name": "python3",
      "display_name": "Python 3"
    },
    "accelerator": "GPU"
  },
  "cells": [
    {
      "cell_type": "markdown",
      "metadata": {
        "id": "view-in-github",
        "colab_type": "text"
      },
      "source": [
        "<a href=\"https://colab.research.google.com/github/gopalkalpande/Caltech101/blob/master/Caltech101_Object_Classification.ipynb\" target=\"_parent\"><img src=\"https://colab.research.google.com/assets/colab-badge.svg\" alt=\"Open In Colab\"/></a>"
      ]
    },
    {
      "cell_type": "code",
      "metadata": {
        "id": "1jFRcH9T2OhL",
        "colab_type": "code",
        "colab": {
          "base_uri": "https://localhost:8080/",
          "height": 35
        },
        "outputId": "7a781f5f-9334-48ea-8950-b87a935901c0"
      },
      "source": [
        "from google.colab import drive\n",
        "drive.mount('/content/drive')"
      ],
      "execution_count": 1,
      "outputs": [
        {
          "output_type": "stream",
          "text": [
            "Drive already mounted at /content/drive; to attempt to forcibly remount, call drive.mount(\"/content/drive\", force_remount=True).\n"
          ],
          "name": "stdout"
        }
      ]
    },
    {
      "cell_type": "code",
      "metadata": {
        "id": "aQ5Y-o3m2Ued",
        "colab_type": "code",
        "colab": {
          "base_uri": "https://localhost:8080/",
          "height": 35
        },
        "outputId": "1b6f1f2a-53f2-4731-9daf-9ee2809dda40"
      },
      "source": [
        "!ls \"/content/drive/My Drive/data/caltech101/\""
      ],
      "execution_count": 2,
      "outputs": [
        {
          "output_type": "stream",
          "text": [
            "101_ObjectCategories  data.csv\tX.joblib  X.npy  Y.npy\n"
          ],
          "name": "stdout"
        }
      ]
    },
    {
      "cell_type": "code",
      "metadata": {
        "id": "nNBuZPDo3QLU",
        "colab_type": "code",
        "colab": {}
      },
      "source": [
        "import pandas as pd"
      ],
      "execution_count": 0,
      "outputs": []
    },
    {
      "cell_type": "code",
      "metadata": {
        "id": "UOqHpTK_38Wv",
        "colab_type": "code",
        "colab": {}
      },
      "source": [
        "from sklearn.model_selection import train_test_split"
      ],
      "execution_count": 0,
      "outputs": []
    },
    {
      "cell_type": "code",
      "metadata": {
        "id": "5hYGsZEv3UWI",
        "colab_type": "code",
        "colab": {}
      },
      "source": [
        "import shutil\n",
        "import os\n",
        "#source = os.listdir(\"/tmp/\")\n",
        "\"\"\"destination = \"/content/drive/My Drive/data/caltech101/train\"\n",
        "for files in source:\n",
        "    if files.endswith(\".txt\"):\n",
        "        shutil.copy(files,destination)\"\"\""
      ],
      "execution_count": 0,
      "outputs": []
    },
    {
      "cell_type": "code",
      "metadata": {
        "id": "LiSi1qqA3UZA",
        "colab_type": "code",
        "colab": {}
      },
      "source": [
        "import shutil, os\n",
        "\n",
        "\"\"\"for f in X_train:\n",
        "    shutil.copy(f, '/content/drive/My Drive/data/caltech101/train')\"\"\""
      ],
      "execution_count": 0,
      "outputs": []
    },
    {
      "cell_type": "code",
      "metadata": {
        "id": "LjHjXuMr5Bgm",
        "colab_type": "code",
        "colab": {}
      },
      "source": [
        "#!ls \"/content/drive/My Drive/data/caltech101/train\""
      ],
      "execution_count": 0,
      "outputs": []
    },
    {
      "cell_type": "code",
      "metadata": {
        "id": "FP90nSYU5Rnq",
        "colab_type": "code",
        "colab": {}
      },
      "source": [
        "\"\"\"for f in X_test:\n",
        "    shutil.copy(f, '/content/drive/My Drive/data/caltech101/test')\"\"\""
      ],
      "execution_count": 0,
      "outputs": []
    },
    {
      "cell_type": "code",
      "metadata": {
        "id": "OrUgiqK95ak_",
        "colab_type": "code",
        "colab": {}
      },
      "source": [
        "#!ls \"/content/drive/My Drive/data/caltech101/test\""
      ],
      "execution_count": 0,
      "outputs": []
    },
    {
      "cell_type": "code",
      "metadata": {
        "id": "nJCHEs3C5bff",
        "colab_type": "code",
        "colab": {}
      },
      "source": [
        "\"\"\"for f in X_valid:\n",
        "    shutil.copy(f, '/content/drive/My Drive/data/caltech101/validation')\"\"\""
      ],
      "execution_count": 0,
      "outputs": []
    },
    {
      "cell_type": "code",
      "metadata": {
        "id": "HnqKZLsN5bkq",
        "colab_type": "code",
        "colab": {}
      },
      "source": [
        "#!ls \"/content/drive/My Drive/data/caltech101/validation\""
      ],
      "execution_count": 0,
      "outputs": []
    },
    {
      "cell_type": "code",
      "metadata": {
        "id": "d-Qtd3Oh6D2G",
        "colab_type": "code",
        "colab": {
          "base_uri": "https://localhost:8080/",
          "height": 35
        },
        "outputId": "9ed951af-91fe-434c-b915-12b211b192d4"
      },
      "source": [
        "from sklearn import preprocessing\n",
        "le = preprocessing.LabelEncoder()\n",
        "#le.fit(Y)"
      ],
      "execution_count": 22,
      "outputs": [
        {
          "output_type": "execute_result",
          "data": {
            "text/plain": [
              "LabelEncoder()"
            ]
          },
          "metadata": {
            "tags": []
          },
          "execution_count": 22
        }
      ]
    },
    {
      "cell_type": "code",
      "metadata": {
        "id": "zmrmesDs6EQt",
        "colab_type": "code",
        "colab": {}
      },
      "source": [
        "\"\"\"Y_train= le.transform(Y_train)\n",
        "Y_valid= le.transform(Y_valid)\n",
        "Y_test= le.transform(Y_test)\"\"\""
      ],
      "execution_count": 0,
      "outputs": []
    },
    {
      "cell_type": "code",
      "metadata": {
        "id": "Z6EIFiZu5wZi",
        "colab_type": "code",
        "colab": {
          "base_uri": "https://localhost:8080/",
          "height": 35
        },
        "outputId": "1e8611af-a5d1-4ef5-97d7-e710046bef42"
      },
      "source": [
        "from sklearn.externals import joblib\n",
        "\"\"\"\n",
        "joblib.dump(Y_test, '/content/drive/My Drive/data/caltech101/Y_test.joblib') \n",
        "joblib.dump(Y_train, '/content/drive/My Drive/data/caltech101/Y_train.joblib') \n",
        "joblib.dump(Y_valid, '/content/drive/My Drive/data/caltech101/Y_valid.joblib') \"\"\""
      ],
      "execution_count": 24,
      "outputs": [
        {
          "output_type": "execute_result",
          "data": {
            "text/plain": [
              "['/content/drive/My Drive/data/caltech101/Y_valid.joblib']"
            ]
          },
          "metadata": {
            "tags": []
          },
          "execution_count": 24
        }
      ]
    },
    {
      "cell_type": "code",
      "metadata": {
        "id": "O5ntYZ-r63Kf",
        "colab_type": "code",
        "colab": {
          "base_uri": "https://localhost:8080/",
          "height": 54
        },
        "outputId": "1f6bf72d-5eed-42a6-cf3d-d2ced229e95b"
      },
      "source": [
        "!ls '/content/drive/My Drive/data/caltech101/'"
      ],
      "execution_count": 25,
      "outputs": [
        {
          "output_type": "stream",
          "text": [
            "101_ObjectCategories  test   validation  X.npy\tY_test.joblib\tY_valid.joblib\n",
            "data.csv\t      train  X.joblib\t Y.npy\tY_train.joblib\n"
          ],
          "name": "stdout"
        }
      ]
    },
    {
      "cell_type": "code",
      "metadata": {
        "id": "kD9QXY7W7Be9",
        "colab_type": "code",
        "colab": {
          "base_uri": "https://localhost:8080/",
          "height": 54
        },
        "outputId": "29352b39-1187-4651-c652-88f92eed6cd9"
      },
      "source": [
        "import os\n",
        "\n",
        "os.environ[\"CUDA_DEVICE_ORDER\"]=\"PCI_BUS_ID\"\n",
        "# The GPU id to use, usually either \"0\" or \"1\"\n",
        "os.environ[\"CUDA_VISIBLE_DEVICES\"]=\"0\" \n",
        "\n",
        "import numpy as np\n",
        "import cv2\n",
        "from matplotlib import pyplot as plt\n",
        "\n",
        "import keras\n",
        "print(\"keras version: \", keras.__version__)\n",
        "\n",
        "import tensorflow as tf\n",
        "print(\"tensoflow version: \", tf.__version__)"
      ],
      "execution_count": 26,
      "outputs": [
        {
          "output_type": "stream",
          "text": [
            "keras version:  2.2.4\n",
            "tensoflow version:  1.13.1\n"
          ],
          "name": "stdout"
        }
      ]
    },
    {
      "cell_type": "code",
      "metadata": {
        "id": "7BS8viHc7LH9",
        "colab_type": "code",
        "colab": {}
      },
      "source": [
        "# istructions from: https://michaelblogscode.wordpress.com/2017/10/10/reducing-and-profiling-gpu-memory-usage-in-keras-with-tensorflow-backend/\n",
        "\n",
        "# TensorFlow wizardry\n",
        "config = tf.ConfigProto()\n",
        " \n",
        "# Don't pre-allocate memory; allocate as-needed\n",
        "config.gpu_options.allow_growth = True\n",
        " \n",
        "# Only allow a total of half the GPU memory to be allocated\n",
        "config.gpu_options.per_process_gpu_memory_fraction = 0.9\n",
        " \n",
        "# Create a session with the above options specified.\n",
        "keras.backend.tensorflow_backend.set_session(tf.Session(config=config))"
      ],
      "execution_count": 0,
      "outputs": []
    },
    {
      "cell_type": "code",
      "metadata": {
        "id": "VQcVUnOZ7db_",
        "colab_type": "code",
        "colab": {
          "base_uri": "https://localhost:8080/",
          "height": 35
        },
        "outputId": "20f43d57-7def-4239-9dc7-eb1b67b2f353"
      },
      "source": [
        "dataset_path = '/content/drive/My Drive/data/caltech_101/101_ObjectCategories'\n",
        "folder_names = []\n",
        "folder_names = [f for f in sorted(os.listdir(dataset_path))]\n",
        "\n",
        "print(len(folder_names)) # 102 = 101 categories + background"
      ],
      "execution_count": 32,
      "outputs": [
        {
          "output_type": "stream",
          "text": [
            "102\n"
          ],
          "name": "stdout"
        }
      ]
    },
    {
      "cell_type": "code",
      "metadata": {
        "id": "siSE608w7dfl",
        "colab_type": "code",
        "colab": {}
      },
      "source": [
        "# directories to use. Run the other cells ONLY ONCE to create the splitting\n",
        "\n",
        "base_path = '/content/drive/My Drive/data/caltech_101/101_ObjectCategories'\n",
        "train_dir = os.path.join(base_path, 'train')\n",
        "validation_dir = os.path.join(base_path, 'validation')\n",
        "test_dir = os.path.join(base_path, 'test')"
      ],
      "execution_count": 0,
      "outputs": []
    },
    {
      "cell_type": "code",
      "metadata": {
        "id": "obo_FCTC7dik",
        "colab_type": "code",
        "colab": {
          "base_uri": "https://localhost:8080/",
          "height": 35
        },
        "outputId": "321020ec-cc6a-47a4-865b-750c3321f7c5"
      },
      "source": [
        "!ls '/content/drive/My Drive/data/caltech_101/'"
      ],
      "execution_count": 36,
      "outputs": [
        {
          "output_type": "stream",
          "text": [
            "101_ObjectCategories\n"
          ],
          "name": "stdout"
        }
      ]
    },
    {
      "cell_type": "code",
      "metadata": {
        "id": "Y0YYPCq_BFm3",
        "colab_type": "code",
        "colab": {
          "base_uri": "https://localhost:8080/",
          "height": 1890
        },
        "outputId": "35df94f2-ee0b-4586-84d7-8ac921869c22"
      },
      "source": [
        "category_dict = {}\n",
        "images_per_category_dict = {}\n",
        "category_images_path_dict = {}\n",
        "\n",
        "total_images = 0\n",
        "\n",
        "for i, category in enumerate(folder_names):\n",
        "    category_dict[i] = category\n",
        "    \n",
        "    folder_path = dataset_path + '/' + category\n",
        "    #image_names = [os.path.join(folder_path, img) for img in sorted(os.listdir(folder_path))]\n",
        "    image_names = [img for img in sorted(os.listdir(folder_path))]\n",
        "    \n",
        "    images_per_category_dict[i] = len(image_names)\n",
        "    category_images_path_dict[i] = image_names\n",
        "    \n",
        "    print('%s: %d' %(category, images_per_category_dict[i]))\n",
        "    total_images += images_per_category_dict[i]\n",
        "    \n",
        "print('Total images in dataset: %d' %(total_images))"
      ],
      "execution_count": 40,
      "outputs": [
        {
          "output_type": "stream",
          "text": [
            "BACKGROUND_Google: 468\n",
            "Faces: 435\n",
            "Faces_easy: 435\n",
            "Leopards: 200\n",
            "Motorbikes: 798\n",
            "accordion: 55\n",
            "airplanes: 800\n",
            "anchor: 42\n",
            "ant: 42\n",
            "barrel: 47\n",
            "bass: 54\n",
            "beaver: 46\n",
            "binocular: 33\n",
            "bonsai: 128\n",
            "brain: 98\n",
            "brontosaurus: 43\n",
            "buddha: 85\n",
            "butterfly: 91\n",
            "camera: 50\n",
            "cannon: 43\n",
            "car_side: 123\n",
            "ceiling_fan: 47\n",
            "cellphone: 59\n",
            "chair: 62\n",
            "chandelier: 107\n",
            "cougar_body: 47\n",
            "cougar_face: 69\n",
            "crab: 73\n",
            "crayfish: 70\n",
            "crocodile: 50\n",
            "crocodile_head: 51\n",
            "cup: 57\n",
            "dalmatian: 67\n",
            "dollar_bill: 52\n",
            "dolphin: 65\n",
            "dragonfly: 68\n",
            "electric_guitar: 75\n",
            "elephant: 64\n",
            "emu: 53\n",
            "euphonium: 64\n",
            "ewer: 85\n",
            "ferry: 67\n",
            "flamingo: 67\n",
            "flamingo_head: 45\n",
            "garfield: 34\n",
            "gerenuk: 34\n",
            "gramophone: 51\n",
            "grand_piano: 99\n",
            "hawksbill: 100\n",
            "headphone: 42\n",
            "hedgehog: 54\n",
            "helicopter: 88\n",
            "ibis: 80\n",
            "inline_skate: 31\n",
            "joshua_tree: 64\n",
            "kangaroo: 86\n",
            "ketch: 114\n",
            "lamp: 61\n",
            "laptop: 81\n",
            "llama: 78\n",
            "lobster: 41\n",
            "lotus: 66\n",
            "mandolin: 43\n",
            "mayfly: 40\n",
            "menorah: 87\n",
            "metronome: 32\n",
            "minaret: 76\n",
            "nautilus: 55\n",
            "octopus: 35\n",
            "okapi: 39\n",
            "pagoda: 47\n",
            "panda: 38\n",
            "pigeon: 45\n",
            "pizza: 53\n",
            "platypus: 34\n",
            "pyramid: 57\n",
            "revolver: 82\n",
            "rhino: 59\n",
            "rooster: 49\n",
            "saxophone: 40\n",
            "schooner: 63\n",
            "scissors: 39\n",
            "scorpion: 84\n",
            "sea_horse: 57\n",
            "snoopy: 35\n",
            "soccer_ball: 64\n",
            "stapler: 45\n",
            "starfish: 86\n",
            "stegosaurus: 59\n",
            "stop_sign: 64\n",
            "strawberry: 35\n",
            "sunflower: 85\n",
            "tick: 49\n",
            "trilobite: 86\n",
            "umbrella: 75\n",
            "watch: 239\n",
            "water_lilly: 37\n",
            "wheelchair: 59\n",
            "wild_cat: 34\n",
            "windsor_chair: 56\n",
            "wrench: 39\n",
            "yin_yang: 60\n",
            "Total images in dataset: 9145\n"
          ],
          "name": "stdout"
        }
      ]
    },
    {
      "cell_type": "code",
      "metadata": {
        "id": "kr-ECJG7AJQ_",
        "colab_type": "code",
        "colab": {}
      },
      "source": [
        "# create the directories to use\n",
        "base_path = '/content/drive/My Drive/data/caltech_101/data'\n",
        "os.mkdir(base_path)\n",
        "\n",
        "train_dir = os.path.join(base_path, 'train')\n",
        "os.mkdir(train_dir)\n",
        "\n",
        "validation_dir = os.path.join(base_path, 'validation')\n",
        "os.mkdir(validation_dir)\n",
        "\n",
        "test_dir = os.path.join(base_path, 'test')\n",
        "os.mkdir(test_dir)"
      ],
      "execution_count": 0,
      "outputs": []
    },
    {
      "cell_type": "code",
      "metadata": {
        "id": "PcGzLS4DAJTe",
        "colab_type": "code",
        "colab": {}
      },
      "source": [
        "# create the categories files in each\n",
        "\n",
        "for directory in [train_dir, validation_dir, test_dir]:\n",
        "    for category in folder_names:\n",
        "        os.mkdir(os.path.join(directory, category))"
      ],
      "execution_count": 0,
      "outputs": []
    },
    {
      "cell_type": "code",
      "metadata": {
        "id": "fJODU1TlAJWe",
        "colab_type": "code",
        "colab": {}
      },
      "source": [
        "# calculate the number of images to place in each train/valid/test categories folder\n",
        "\n",
        "total_train = 0\n",
        "total_validation = 0\n",
        "total_test = 0\n",
        "\n",
        "total_train_2 = 0\n",
        "total_validation_2 = 0\n",
        "total_test_2 = 0\n",
        "\n",
        "for i, category in enumerate(folder_names):\n",
        "    train_number = int(0.7 * images_per_category_dict[i])\n",
        "    validation_number = int(0.2 * images_per_category_dict[i])\n",
        "    test_number = images_per_category_dict[i] - train_number - validation_number # for not exceeding maximum number\n",
        "    \n",
        "    # for statistics later\n",
        "    total_train += train_number\n",
        "    total_validation += validation_number\n",
        "    total_test += test_number\n",
        "    \n",
        "    # now copy these images to respective folders\n",
        "    # Copy first 1000 cat images to train_cats_dir\n",
        "    fnames = category_images_path_dict[i][:train_number]\n",
        "    for fname in fnames:\n",
        "        src = os.path.join(dataset_path, category, fname)\n",
        "        dst = os.path.join(train_dir, category, fname)\n",
        "        shutil.copyfile(src, dst)\n",
        "        \n",
        "    total_train_2 += len(fnames)\n",
        "        \n",
        "    fnames = category_images_path_dict[i][train_number:train_number + validation_number]\n",
        "    for fname in fnames:\n",
        "        src = os.path.join(dataset_path, category, fname)\n",
        "        dst = os.path.join(validation_dir, category, fname)\n",
        "        shutil.copyfile(src, dst)\n",
        "        \n",
        "    total_validation_2 += len(fnames)\n",
        "    \n",
        "    fnames = category_images_path_dict[i][train_number + validation_number:]\n",
        "    for fname in fnames:\n",
        "        src = os.path.join(dataset_path, category, fname)\n",
        "        dst = os.path.join(test_dir, category, fname)\n",
        "        shutil.copyfile(src, dst)\n",
        "        \n",
        "    total_test_2 += len(fnames)"
      ],
      "execution_count": 0,
      "outputs": []
    },
    {
      "cell_type": "code",
      "metadata": {
        "id": "sFZ2CXE5BTH4",
        "colab_type": "code",
        "colab": {
          "base_uri": "https://localhost:8080/",
          "height": 217
        },
        "outputId": "c791ee55-a434-41ca-fa17-3d7a28e90aed"
      },
      "source": [
        "# print statistics\n",
        "\n",
        "print('Correct train split: ', total_train == total_train_2)\n",
        "print('Correct validation split: ', total_validation == total_validation_2)\n",
        "print('Correct test split: ', total_test == total_test_2)\n",
        "print()\n",
        "print('Number of training images: ', total_train)\n",
        "print('Number of validation images: ', total_validation)\n",
        "print('Number of test images: ', total_test)\n",
        "print()\n",
        "print('Real percentage of training images: ', total_train / total_images)\n",
        "print('Real percentage of validation images: ', total_validation / total_images)\n",
        "print('Real percentage of test images: ', total_test / total_images)"
      ],
      "execution_count": 42,
      "outputs": [
        {
          "output_type": "stream",
          "text": [
            "Correct train split:  True\n",
            "Correct validation split:  True\n",
            "Correct test split:  True\n",
            "\n",
            "Number of training images:  6353\n",
            "Number of validation images:  1788\n",
            "Number of test images:  1004\n",
            "\n",
            "Real percentage of training images:  0.6946965554948059\n",
            "Real percentage of validation images:  0.19551667577911427\n",
            "Real percentage of test images:  0.10978676872607983\n"
          ],
          "name": "stdout"
        }
      ]
    },
    {
      "cell_type": "code",
      "metadata": {
        "id": "Rlo7rVJuEuJw",
        "colab_type": "code",
        "colab": {
          "base_uri": "https://localhost:8080/",
          "height": 399
        },
        "outputId": "489f596c-f06a-4c6a-d8c9-3ba4c0d81508"
      },
      "source": [
        "!ls \"/content/drive/My Drive/data/caltech_101/data/train\""
      ],
      "execution_count": 54,
      "outputs": [
        {
          "output_type": "stream",
          "text": [
            "accordion\t   cougar_body\t    garfield\t  menorah     snoopy\n",
            "airplanes\t   cougar_face\t    gerenuk\t  metronome   soccer_ball\n",
            "anchor\t\t   crab\t\t    gramophone\t  minaret     stapler\n",
            "ant\t\t   crayfish\t    grand_piano   Motorbikes  starfish\n",
            "BACKGROUND_Google  crocodile\t    hawksbill\t  nautilus    stegosaurus\n",
            "barrel\t\t   crocodile_head   headphone\t  octopus     stop_sign\n",
            "bass\t\t   cup\t\t    hedgehog\t  okapi       strawberry\n",
            "beaver\t\t   dalmatian\t    helicopter\t  pagoda      sunflower\n",
            "binocular\t   dollar_bill\t    ibis\t  panda       tick\n",
            "bonsai\t\t   dolphin\t    inline_skate  pigeon      trilobite\n",
            "brain\t\t   dragonfly\t    joshua_tree   pizza       umbrella\n",
            "brontosaurus\t   electric_guitar  kangaroo\t  platypus    watch\n",
            "buddha\t\t   elephant\t    ketch\t  pyramid     water_lilly\n",
            "butterfly\t   emu\t\t    lamp\t  revolver    wheelchair\n",
            "camera\t\t   euphonium\t    laptop\t  rhino       wild_cat\n",
            "cannon\t\t   ewer\t\t    Leopards\t  rooster     windsor_chair\n",
            "car_side\t   Faces\t    llama\t  saxophone   wrench\n",
            "ceiling_fan\t   Faces_easy\t    lobster\t  schooner    yin_yang\n",
            "cellphone\t   ferry\t    lotus\t  scissors\n",
            "chair\t\t   flamingo\t    mandolin\t  scorpion\n",
            "chandelier\t   flamingo_head    mayfly\t  sea_horse\n"
          ],
          "name": "stdout"
        }
      ]
    },
    {
      "cell_type": "code",
      "metadata": {
        "id": "cOaPj50IFDLr",
        "colab_type": "code",
        "colab": {}
      },
      "source": [
        "Y_train = []\n",
        "path = \"/content/drive/My Drive/data/caltech_101/data/train\"\n",
        "for label in os.listdir(os.path.join(path)):\n",
        "    back_path = os.path.join(path,label)\n",
        "    for filename in os.listdir(back_path):\n",
        "        Y_train.append(label)"
      ],
      "execution_count": 0,
      "outputs": []
    },
    {
      "cell_type": "code",
      "metadata": {
        "id": "G3n453IIFczv",
        "colab_type": "code",
        "colab": {
          "base_uri": "https://localhost:8080/",
          "height": 35
        },
        "outputId": "2eed6446-ea88-47fe-a0d3-4a1f7dac4ae1"
      },
      "source": [
        "len(Y_train)"
      ],
      "execution_count": 58,
      "outputs": [
        {
          "output_type": "execute_result",
          "data": {
            "text/plain": [
              "6353"
            ]
          },
          "metadata": {
            "tags": []
          },
          "execution_count": 58
        }
      ]
    },
    {
      "cell_type": "code",
      "metadata": {
        "id": "H5TDmNhzGA8Y",
        "colab_type": "code",
        "colab": {}
      },
      "source": [
        "Y_test = []\n",
        "path = \"/content/drive/My Drive/data/caltech_101/data/test\"\n",
        "for label in os.listdir(os.path.join(path)):\n",
        "    back_path = os.path.join(path,label)\n",
        "    for filename in os.listdir(back_path):\n",
        "        Y_test.append(label)"
      ],
      "execution_count": 0,
      "outputs": []
    },
    {
      "cell_type": "code",
      "metadata": {
        "id": "4XR_p2LeGQNS",
        "colab_type": "code",
        "colab": {
          "base_uri": "https://localhost:8080/",
          "height": 35
        },
        "outputId": "44730391-a9d6-4ccb-b41f-601897290eb0"
      },
      "source": [
        "len(Y_test)"
      ],
      "execution_count": 62,
      "outputs": [
        {
          "output_type": "execute_result",
          "data": {
            "text/plain": [
              "1004"
            ]
          },
          "metadata": {
            "tags": []
          },
          "execution_count": 62
        }
      ]
    },
    {
      "cell_type": "code",
      "metadata": {
        "id": "ULB1ulYFGBEM",
        "colab_type": "code",
        "colab": {}
      },
      "source": [
        "Y_valid = []\n",
        "path = \"/content/drive/My Drive/data/caltech_101/data/validation\"\n",
        "for label in os.listdir(os.path.join(path)):\n",
        "    back_path = os.path.join(path,label)\n",
        "    for filename in os.listdir(back_path):\n",
        "        Y_valid.append(label)"
      ],
      "execution_count": 0,
      "outputs": []
    },
    {
      "cell_type": "code",
      "metadata": {
        "id": "6kfNqo_PGWw8",
        "colab_type": "code",
        "colab": {
          "base_uri": "https://localhost:8080/",
          "height": 35
        },
        "outputId": "56100e75-a919-4318-9c12-3051707f1671"
      },
      "source": [
        "len(Y_valid)"
      ],
      "execution_count": 63,
      "outputs": [
        {
          "output_type": "execute_result",
          "data": {
            "text/plain": [
              "1788"
            ]
          },
          "metadata": {
            "tags": []
          },
          "execution_count": 63
        }
      ]
    },
    {
      "cell_type": "code",
      "metadata": {
        "id": "7HgqlkRGGlUX",
        "colab_type": "code",
        "colab": {}
      },
      "source": [
        "from sklearn import preprocessing\n",
        "le = preprocessing.LabelEncoder()\n",
        "le.fit(Y_train)\n",
        "Y_train= le.transform(Y_train)\n",
        "Y_valid= le.transform(Y_valid)\n",
        "Y_test= le.transform(Y_test)"
      ],
      "execution_count": 0,
      "outputs": []
    },
    {
      "cell_type": "code",
      "metadata": {
        "id": "Qqh4mvwsBTVI",
        "colab_type": "code",
        "colab": {
          "base_uri": "https://localhost:8080/",
          "height": 54
        },
        "outputId": "812f59c8-e337-46c9-cee9-a856c6899ef7"
      },
      "source": [
        "from keras.preprocessing.image import ImageDataGenerator\n",
        "\n",
        "# All images will be rescaled by 1./255\n",
        "train_datagen = ImageDataGenerator(rescale=1./255)\n",
        "test_datagen = ImageDataGenerator(rescale=1./255)\n",
        "\n",
        "train_generator = train_datagen.flow_from_directory(\n",
        "        # This is the target directory\n",
        "        train_dir,\n",
        "        # All images will be resized to 150x150\n",
        "        target_size=(150, 150),\n",
        "        batch_size=20,\n",
        "        # Since we use binary_crossentropy loss, we need binary labels\n",
        "        class_mode='categorical')\n",
        "\n",
        "validation_generator = test_datagen.flow_from_directory(\n",
        "        validation_dir,\n",
        "        target_size=(150, 150),\n",
        "        batch_size=20,\n",
        "        class_mode='categorical')\n"
      ],
      "execution_count": 43,
      "outputs": [
        {
          "output_type": "stream",
          "text": [
            "Found 6353 images belonging to 102 classes.\n",
            "Found 1788 images belonging to 102 classes.\n"
          ],
          "name": "stdout"
        }
      ]
    },
    {
      "cell_type": "code",
      "metadata": {
        "id": "4zZFrs95AJZE",
        "colab_type": "code",
        "colab": {}
      },
      "source": [
        ""
      ],
      "execution_count": 0,
      "outputs": []
    },
    {
      "cell_type": "code",
      "metadata": {
        "id": "0HbAe9nvCWzC",
        "colab_type": "code",
        "colab": {}
      },
      "source": [
        "from keras.applications import VGG16\n",
        "\n",
        "conv_base = VGG16(weights='imagenet',\n",
        "                  include_top=False,\n",
        "                  input_shape=(150, 150, 3))"
      ],
      "execution_count": 0,
      "outputs": []
    },
    {
      "cell_type": "code",
      "metadata": {
        "id": "qAZIAHmxCW2X",
        "colab_type": "code",
        "colab": {}
      },
      "source": [
        "from keras import models\n",
        "from keras import layers\n",
        "\n",
        "\n",
        "model = models.Sequential()\n",
        "model.add(conv_base)\n",
        "model.add(layers.Flatten())\n",
        "model.add(layers.Dense(256, activation='relu'))\n",
        "model.add(layers.Dense(102, activation='softmax'))"
      ],
      "execution_count": 0,
      "outputs": []
    },
    {
      "cell_type": "code",
      "metadata": {
        "id": "wRplHayJCW5P",
        "colab_type": "code",
        "colab": {
          "base_uri": "https://localhost:8080/",
          "height": 290
        },
        "outputId": "5d688617-c9b2-447a-b2a3-ec258a9765c8"
      },
      "source": [
        "\n",
        "model.summary()"
      ],
      "execution_count": 81,
      "outputs": [
        {
          "output_type": "stream",
          "text": [
            "_________________________________________________________________\n",
            "Layer (type)                 Output Shape              Param #   \n",
            "=================================================================\n",
            "vgg16 (Model)                (None, 4, 4, 512)         14714688  \n",
            "_________________________________________________________________\n",
            "flatten_3 (Flatten)          (None, 8192)              0         \n",
            "_________________________________________________________________\n",
            "dense_5 (Dense)              (None, 256)               2097408   \n",
            "_________________________________________________________________\n",
            "dense_6 (Dense)              (None, 102)               26214     \n",
            "=================================================================\n",
            "Total params: 16,838,310\n",
            "Trainable params: 2,123,622\n",
            "Non-trainable params: 14,714,688\n",
            "_________________________________________________________________\n"
          ],
          "name": "stdout"
        }
      ]
    },
    {
      "cell_type": "code",
      "metadata": {
        "id": "Gux08gKNJQ1I",
        "colab_type": "code",
        "colab": {
          "base_uri": "https://localhost:8080/",
          "height": 35
        },
        "outputId": "473b7948-2f9e-41bd-f813-4373def91841"
      },
      "source": [
        "len(model.trainable_weights)"
      ],
      "execution_count": 82,
      "outputs": [
        {
          "output_type": "execute_result",
          "data": {
            "text/plain": [
              "4"
            ]
          },
          "metadata": {
            "tags": []
          },
          "execution_count": 82
        }
      ]
    },
    {
      "cell_type": "code",
      "metadata": {
        "id": "HxsZF_JNCW8I",
        "colab_type": "code",
        "colab": {}
      },
      "source": [
        "conv_base.trainable = False"
      ],
      "execution_count": 0,
      "outputs": []
    },
    {
      "cell_type": "code",
      "metadata": {
        "id": "vw_MB0-QDIXT",
        "colab_type": "code",
        "colab": {
          "base_uri": "https://localhost:8080/",
          "height": 35
        },
        "outputId": "a10b8fcb-c7bb-4f19-fb8d-466b6ce7d5ff"
      },
      "source": [
        "len(model.trainable_weights)"
      ],
      "execution_count": 84,
      "outputs": [
        {
          "output_type": "execute_result",
          "data": {
            "text/plain": [
              "4"
            ]
          },
          "metadata": {
            "tags": []
          },
          "execution_count": 84
        }
      ]
    },
    {
      "cell_type": "code",
      "metadata": {
        "id": "jnlFCOFEDwZX",
        "colab_type": "code",
        "colab": {}
      },
      "source": [
        "from keras import optimizers"
      ],
      "execution_count": 0,
      "outputs": []
    },
    {
      "cell_type": "code",
      "metadata": {
        "id": "8g4eOCK7DIet",
        "colab_type": "code",
        "colab": {}
      },
      "source": [
        "model.compile(loss='categorical_crossentropy',\n",
        "              optimizer=optimizers.Adam(),\n",
        "              metrics=['acc'])\n"
      ],
      "execution_count": 0,
      "outputs": []
    },
    {
      "cell_type": "code",
      "metadata": {
        "id": "IhoM17gLDyrP",
        "colab_type": "code",
        "colab": {
          "base_uri": "https://localhost:8080/",
          "height": 1108
        },
        "outputId": "f7d2465d-6883-4195-866b-e84028236914"
      },
      "source": [
        "\n",
        "history = model.fit_generator(\n",
        "      train_generator,\n",
        "      steps_per_epoch=100,\n",
        "      epochs=30,\n",
        "      validation_data=validation_generator,\n",
        "      validation_steps=50)\n",
        "#      verbose=2)"
      ],
      "execution_count": 87,
      "outputs": [
        {
          "output_type": "stream",
          "text": [
            "Epoch 1/30\n",
            "100/100 [==============================] - 12s 123ms/step - loss: 1.2500 - acc: 0.6960 - val_loss: 1.0747 - val_acc: 0.7267\n",
            "Epoch 2/30\n",
            "100/100 [==============================] - 13s 129ms/step - loss: 1.0260 - acc: 0.7412 - val_loss: 0.9611 - val_acc: 0.7530\n",
            "Epoch 3/30\n",
            "100/100 [==============================] - 12s 125ms/step - loss: 0.3968 - acc: 0.9015 - val_loss: 0.8616 - val_acc: 0.7824\n",
            "Epoch 4/30\n",
            "100/100 [==============================] - 12s 117ms/step - loss: 0.3857 - acc: 0.8950 - val_loss: 0.8023 - val_acc: 0.7780\n",
            "Epoch 5/30\n",
            "100/100 [==============================] - 12s 115ms/step - loss: 0.4335 - acc: 0.8775 - val_loss: 0.8773 - val_acc: 0.7723\n",
            "Epoch 6/30\n",
            "100/100 [==============================] - 11s 114ms/step - loss: 0.1889 - acc: 0.9540 - val_loss: 0.7435 - val_acc: 0.8097\n",
            "Epoch 7/30\n",
            "100/100 [==============================] - 12s 121ms/step - loss: 0.1422 - acc: 0.9660 - val_loss: 0.8239 - val_acc: 0.7970\n",
            "Epoch 8/30\n",
            "100/100 [==============================] - 12s 118ms/step - loss: 0.1665 - acc: 0.9590 - val_loss: 0.7219 - val_acc: 0.8067\n",
            "Epoch 9/30\n",
            "100/100 [==============================] - 12s 120ms/step - loss: 0.0772 - acc: 0.9795 - val_loss: 0.6170 - val_acc: 0.8390\n",
            "Epoch 10/30\n",
            "100/100 [==============================] - 12s 115ms/step - loss: 0.0383 - acc: 0.9955 - val_loss: 0.6900 - val_acc: 0.8219\n",
            "Epoch 11/30\n",
            "100/100 [==============================] - 11s 114ms/step - loss: 0.0565 - acc: 0.9870 - val_loss: 0.7393 - val_acc: 0.8080\n",
            "Epoch 12/30\n",
            "100/100 [==============================] - 12s 116ms/step - loss: 0.0445 - acc: 0.9920 - val_loss: 0.7231 - val_acc: 0.8229\n",
            "Epoch 13/30\n",
            "100/100 [==============================] - 12s 116ms/step - loss: 0.0156 - acc: 0.9995 - val_loss: 0.6335 - val_acc: 0.8480\n",
            "Epoch 14/30\n",
            "100/100 [==============================] - 11s 114ms/step - loss: 0.0275 - acc: 0.9955 - val_loss: 0.7099 - val_acc: 0.8279\n",
            "Epoch 15/30\n",
            "100/100 [==============================] - 12s 118ms/step - loss: 0.0329 - acc: 0.9925 - val_loss: 0.7069 - val_acc: 0.8300\n",
            "Epoch 16/30\n",
            "100/100 [==============================] - 12s 120ms/step - loss: 0.0110 - acc: 0.9995 - val_loss: 0.6007 - val_acc: 0.8540\n",
            "Epoch 17/30\n",
            "100/100 [==============================] - 12s 115ms/step - loss: 0.0362 - acc: 0.9940 - val_loss: 0.6972 - val_acc: 0.8431\n",
            "Epoch 18/30\n",
            "100/100 [==============================] - 12s 117ms/step - loss: 0.0161 - acc: 0.9980 - val_loss: 0.6343 - val_acc: 0.8460\n",
            "Epoch 19/30\n",
            "100/100 [==============================] - 11s 115ms/step - loss: 0.0114 - acc: 0.9980 - val_loss: 0.7695 - val_acc: 0.8239\n",
            "Epoch 20/30\n",
            "100/100 [==============================] - 11s 115ms/step - loss: 0.0316 - acc: 0.9950 - val_loss: 0.7269 - val_acc: 0.8250\n",
            "Epoch 21/30\n",
            "100/100 [==============================] - 12s 117ms/step - loss: 0.0138 - acc: 0.9980 - val_loss: 0.6842 - val_acc: 0.8310\n",
            "Epoch 22/30\n",
            "100/100 [==============================] - 12s 121ms/step - loss: 0.0099 - acc: 0.9980 - val_loss: 0.6341 - val_acc: 0.8510\n",
            "Epoch 23/30\n",
            "100/100 [==============================] - 12s 117ms/step - loss: 0.0086 - acc: 0.9980 - val_loss: 0.7275 - val_acc: 0.8300\n",
            "Epoch 24/30\n",
            "100/100 [==============================] - 11s 114ms/step - loss: 0.0109 - acc: 0.9970 - val_loss: 0.7061 - val_acc: 0.8259\n",
            "Epoch 25/30\n",
            "100/100 [==============================] - 12s 117ms/step - loss: 0.0121 - acc: 0.9995 - val_loss: 0.5920 - val_acc: 0.8580\n",
            "Epoch 26/30\n",
            "100/100 [==============================] - 11s 115ms/step - loss: 0.0078 - acc: 0.9985 - val_loss: 0.8544 - val_acc: 0.8006\n",
            "Epoch 27/30\n",
            "100/100 [==============================] - 11s 115ms/step - loss: 0.0245 - acc: 0.9945 - val_loss: 0.9279 - val_acc: 0.7920\n",
            "Epoch 28/30\n",
            "100/100 [==============================] - 11s 115ms/step - loss: 0.1227 - acc: 0.9730 - val_loss: 1.1445 - val_acc: 0.7713\n",
            "Epoch 29/30\n",
            "100/100 [==============================] - 12s 122ms/step - loss: 0.2026 - acc: 0.9350 - val_loss: 1.1588 - val_acc: 0.7660\n",
            "Epoch 30/30\n",
            "100/100 [==============================] - 12s 122ms/step - loss: 0.2249 - acc: 0.9320 - val_loss: 1.2181 - val_acc: 0.7581\n"
          ],
          "name": "stdout"
        }
      ]
    },
    {
      "cell_type": "code",
      "metadata": {
        "id": "MIIUuL0LDy1i",
        "colab_type": "code",
        "colab": {}
      },
      "source": [
        "model.save(\"/content/drive/My Drive/data/caltech_101/caltech_1.h5\")"
      ],
      "execution_count": 0,
      "outputs": []
    },
    {
      "cell_type": "code",
      "metadata": {
        "id": "Bg75W86WDIjf",
        "colab_type": "code",
        "colab": {
          "base_uri": "https://localhost:8080/",
          "height": 35
        },
        "outputId": "4b1a33f1-3c19-4038-9d40-df2e433dadc3"
      },
      "source": [
        "!ls \"/content/drive/My Drive/data/caltech_101/\""
      ],
      "execution_count": 89,
      "outputs": [
        {
          "output_type": "stream",
          "text": [
            "101_ObjectCategories  caltech_1.h5  data\n"
          ],
          "name": "stdout"
        }
      ]
    },
    {
      "cell_type": "code",
      "metadata": {
        "id": "txrerSnmPAXx",
        "colab_type": "code",
        "colab": {
          "base_uri": "https://localhost:8080/",
          "height": 35
        },
        "outputId": "af573dbb-740a-4846-8269-b88188dd0c4f"
      },
      "source": [
        "test_generator = test_datagen.flow_from_directory(\n",
        "        test_dir,\n",
        "        target_size=(150, 150),\n",
        "        batch_size=20,\n",
        "        class_mode='categorical')\n"
      ],
      "execution_count": 90,
      "outputs": [
        {
          "output_type": "stream",
          "text": [
            "Found 1003 images belonging to 102 classes.\n"
          ],
          "name": "stdout"
        }
      ]
    },
    {
      "cell_type": "code",
      "metadata": {
        "id": "p_FybpZ4Oea3",
        "colab_type": "code",
        "colab": {
          "base_uri": "https://localhost:8080/",
          "height": 35
        },
        "outputId": "30e59986-b57e-4198-fefb-74c189ef2afa"
      },
      "source": [
        "\n",
        "test_loss, test_acc = model.evaluate_generator(test_generator, steps=50)\n",
        "print('test acc:', test_acc)"
      ],
      "execution_count": 94,
      "outputs": [
        {
          "output_type": "stream",
          "text": [
            "test acc: 0.7580000019073486\n"
          ],
          "name": "stdout"
        }
      ]
    },
    {
      "cell_type": "code",
      "metadata": {
        "id": "A50JS4PBPrq9",
        "colab_type": "code",
        "colab": {}
      },
      "source": [
        ""
      ],
      "execution_count": 0,
      "outputs": []
    },
    {
      "cell_type": "code",
      "metadata": {
        "id": "-ZmTLXGbOegD",
        "colab_type": "code",
        "colab": {}
      },
      "source": [
        "conv_base.trainable = True\n",
        "\n",
        "set_trainable = False\n",
        "for layer in conv_base.layers:\n",
        "    if layer.name == 'block5_conv1':\n",
        "        set_trainable = True\n",
        "    if set_trainable:\n",
        "        layer.trainable = True\n",
        "    else:\n",
        "        layer.trainable = False"
      ],
      "execution_count": 0,
      "outputs": []
    },
    {
      "cell_type": "code",
      "metadata": {
        "id": "ZNHSlbSaOeke",
        "colab_type": "code",
        "colab": {
          "base_uri": "https://localhost:8080/",
          "height": 3654
        },
        "outputId": "de5dfdd2-8763-4812-b6e7-b9da6825d914"
      },
      "source": [
        "model.compile(loss='categorical_crossentropy',\n",
        "              optimizer=optimizers.Adam(),\n",
        "              metrics=['acc'])\n",
        "\n",
        "history = model.fit_generator(\n",
        "      train_generator,\n",
        "      steps_per_epoch=100,\n",
        "      epochs=100,\n",
        "      validation_data=validation_generator,\n",
        "      validation_steps=50)\n",
        "#      verbose=2)"
      ],
      "execution_count": 96,
      "outputs": [
        {
          "output_type": "stream",
          "text": [
            "Epoch 1/100\n",
            "100/100 [==============================] - 14s 139ms/step - loss: 15.1843 - acc: 0.0575 - val_loss: 15.2800 - val_acc: 0.0520\n",
            "Epoch 2/100\n",
            "100/100 [==============================] - 12s 118ms/step - loss: 15.3444 - acc: 0.0480 - val_loss: 15.3350 - val_acc: 0.0486\n",
            "Epoch 3/100\n",
            "100/100 [==============================] - 12s 124ms/step - loss: 15.2880 - acc: 0.0515 - val_loss: 15.2861 - val_acc: 0.0516\n",
            "Epoch 4/100\n",
            "100/100 [==============================] - 13s 125ms/step - loss: 15.1950 - acc: 0.0573 - val_loss: 15.2155 - val_acc: 0.0560\n",
            "Epoch 5/100\n",
            "100/100 [==============================] - 12s 120ms/step - loss: 15.2719 - acc: 0.0525 - val_loss: 15.2045 - val_acc: 0.0567\n",
            "Epoch 6/100\n",
            "100/100 [==============================] - 12s 118ms/step - loss: 15.3847 - acc: 0.0455 - val_loss: 15.2961 - val_acc: 0.0510\n",
            "Epoch 7/100\n",
            "100/100 [==============================] - 12s 118ms/step - loss: 15.2074 - acc: 0.0565 - val_loss: 15.4329 - val_acc: 0.0425\n",
            "Epoch 8/100\n",
            "100/100 [==============================] - 12s 118ms/step - loss: 15.3041 - acc: 0.0505 - val_loss: 15.3283 - val_acc: 0.0490\n",
            "Epoch 9/100\n",
            "100/100 [==============================] - 12s 120ms/step - loss: 15.3364 - acc: 0.0485 - val_loss: 15.2208 - val_acc: 0.0557\n",
            "Epoch 10/100\n",
            "100/100 [==============================] - 13s 125ms/step - loss: 15.2719 - acc: 0.0525 - val_loss: 15.2316 - val_acc: 0.0550\n",
            "Epoch 11/100\n",
            "100/100 [==============================] - 12s 120ms/step - loss: 15.3363 - acc: 0.0485 - val_loss: 15.3840 - val_acc: 0.0455\n",
            "Epoch 12/100\n",
            "100/100 [==============================] - 12s 119ms/step - loss: 15.2961 - acc: 0.0510 - val_loss: 15.1719 - val_acc: 0.0587\n",
            "Epoch 13/100\n",
            "100/100 [==============================] - 12s 121ms/step - loss: 15.2719 - acc: 0.0525 - val_loss: 15.2155 - val_acc: 0.0560\n",
            "Epoch 14/100\n",
            "100/100 [==============================] - 12s 119ms/step - loss: 15.3041 - acc: 0.0505 - val_loss: 15.3840 - val_acc: 0.0455\n",
            "Epoch 15/100\n",
            "100/100 [==============================] - 12s 118ms/step - loss: 15.3202 - acc: 0.0495 - val_loss: 15.2638 - val_acc: 0.0530\n",
            "Epoch 16/100\n",
            "100/100 [==============================] - 12s 117ms/step - loss: 15.1913 - acc: 0.0575 - val_loss: 15.2371 - val_acc: 0.0547\n",
            "Epoch 17/100\n",
            "100/100 [==============================] - 12s 125ms/step - loss: 15.3525 - acc: 0.0475 - val_loss: 15.2638 - val_acc: 0.0530\n",
            "Epoch 18/100\n",
            "100/100 [==============================] - 12s 118ms/step - loss: 15.2477 - acc: 0.0540 - val_loss: 15.3840 - val_acc: 0.0455\n",
            "Epoch 19/100\n",
            "100/100 [==============================] - 12s 117ms/step - loss: 15.3283 - acc: 0.0490 - val_loss: 15.2638 - val_acc: 0.0530\n",
            "Epoch 20/100\n",
            "100/100 [==============================] - 12s 117ms/step - loss: 15.2917 - acc: 0.0513 - val_loss: 15.2535 - val_acc: 0.0536\n",
            "Epoch 21/100\n",
            "100/100 [==============================] - 12s 117ms/step - loss: 15.2961 - acc: 0.0510 - val_loss: 15.2861 - val_acc: 0.0516\n",
            "Epoch 22/100\n",
            "100/100 [==============================] - 12s 117ms/step - loss: 15.2961 - acc: 0.0510 - val_loss: 15.2800 - val_acc: 0.0520\n",
            "Epoch 23/100\n",
            "100/100 [==============================] - 12s 117ms/step - loss: 15.2515 - acc: 0.0538 - val_loss: 15.3513 - val_acc: 0.0476\n",
            "Epoch 24/100\n",
            "100/100 [==============================] - 12s 122ms/step - loss: 15.3283 - acc: 0.0490 - val_loss: 15.2155 - val_acc: 0.0560\n",
            "Epoch 25/100\n",
            "100/100 [==============================] - 12s 117ms/step - loss: 15.3202 - acc: 0.0495 - val_loss: 15.3677 - val_acc: 0.0466\n",
            "Epoch 26/100\n",
            "100/100 [==============================] - 12s 118ms/step - loss: 15.2316 - acc: 0.0550 - val_loss: 15.1510 - val_acc: 0.0600\n",
            "Epoch 27/100\n",
            "100/100 [==============================] - 12s 124ms/step - loss: 15.2316 - acc: 0.0550 - val_loss: 15.3840 - val_acc: 0.0455\n",
            "Epoch 28/100\n",
            "100/100 [==============================] - 12s 118ms/step - loss: 15.2880 - acc: 0.0515 - val_loss: 15.1832 - val_acc: 0.0580\n",
            "Epoch 29/100\n",
            "100/100 [==============================] - 12s 118ms/step - loss: 15.3122 - acc: 0.0500 - val_loss: 15.2861 - val_acc: 0.0516\n",
            "Epoch 30/100\n",
            "100/100 [==============================] - 12s 119ms/step - loss: 15.2638 - acc: 0.0530 - val_loss: 15.2045 - val_acc: 0.0567\n",
            "Epoch 31/100\n",
            "100/100 [==============================] - 12s 120ms/step - loss: 15.3122 - acc: 0.0500 - val_loss: 15.2638 - val_acc: 0.0530\n",
            "Epoch 32/100\n",
            "100/100 [==============================] - 12s 117ms/step - loss: 15.3364 - acc: 0.0485 - val_loss: 15.3840 - val_acc: 0.0455\n",
            "Epoch 33/100\n",
            "100/100 [==============================] - 12s 117ms/step - loss: 15.3079 - acc: 0.0503 - val_loss: 15.3122 - val_acc: 0.0500\n",
            "Epoch 34/100\n",
            "100/100 [==============================] - 12s 117ms/step - loss: 15.2235 - acc: 0.0555 - val_loss: 15.1882 - val_acc: 0.0577\n",
            "Epoch 35/100\n",
            "100/100 [==============================] - 12s 117ms/step - loss: 15.2800 - acc: 0.0520 - val_loss: 15.2638 - val_acc: 0.0530\n",
            "Epoch 36/100\n",
            "100/100 [==============================] - 12s 116ms/step - loss: 15.3723 - acc: 0.0463 - val_loss: 15.4166 - val_acc: 0.0435\n",
            "Epoch 37/100\n",
            "100/100 [==============================] - 12s 119ms/step - loss: 15.2397 - acc: 0.0545 - val_loss: 15.1832 - val_acc: 0.0580\n",
            "Epoch 38/100\n",
            "100/100 [==============================] - 12s 119ms/step - loss: 15.3686 - acc: 0.0465 - val_loss: 15.2861 - val_acc: 0.0516\n",
            "Epoch 39/100\n",
            "100/100 [==============================] - 12s 119ms/step - loss: 15.1504 - acc: 0.0600 - val_loss: 15.3677 - val_acc: 0.0466\n",
            "Epoch 40/100\n",
            "100/100 [==============================] - 12s 118ms/step - loss: 15.3041 - acc: 0.0505 - val_loss: 15.2316 - val_acc: 0.0550\n",
            "Epoch 41/100\n",
            "100/100 [==============================] - 12s 118ms/step - loss: 15.2558 - acc: 0.0535 - val_loss: 15.4492 - val_acc: 0.0415\n",
            "Epoch 42/100\n",
            "100/100 [==============================] - 12s 118ms/step - loss: 15.3444 - acc: 0.0480 - val_loss: 15.1671 - val_acc: 0.0590\n",
            "Epoch 43/100\n",
            "100/100 [==============================] - 12s 117ms/step - loss: 15.2155 - acc: 0.0560 - val_loss: 15.1719 - val_acc: 0.0587\n",
            "Epoch 44/100\n",
            "100/100 [==============================] - 13s 126ms/step - loss: 15.2558 - acc: 0.0535 - val_loss: 15.3444 - val_acc: 0.0480\n",
            "Epoch 45/100\n",
            "100/100 [==============================] - 12s 118ms/step - loss: 15.3885 - acc: 0.0453 - val_loss: 15.2698 - val_acc: 0.0526\n",
            "Epoch 46/100\n",
            "100/100 [==============================] - 12s 119ms/step - loss: 15.2961 - acc: 0.0510 - val_loss: 15.2477 - val_acc: 0.0540\n",
            "Epoch 47/100\n",
            "100/100 [==============================] - 12s 118ms/step - loss: 15.2638 - acc: 0.0530 - val_loss: 15.3350 - val_acc: 0.0486\n",
            "Epoch 48/100\n",
            "100/100 [==============================] - 12s 118ms/step - loss: 15.2880 - acc: 0.0515 - val_loss: 15.2535 - val_acc: 0.0536\n",
            "Epoch 49/100\n",
            "100/100 [==============================] - 12s 118ms/step - loss: 15.2799 - acc: 0.0520 - val_loss: 15.1832 - val_acc: 0.0580\n",
            "Epoch 50/100\n",
            "100/100 [==============================] - 12s 118ms/step - loss: 15.1832 - acc: 0.0580 - val_loss: 15.4003 - val_acc: 0.0445\n",
            "Epoch 51/100\n",
            "100/100 [==============================] - 12s 123ms/step - loss: 15.3525 - acc: 0.0475 - val_loss: 15.2155 - val_acc: 0.0560\n",
            "Epoch 52/100\n",
            "100/100 [==============================] - 12s 119ms/step - loss: 15.3079 - acc: 0.0503 - val_loss: 15.3350 - val_acc: 0.0486\n",
            "Epoch 53/100\n",
            "100/100 [==============================] - 13s 127ms/step - loss: 15.3202 - acc: 0.0495 - val_loss: 15.1832 - val_acc: 0.0580\n",
            "Epoch 54/100\n",
            "100/100 [==============================] - 12s 121ms/step - loss: 15.2961 - acc: 0.0510 - val_loss: 15.5471 - val_acc: 0.0354\n",
            "Epoch 55/100\n",
            "100/100 [==============================] - 12s 118ms/step - loss: 15.3444 - acc: 0.0480 - val_loss: 15.1510 - val_acc: 0.0600\n",
            "Epoch 56/100\n",
            "100/100 [==============================] - 12s 118ms/step - loss: 15.4089 - acc: 0.0440 - val_loss: 15.2045 - val_acc: 0.0567\n",
            "Epoch 57/100\n",
            "100/100 [==============================] - 12s 120ms/step - loss: 15.1671 - acc: 0.0590 - val_loss: 15.1882 - val_acc: 0.0577\n",
            "Epoch 58/100\n",
            "100/100 [==============================] - 12s 123ms/step - loss: 15.1950 - acc: 0.0573 - val_loss: 15.3444 - val_acc: 0.0480\n",
            "Epoch 59/100\n",
            "100/100 [==============================] - 12s 118ms/step - loss: 15.2800 - acc: 0.0520 - val_loss: 15.2698 - val_acc: 0.0526\n",
            "Epoch 60/100\n",
            "100/100 [==============================] - 12s 119ms/step - loss: 15.2880 - acc: 0.0515 - val_loss: 15.3444 - val_acc: 0.0480\n",
            "Epoch 61/100\n",
            "100/100 [==============================] - 12s 118ms/step - loss: 15.3525 - acc: 0.0475 - val_loss: 15.1719 - val_acc: 0.0587\n",
            "Epoch 62/100\n",
            "100/100 [==============================] - 12s 118ms/step - loss: 15.2397 - acc: 0.0545 - val_loss: 15.3605 - val_acc: 0.0470\n",
            "Epoch 63/100\n",
            "100/100 [==============================] - 12s 118ms/step - loss: 15.3364 - acc: 0.0485 - val_loss: 15.3350 - val_acc: 0.0486\n",
            "Epoch 64/100\n",
            "100/100 [==============================] - 12s 123ms/step - loss: 15.2719 - acc: 0.0525 - val_loss: 15.2477 - val_acc: 0.0540\n",
            "Epoch 65/100\n",
            "100/100 [==============================] - 12s 118ms/step - loss: 15.4529 - acc: 0.0413 - val_loss: 15.3677 - val_acc: 0.0466\n",
            "Epoch 66/100\n",
            "100/100 [==============================] - 12s 118ms/step - loss: 15.2558 - acc: 0.0535 - val_loss: 15.1882 - val_acc: 0.0577\n",
            "Epoch 67/100\n",
            "100/100 [==============================] - 12s 119ms/step - loss: 15.1994 - acc: 0.0570 - val_loss: 15.1994 - val_acc: 0.0570\n",
            "Epoch 68/100\n",
            "100/100 [==============================] - 12s 118ms/step - loss: 15.1870 - acc: 0.0578 - val_loss: 15.3513 - val_acc: 0.0476\n",
            "Epoch 69/100\n",
            "100/100 [==============================] - 12s 118ms/step - loss: 15.2397 - acc: 0.0545 - val_loss: 15.2477 - val_acc: 0.0540\n",
            "Epoch 70/100\n",
            "100/100 [==============================] - 12s 118ms/step - loss: 15.4089 - acc: 0.0440 - val_loss: 15.3024 - val_acc: 0.0506\n",
            "Epoch 71/100\n",
            "100/100 [==============================] - 12s 125ms/step - loss: 15.2192 - acc: 0.0558 - val_loss: 15.3122 - val_acc: 0.0500\n",
            "Epoch 72/100\n",
            "100/100 [==============================] - 12s 118ms/step - loss: 15.3202 - acc: 0.0495 - val_loss: 15.2208 - val_acc: 0.0557\n",
            "Epoch 73/100\n",
            "100/100 [==============================] - 12s 118ms/step - loss: 15.2316 - acc: 0.0550 - val_loss: 15.2638 - val_acc: 0.0530\n",
            "Epoch 74/100\n",
            "100/100 [==============================] - 12s 117ms/step - loss: 15.3202 - acc: 0.0495 - val_loss: 15.2861 - val_acc: 0.0516\n",
            "Epoch 75/100\n",
            "100/100 [==============================] - 12s 118ms/step - loss: 15.4170 - acc: 0.0435 - val_loss: 15.3513 - val_acc: 0.0476\n",
            "Epoch 76/100\n",
            "100/100 [==============================] - 12s 119ms/step - loss: 15.3122 - acc: 0.0500 - val_loss: 15.2800 - val_acc: 0.0520\n",
            "Epoch 77/100\n",
            "100/100 [==============================] - 12s 118ms/step - loss: 15.1666 - acc: 0.0590 - val_loss: 15.2698 - val_acc: 0.0526\n",
            "Epoch 78/100\n",
            "100/100 [==============================] - 12s 125ms/step - loss: 15.3122 - acc: 0.0500 - val_loss: 15.1671 - val_acc: 0.0590\n",
            "Epoch 79/100\n",
            "100/100 [==============================] - 13s 128ms/step - loss: 15.2961 - acc: 0.0510 - val_loss: 15.2861 - val_acc: 0.0516\n",
            "Epoch 80/100\n",
            "100/100 [==============================] - 12s 122ms/step - loss: 15.2676 - acc: 0.0528 - val_loss: 15.3767 - val_acc: 0.0460\n",
            "Epoch 81/100\n",
            "100/100 [==============================] - 12s 118ms/step - loss: 15.3041 - acc: 0.0505 - val_loss: 15.1882 - val_acc: 0.0577\n",
            "Epoch 82/100\n",
            "100/100 [==============================] - 12s 118ms/step - loss: 15.2477 - acc: 0.0540 - val_loss: 15.3283 - val_acc: 0.0490\n",
            "Epoch 83/100\n",
            "100/100 [==============================] - 12s 119ms/step - loss: 15.2880 - acc: 0.0515 - val_loss: 15.2861 - val_acc: 0.0516\n",
            "Epoch 84/100\n",
            "100/100 [==============================] - 12s 119ms/step - loss: 15.4008 - acc: 0.0445 - val_loss: 15.2535 - val_acc: 0.0536\n",
            "Epoch 85/100\n",
            "100/100 [==============================] - 12s 122ms/step - loss: 15.1994 - acc: 0.0570 - val_loss: 15.2638 - val_acc: 0.0530\n",
            "Epoch 86/100\n",
            "100/100 [==============================] - 12s 118ms/step - loss: 15.3525 - acc: 0.0475 - val_loss: 15.3513 - val_acc: 0.0476\n",
            "Epoch 87/100\n",
            "100/100 [==============================] - 12s 118ms/step - loss: 15.2799 - acc: 0.0520 - val_loss: 15.4250 - val_acc: 0.0430\n",
            "Epoch 88/100\n",
            "100/100 [==============================] - 12s 118ms/step - loss: 15.2316 - acc: 0.0550 - val_loss: 15.2371 - val_acc: 0.0547\n",
            "Epoch 89/100\n",
            "100/100 [==============================] - 12s 118ms/step - loss: 15.2961 - acc: 0.0510 - val_loss: 15.1349 - val_acc: 0.0610\n",
            "Epoch 90/100\n",
            "100/100 [==============================] - 12s 117ms/step - loss: 15.2477 - acc: 0.0540 - val_loss: 15.2371 - val_acc: 0.0547\n",
            "Epoch 91/100\n",
            "100/100 [==============================] - 12s 123ms/step - loss: 15.3444 - acc: 0.0480 - val_loss: 15.3928 - val_acc: 0.0450\n",
            "Epoch 92/100\n",
            "100/100 [==============================] - 12s 120ms/step - loss: 15.2316 - acc: 0.0550 - val_loss: 15.1719 - val_acc: 0.0587\n",
            "Epoch 93/100\n",
            "100/100 [==============================] - 12s 117ms/step - loss: 15.3283 - acc: 0.0490 - val_loss: 15.3513 - val_acc: 0.0476\n",
            "Epoch 94/100\n",
            "100/100 [==============================] - 12s 118ms/step - loss: 15.2316 - acc: 0.0550 - val_loss: 15.2638 - val_acc: 0.0530\n",
            "Epoch 95/100\n",
            "100/100 [==============================] - 12s 118ms/step - loss: 15.2961 - acc: 0.0510 - val_loss: 15.3187 - val_acc: 0.0496\n",
            "Epoch 96/100\n",
            "100/100 [==============================] - 12s 118ms/step - loss: 15.3525 - acc: 0.0475 - val_loss: 15.2800 - val_acc: 0.0520\n",
            "Epoch 97/100\n",
            "100/100 [==============================] - 12s 117ms/step - loss: 15.2719 - acc: 0.0525 - val_loss: 15.2698 - val_acc: 0.0526\n",
            "Epoch 98/100\n",
            "100/100 [==============================] - 12s 124ms/step - loss: 15.3364 - acc: 0.0485 - val_loss: 15.1994 - val_acc: 0.0570\n",
            "Epoch 99/100\n",
            "100/100 [==============================] - 12s 118ms/step - loss: 15.2638 - acc: 0.0530 - val_loss: 15.2861 - val_acc: 0.0516\n",
            "Epoch 100/100\n",
            "100/100 [==============================] - 12s 118ms/step - loss: 15.2552 - acc: 0.0535 - val_loss: 15.3283 - val_acc: 0.0490\n"
          ],
          "name": "stdout"
        }
      ]
    },
    {
      "cell_type": "code",
      "metadata": {
        "id": "TKAilBbOOeoK",
        "colab_type": "code",
        "colab": {}
      },
      "source": [
        ""
      ],
      "execution_count": 0,
      "outputs": []
    },
    {
      "cell_type": "code",
      "metadata": {
        "id": "cSvDJT-5Wmao",
        "colab_type": "code",
        "colab": {}
      },
      "source": [
        "conv_base = VGG16(weights='imagenet',\n",
        "                  include_top=False,\n",
        "                  input_shape=(150, 150, 3))\n",
        "\n",
        "model = models.Sequential()\n",
        "model.add(conv_base)\n",
        "model.add(layers.GlobalAveragePooling2D())\n",
        "#model.add(layers.Flatten())\n",
        "model.add(layers.Dense(512, activation='relu'))\n",
        "model.add(layers.Dense(102, activation='softmax'))"
      ],
      "execution_count": 0,
      "outputs": []
    },
    {
      "cell_type": "code",
      "metadata": {
        "id": "Fdeiu27uWmgQ",
        "colab_type": "code",
        "colab": {
          "base_uri": "https://localhost:8080/",
          "height": 35
        },
        "outputId": "fe2b604a-d037-462f-d4d6-d62dd2af5618"
      },
      "source": [
        "len(model.trainable_weights)"
      ],
      "execution_count": 98,
      "outputs": [
        {
          "output_type": "execute_result",
          "data": {
            "text/plain": [
              "30"
            ]
          },
          "metadata": {
            "tags": []
          },
          "execution_count": 98
        }
      ]
    },
    {
      "cell_type": "code",
      "metadata": {
        "id": "9NTHSfBQWmlc",
        "colab_type": "code",
        "colab": {}
      },
      "source": [
        "conv_base.trainable = False"
      ],
      "execution_count": 0,
      "outputs": []
    },
    {
      "cell_type": "code",
      "metadata": {
        "id": "sxKvPR7zXtfd",
        "colab_type": "code",
        "colab": {
          "base_uri": "https://localhost:8080/",
          "height": 35
        },
        "outputId": "667139bf-799b-4fcf-ffe0-ef5ba84b55ee"
      },
      "source": [
        "len(model.trainable_weights)"
      ],
      "execution_count": 100,
      "outputs": [
        {
          "output_type": "execute_result",
          "data": {
            "text/plain": [
              "4"
            ]
          },
          "metadata": {
            "tags": []
          },
          "execution_count": 100
        }
      ]
    },
    {
      "cell_type": "code",
      "metadata": {
        "id": "Uy936itSXvZt",
        "colab_type": "code",
        "colab": {
          "base_uri": "https://localhost:8080/",
          "height": 3654
        },
        "outputId": "4e40d212-4d18-42ef-97b7-19dbd59a9891"
      },
      "source": [
        "model.compile(loss='categorical_crossentropy',\n",
        "              optimizer=optimizers.Adam(),\n",
        "              metrics=['acc'])\n",
        "\n",
        "history = model.fit_generator(\n",
        "      train_generator,\n",
        "      steps_per_epoch=30,\n",
        "      epochs=100,\n",
        "      validation_data=validation_generator,\n",
        "      validation_steps=50)"
      ],
      "execution_count": 101,
      "outputs": [
        {
          "output_type": "stream",
          "text": [
            "Epoch 1/100\n",
            "30/30 [==============================] - 7s 232ms/step - loss: 4.0490 - acc: 0.1900 - val_loss: 3.6014 - val_acc: 0.2750\n",
            "Epoch 2/100\n",
            "30/30 [==============================] - 6s 193ms/step - loss: 3.3529 - acc: 0.3000 - val_loss: 2.9101 - val_acc: 0.3543\n",
            "Epoch 3/100\n",
            "30/30 [==============================] - 6s 199ms/step - loss: 2.6390 - acc: 0.4383 - val_loss: 2.5853 - val_acc: 0.4350\n",
            "Epoch 4/100\n",
            "30/30 [==============================] - 6s 197ms/step - loss: 2.4753 - acc: 0.4700 - val_loss: 2.2167 - val_acc: 0.5243\n",
            "Epoch 5/100\n",
            "30/30 [==============================] - 6s 198ms/step - loss: 2.1259 - acc: 0.5200 - val_loss: 2.0855 - val_acc: 0.5300\n",
            "Epoch 6/100\n",
            "30/30 [==============================] - 6s 194ms/step - loss: 2.1102 - acc: 0.5350 - val_loss: 1.9335 - val_acc: 0.5526\n",
            "Epoch 7/100\n",
            "30/30 [==============================] - 6s 213ms/step - loss: 1.7894 - acc: 0.5900 - val_loss: 1.7187 - val_acc: 0.5910\n",
            "Epoch 8/100\n",
            "30/30 [==============================] - 7s 220ms/step - loss: 1.5472 - acc: 0.6548 - val_loss: 1.5732 - val_acc: 0.6215\n",
            "Epoch 9/100\n",
            "30/30 [==============================] - 6s 204ms/step - loss: 1.5464 - acc: 0.6517 - val_loss: 1.5485 - val_acc: 0.6498\n",
            "Epoch 10/100\n",
            "30/30 [==============================] - 6s 199ms/step - loss: 1.3547 - acc: 0.6683 - val_loss: 1.4332 - val_acc: 0.6450\n",
            "Epoch 11/100\n",
            "30/30 [==============================] - 6s 213ms/step - loss: 1.3030 - acc: 0.7000 - val_loss: 1.2866 - val_acc: 0.6842\n",
            "Epoch 12/100\n",
            "30/30 [==============================] - 6s 213ms/step - loss: 1.2864 - acc: 0.6783 - val_loss: 1.3501 - val_acc: 0.6690\n",
            "Epoch 13/100\n",
            "30/30 [==============================] - 6s 195ms/step - loss: 1.1872 - acc: 0.7067 - val_loss: 1.2918 - val_acc: 0.6609\n",
            "Epoch 14/100\n",
            "30/30 [==============================] - 6s 194ms/step - loss: 1.1404 - acc: 0.7233 - val_loss: 1.3512 - val_acc: 0.6510\n",
            "Epoch 15/100\n",
            "30/30 [==============================] - 6s 194ms/step - loss: 1.1212 - acc: 0.7233 - val_loss: 1.1156 - val_acc: 0.7217\n",
            "Epoch 16/100\n",
            "30/30 [==============================] - 6s 194ms/step - loss: 1.0988 - acc: 0.7117 - val_loss: 1.1599 - val_acc: 0.7120\n",
            "Epoch 17/100\n",
            "30/30 [==============================] - 6s 191ms/step - loss: 0.9651 - acc: 0.7483 - val_loss: 1.0783 - val_acc: 0.7318\n",
            "Epoch 18/100\n",
            "30/30 [==============================] - 6s 192ms/step - loss: 1.0040 - acc: 0.7490 - val_loss: 1.1436 - val_acc: 0.7166\n",
            "Epoch 19/100\n",
            "30/30 [==============================] - 6s 194ms/step - loss: 0.9135 - acc: 0.7667 - val_loss: 1.1013 - val_acc: 0.7220\n",
            "Epoch 20/100\n",
            "30/30 [==============================] - 6s 191ms/step - loss: 0.8875 - acc: 0.7800 - val_loss: 1.0672 - val_acc: 0.7338\n",
            "Epoch 21/100\n",
            "30/30 [==============================] - 6s 194ms/step - loss: 0.8769 - acc: 0.7700 - val_loss: 1.0405 - val_acc: 0.7220\n",
            "Epoch 22/100\n",
            "30/30 [==============================] - 6s 195ms/step - loss: 0.8748 - acc: 0.7683 - val_loss: 0.9893 - val_acc: 0.7348\n",
            "Epoch 23/100\n",
            "30/30 [==============================] - 6s 191ms/step - loss: 0.8061 - acc: 0.7833 - val_loss: 1.0017 - val_acc: 0.7460\n",
            "Epoch 24/100\n",
            "30/30 [==============================] - 6s 199ms/step - loss: 0.8405 - acc: 0.8017 - val_loss: 0.9643 - val_acc: 0.7551\n",
            "Epoch 25/100\n",
            "30/30 [==============================] - 6s 215ms/step - loss: 0.7627 - acc: 0.8083 - val_loss: 0.9973 - val_acc: 0.7460\n",
            "Epoch 26/100\n",
            "30/30 [==============================] - 6s 195ms/step - loss: 0.8264 - acc: 0.7883 - val_loss: 0.9249 - val_acc: 0.7632\n",
            "Epoch 27/100\n",
            "30/30 [==============================] - 6s 194ms/step - loss: 0.7055 - acc: 0.8217 - val_loss: 0.9421 - val_acc: 0.7500\n",
            "Epoch 28/100\n",
            "30/30 [==============================] - 6s 191ms/step - loss: 0.7594 - acc: 0.7967 - val_loss: 0.9561 - val_acc: 0.7450\n",
            "Epoch 29/100\n",
            "30/30 [==============================] - 6s 190ms/step - loss: 0.5792 - acc: 0.8440 - val_loss: 0.9477 - val_acc: 0.7510\n",
            "Epoch 30/100\n",
            "30/30 [==============================] - 6s 192ms/step - loss: 0.6577 - acc: 0.8483 - val_loss: 0.8767 - val_acc: 0.7650\n",
            "Epoch 31/100\n",
            "30/30 [==============================] - 6s 194ms/step - loss: 0.6037 - acc: 0.8317 - val_loss: 0.9771 - val_acc: 0.7480\n",
            "Epoch 32/100\n",
            "30/30 [==============================] - 6s 192ms/step - loss: 0.6015 - acc: 0.8267 - val_loss: 0.8705 - val_acc: 0.7640\n",
            "Epoch 33/100\n",
            "30/30 [==============================] - 6s 188ms/step - loss: 0.5608 - acc: 0.8317 - val_loss: 0.9294 - val_acc: 0.7460\n",
            "Epoch 34/100\n",
            "30/30 [==============================] - 6s 190ms/step - loss: 0.6434 - acc: 0.8167 - val_loss: 0.8919 - val_acc: 0.7660\n",
            "Epoch 35/100\n",
            "30/30 [==============================] - 6s 190ms/step - loss: 0.6411 - acc: 0.8117 - val_loss: 0.9068 - val_acc: 0.7591\n",
            "Epoch 36/100\n",
            "30/30 [==============================] - 6s 192ms/step - loss: 0.6370 - acc: 0.8417 - val_loss: 0.9217 - val_acc: 0.7490\n",
            "Epoch 37/100\n",
            "30/30 [==============================] - 6s 192ms/step - loss: 0.6775 - acc: 0.8167 - val_loss: 0.8362 - val_acc: 0.7690\n",
            "Epoch 38/100\n",
            "30/30 [==============================] - 6s 200ms/step - loss: 0.6036 - acc: 0.8383 - val_loss: 0.9393 - val_acc: 0.7571\n",
            "Epoch 39/100\n",
            "30/30 [==============================] - 6s 215ms/step - loss: 0.5648 - acc: 0.8674 - val_loss: 0.8431 - val_acc: 0.7720\n",
            "Epoch 40/100\n",
            "30/30 [==============================] - 6s 192ms/step - loss: 0.4538 - acc: 0.8817 - val_loss: 0.9150 - val_acc: 0.7621\n",
            "Epoch 41/100\n",
            "30/30 [==============================] - 6s 194ms/step - loss: 0.4499 - acc: 0.8683 - val_loss: 0.7796 - val_acc: 0.7950\n",
            "Epoch 42/100\n",
            "30/30 [==============================] - 6s 188ms/step - loss: 0.5400 - acc: 0.8433 - val_loss: 0.8449 - val_acc: 0.7500\n",
            "Epoch 43/100\n",
            "30/30 [==============================] - 6s 192ms/step - loss: 0.4719 - acc: 0.8867 - val_loss: 0.8904 - val_acc: 0.7540\n",
            "Epoch 44/100\n",
            "30/30 [==============================] - 6s 193ms/step - loss: 0.5270 - acc: 0.8600 - val_loss: 0.8764 - val_acc: 0.7621\n",
            "Epoch 45/100\n",
            "30/30 [==============================] - 6s 188ms/step - loss: 0.4613 - acc: 0.8717 - val_loss: 0.8267 - val_acc: 0.7854\n",
            "Epoch 46/100\n",
            "30/30 [==============================] - 6s 189ms/step - loss: 0.5642 - acc: 0.8550 - val_loss: 0.8400 - val_acc: 0.7790\n",
            "Epoch 47/100\n",
            "30/30 [==============================] - 6s 189ms/step - loss: 0.5009 - acc: 0.8633 - val_loss: 0.8344 - val_acc: 0.7682\n",
            "Epoch 48/100\n",
            "30/30 [==============================] - 6s 191ms/step - loss: 0.5332 - acc: 0.8567 - val_loss: 0.8267 - val_acc: 0.7730\n",
            "Epoch 49/100\n",
            "30/30 [==============================] - 6s 194ms/step - loss: 0.5259 - acc: 0.8633 - val_loss: 0.7963 - val_acc: 0.7834\n",
            "Epoch 50/100\n",
            "30/30 [==============================] - 6s 197ms/step - loss: 0.4625 - acc: 0.8849 - val_loss: 0.8402 - val_acc: 0.7880\n",
            "Epoch 51/100\n",
            "30/30 [==============================] - 6s 195ms/step - loss: 0.3882 - acc: 0.9017 - val_loss: 0.8422 - val_acc: 0.7824\n",
            "Epoch 52/100\n",
            "30/30 [==============================] - 6s 213ms/step - loss: 0.4329 - acc: 0.8967 - val_loss: 0.7738 - val_acc: 0.7950\n",
            "Epoch 53/100\n",
            "30/30 [==============================] - 7s 217ms/step - loss: 0.3900 - acc: 0.8883 - val_loss: 0.7652 - val_acc: 0.8016\n",
            "Epoch 54/100\n",
            "30/30 [==============================] - 6s 193ms/step - loss: 0.3780 - acc: 0.8983 - val_loss: 0.8520 - val_acc: 0.7743\n",
            "Epoch 55/100\n",
            "30/30 [==============================] - 6s 195ms/step - loss: 0.3547 - acc: 0.9200 - val_loss: 0.7356 - val_acc: 0.8000\n",
            "Epoch 56/100\n",
            "30/30 [==============================] - 6s 192ms/step - loss: 0.4528 - acc: 0.8733 - val_loss: 0.9198 - val_acc: 0.7591\n",
            "Epoch 57/100\n",
            "30/30 [==============================] - 6s 194ms/step - loss: 0.4122 - acc: 0.8967 - val_loss: 0.8281 - val_acc: 0.7740\n",
            "Epoch 58/100\n",
            "30/30 [==============================] - 6s 194ms/step - loss: 0.4120 - acc: 0.8883 - val_loss: 0.7191 - val_acc: 0.8107\n",
            "Epoch 59/100\n",
            "30/30 [==============================] - 6s 214ms/step - loss: 0.4382 - acc: 0.8850 - val_loss: 0.8542 - val_acc: 0.7690\n",
            "Epoch 60/100\n",
            "30/30 [==============================] - 6s 213ms/step - loss: 0.4423 - acc: 0.8683 - val_loss: 0.8147 - val_acc: 0.7814\n",
            "Epoch 61/100\n",
            "30/30 [==============================] - 6s 214ms/step - loss: 0.3502 - acc: 0.9090 - val_loss: 0.7814 - val_acc: 0.7930\n",
            "Epoch 62/100\n",
            "30/30 [==============================] - 6s 194ms/step - loss: 0.3692 - acc: 0.8917 - val_loss: 0.7064 - val_acc: 0.8117\n",
            "Epoch 63/100\n",
            "30/30 [==============================] - 6s 193ms/step - loss: 0.3656 - acc: 0.8950 - val_loss: 0.8462 - val_acc: 0.7794\n",
            "Epoch 64/100\n",
            "30/30 [==============================] - 6s 196ms/step - loss: 0.3796 - acc: 0.9017 - val_loss: 0.7898 - val_acc: 0.7830\n",
            "Epoch 65/100\n",
            "30/30 [==============================] - 6s 202ms/step - loss: 0.3290 - acc: 0.9200 - val_loss: 0.8144 - val_acc: 0.7976\n",
            "Epoch 66/100\n",
            "30/30 [==============================] - 6s 216ms/step - loss: 0.3779 - acc: 0.9033 - val_loss: 0.8076 - val_acc: 0.7770\n",
            "Epoch 67/100\n",
            "30/30 [==============================] - 6s 194ms/step - loss: 0.3165 - acc: 0.9150 - val_loss: 0.7901 - val_acc: 0.7966\n",
            "Epoch 68/100\n",
            "30/30 [==============================] - 6s 192ms/step - loss: 0.3442 - acc: 0.9000 - val_loss: 0.7603 - val_acc: 0.8020\n",
            "Epoch 69/100\n",
            "30/30 [==============================] - 6s 194ms/step - loss: 0.3136 - acc: 0.9167 - val_loss: 0.8128 - val_acc: 0.7794\n",
            "Epoch 70/100\n",
            "30/30 [==============================] - 6s 196ms/step - loss: 0.3541 - acc: 0.9033 - val_loss: 0.7821 - val_acc: 0.8030\n",
            "Epoch 71/100\n",
            "30/30 [==============================] - 6s 190ms/step - loss: 0.3100 - acc: 0.9183 - val_loss: 0.8038 - val_acc: 0.7986\n",
            "Epoch 72/100\n",
            "30/30 [==============================] - 6s 195ms/step - loss: 0.2470 - acc: 0.9383 - val_loss: 0.7568 - val_acc: 0.8168\n",
            "Epoch 73/100\n",
            "30/30 [==============================] - 6s 197ms/step - loss: 0.2944 - acc: 0.9250 - val_loss: 0.7328 - val_acc: 0.8100\n",
            "Epoch 74/100\n",
            "30/30 [==============================] - 6s 191ms/step - loss: 0.2614 - acc: 0.9333 - val_loss: 0.7999 - val_acc: 0.7996\n",
            "Epoch 75/100\n",
            "30/30 [==============================] - 6s 195ms/step - loss: 0.2560 - acc: 0.9433 - val_loss: 0.7945 - val_acc: 0.7870\n",
            "Epoch 76/100\n",
            "30/30 [==============================] - 6s 191ms/step - loss: 0.2913 - acc: 0.9267 - val_loss: 0.8246 - val_acc: 0.7864\n",
            "Epoch 77/100\n",
            "30/30 [==============================] - 6s 195ms/step - loss: 0.2835 - acc: 0.9267 - val_loss: 0.7680 - val_acc: 0.7940\n",
            "Epoch 78/100\n",
            "30/30 [==============================] - 6s 193ms/step - loss: 0.2733 - acc: 0.9283 - val_loss: 0.7908 - val_acc: 0.7945\n",
            "Epoch 79/100\n",
            "30/30 [==============================] - 6s 208ms/step - loss: 0.3472 - acc: 0.8983 - val_loss: 0.8110 - val_acc: 0.7820\n",
            "Epoch 80/100\n",
            "30/30 [==============================] - 6s 212ms/step - loss: 0.2595 - acc: 0.9333 - val_loss: 0.7702 - val_acc: 0.7864\n",
            "Epoch 81/100\n",
            "30/30 [==============================] - 6s 194ms/step - loss: 0.2912 - acc: 0.9150 - val_loss: 0.7894 - val_acc: 0.7976\n",
            "Epoch 82/100\n",
            "30/30 [==============================] - 6s 194ms/step - loss: 0.2400 - acc: 0.9308 - val_loss: 0.8663 - val_acc: 0.7850\n",
            "Epoch 83/100\n",
            "30/30 [==============================] - 6s 191ms/step - loss: 0.1984 - acc: 0.9500 - val_loss: 0.7393 - val_acc: 0.8036\n",
            "Epoch 84/100\n",
            "30/30 [==============================] - 6s 197ms/step - loss: 0.2018 - acc: 0.9467 - val_loss: 0.7823 - val_acc: 0.7980\n",
            "Epoch 85/100\n",
            "30/30 [==============================] - 6s 193ms/step - loss: 0.2081 - acc: 0.9533 - val_loss: 0.6963 - val_acc: 0.8148\n",
            "Epoch 86/100\n",
            "30/30 [==============================] - 6s 193ms/step - loss: 0.2509 - acc: 0.9350 - val_loss: 0.8719 - val_acc: 0.7670\n",
            "Epoch 87/100\n",
            "30/30 [==============================] - 6s 194ms/step - loss: 0.2122 - acc: 0.9517 - val_loss: 0.7604 - val_acc: 0.8117\n",
            "Epoch 88/100\n",
            "30/30 [==============================] - 6s 192ms/step - loss: 0.2806 - acc: 0.9233 - val_loss: 0.7883 - val_acc: 0.7960\n",
            "Epoch 89/100\n",
            "30/30 [==============================] - 6s 192ms/step - loss: 0.2539 - acc: 0.9417 - val_loss: 0.8131 - val_acc: 0.8158\n",
            "Epoch 90/100\n",
            "30/30 [==============================] - 6s 193ms/step - loss: 0.2584 - acc: 0.9300 - val_loss: 0.7698 - val_acc: 0.7915\n",
            "Epoch 91/100\n",
            "30/30 [==============================] - 6s 195ms/step - loss: 0.2528 - acc: 0.9417 - val_loss: 0.7998 - val_acc: 0.7930\n",
            "Epoch 92/100\n",
            "30/30 [==============================] - 6s 191ms/step - loss: 0.2168 - acc: 0.9441 - val_loss: 0.8259 - val_acc: 0.7895\n",
            "Epoch 93/100\n",
            "30/30 [==============================] - 6s 217ms/step - loss: 0.1732 - acc: 0.9533 - val_loss: 0.7317 - val_acc: 0.8160\n",
            "Epoch 94/100\n",
            "30/30 [==============================] - 6s 203ms/step - loss: 0.1303 - acc: 0.9767 - val_loss: 0.7696 - val_acc: 0.7864\n",
            "Epoch 95/100\n",
            "30/30 [==============================] - 6s 192ms/step - loss: 0.1849 - acc: 0.9533 - val_loss: 0.7769 - val_acc: 0.8020\n",
            "Epoch 96/100\n",
            "30/30 [==============================] - 6s 195ms/step - loss: 0.1959 - acc: 0.9400 - val_loss: 0.7288 - val_acc: 0.8117\n",
            "Epoch 97/100\n",
            "30/30 [==============================] - 6s 194ms/step - loss: 0.1883 - acc: 0.9550 - val_loss: 0.8132 - val_acc: 0.7980\n",
            "Epoch 98/100\n",
            "30/30 [==============================] - 6s 194ms/step - loss: 0.2050 - acc: 0.9533 - val_loss: 0.7682 - val_acc: 0.8026\n",
            "Epoch 99/100\n",
            "30/30 [==============================] - 6s 194ms/step - loss: 0.2244 - acc: 0.9450 - val_loss: 0.7582 - val_acc: 0.8006\n",
            "Epoch 100/100\n",
            "30/30 [==============================] - 6s 194ms/step - loss: 0.1945 - acc: 0.9400 - val_loss: 0.7822 - val_acc: 0.7990\n"
          ],
          "name": "stdout"
        }
      ]
    },
    {
      "cell_type": "code",
      "metadata": {
        "id": "Lq8wH5d7XvjB",
        "colab_type": "code",
        "colab": {
          "base_uri": "https://localhost:8080/",
          "height": 35
        },
        "outputId": "174bc120-1ca8-4d4e-bb9f-a4cedc5232b8"
      },
      "source": [
        "test_loss, test_acc = model.evaluate_generator(test_generator, steps=50)\n",
        "print('test acc:', test_acc)"
      ],
      "execution_count": 102,
      "outputs": [
        {
          "output_type": "stream",
          "text": [
            "test acc: 0.7904374376924695\n"
          ],
          "name": "stdout"
        }
      ]
    },
    {
      "cell_type": "code",
      "metadata": {
        "id": "CNRHFP2Ta_jd",
        "colab_type": "code",
        "colab": {}
      },
      "source": [
        "model.save(\"/content/drive/My Drive/data/caltech_101/caltech_2.h5\")"
      ],
      "execution_count": 0,
      "outputs": []
    },
    {
      "cell_type": "code",
      "metadata": {
        "id": "fdkSOiwdbQnc",
        "colab_type": "code",
        "colab": {}
      },
      "source": [
        ""
      ],
      "execution_count": 0,
      "outputs": []
    },
    {
      "cell_type": "code",
      "metadata": {
        "id": "lC3NZIApbQvT",
        "colab_type": "code",
        "colab": {}
      },
      "source": [
        "conv_base = VGG16(weights='imagenet',\n",
        "                  include_top=False,\n",
        "                  input_shape=(150, 150, 3))\n",
        "\n",
        "model = models.Sequential()\n",
        "model.add(conv_base)\n",
        "model.add(layers.GlobalAveragePooling2D())\n",
        "model.add(layers.Dense(512, activation='relu'))\n",
        "model.add(layers.Dense(256, activation='relu'))\n",
        "model.add(layers.Dense(102, activation='softmax'))"
      ],
      "execution_count": 0,
      "outputs": []
    },
    {
      "cell_type": "code",
      "metadata": {
        "id": "qeDCYhtCbQ1L",
        "colab_type": "code",
        "colab": {
          "base_uri": "https://localhost:8080/",
          "height": 35
        },
        "outputId": "f48a74da-2307-491c-c8df-ae7a4850f6ee"
      },
      "source": [
        "conv_base.trainable"
      ],
      "execution_count": 119,
      "outputs": [
        {
          "output_type": "execute_result",
          "data": {
            "text/plain": [
              "True"
            ]
          },
          "metadata": {
            "tags": []
          },
          "execution_count": 119
        }
      ]
    },
    {
      "cell_type": "code",
      "metadata": {
        "id": "l35OGLCwdT6b",
        "colab_type": "code",
        "colab": {
          "base_uri": "https://localhost:8080/",
          "height": 326
        },
        "outputId": "a5d76557-66e6-45b0-eb10-2055f84ed64d"
      },
      "source": [
        "model.summary()"
      ],
      "execution_count": 111,
      "outputs": [
        {
          "output_type": "stream",
          "text": [
            "_________________________________________________________________\n",
            "Layer (type)                 Output Shape              Param #   \n",
            "=================================================================\n",
            "vgg16 (Model)                (None, 4, 4, 512)         14714688  \n",
            "_________________________________________________________________\n",
            "global_average_pooling2d_4 ( (None, 512)               0         \n",
            "_________________________________________________________________\n",
            "dense_9 (Dense)              (None, 512)               262656    \n",
            "_________________________________________________________________\n",
            "dense_10 (Dense)             (None, 256)               131328    \n",
            "_________________________________________________________________\n",
            "dense_11 (Dense)             (None, 102)               26214     \n",
            "=================================================================\n",
            "Total params: 15,134,886\n",
            "Trainable params: 15,134,886\n",
            "Non-trainable params: 0\n",
            "_________________________________________________________________\n"
          ],
          "name": "stdout"
        }
      ]
    },
    {
      "cell_type": "code",
      "metadata": {
        "id": "sI4AlnWId6fW",
        "colab_type": "code",
        "colab": {
          "base_uri": "https://localhost:8080/",
          "height": 363
        },
        "outputId": "166e6c1c-eaa3-473a-df1c-7d3d79ff01c6"
      },
      "source": [
        "for layer in conv_base.layers:\n",
        "    print(layer.name)\n",
        "    "
      ],
      "execution_count": 116,
      "outputs": [
        {
          "output_type": "stream",
          "text": [
            "input_7\n",
            "block1_conv1\n",
            "block1_conv2\n",
            "block1_pool\n",
            "block2_conv1\n",
            "block2_conv2\n",
            "block2_pool\n",
            "block3_conv1\n",
            "block3_conv2\n",
            "block3_conv3\n",
            "block3_pool\n",
            "block4_conv1\n",
            "block4_conv2\n",
            "block4_conv3\n",
            "block4_pool\n",
            "block5_conv1\n",
            "block5_conv2\n",
            "block5_conv3\n",
            "block5_pool\n"
          ],
          "name": "stdout"
        }
      ]
    },
    {
      "cell_type": "code",
      "metadata": {
        "id": "YRl1BEJnfSIz",
        "colab_type": "code",
        "colab": {}
      },
      "source": [
        "conv_base.trainable = False"
      ],
      "execution_count": 0,
      "outputs": []
    },
    {
      "cell_type": "code",
      "metadata": {
        "id": "6wPSGZhref5H",
        "colab_type": "code",
        "colab": {
          "base_uri": "https://localhost:8080/",
          "height": 363
        },
        "outputId": "14b2663b-546b-4c51-eb9b-b9f937653b7d"
      },
      "source": [
        "for layer in conv_base.layers:\n",
        "    print(layer.name, layer.trainable)\n",
        "    "
      ],
      "execution_count": 121,
      "outputs": [
        {
          "output_type": "stream",
          "text": [
            "input_7 False\n",
            "block1_conv1 True\n",
            "block1_conv2 True\n",
            "block1_pool True\n",
            "block2_conv1 True\n",
            "block2_conv2 True\n",
            "block2_pool True\n",
            "block3_conv1 True\n",
            "block3_conv2 True\n",
            "block3_conv3 True\n",
            "block3_pool True\n",
            "block4_conv1 True\n",
            "block4_conv2 True\n",
            "block4_conv3 True\n",
            "block4_pool True\n",
            "block5_conv1 True\n",
            "block5_conv2 True\n",
            "block5_conv3 True\n",
            "block5_pool True\n"
          ],
          "name": "stdout"
        }
      ]
    },
    {
      "cell_type": "code",
      "metadata": {
        "id": "hagM8AtZfOmD",
        "colab_type": "code",
        "colab": {}
      },
      "source": [
        ""
      ],
      "execution_count": 0,
      "outputs": []
    },
    {
      "cell_type": "code",
      "metadata": {
        "id": "dvMKXlfEbQ4O",
        "colab_type": "code",
        "colab": {}
      },
      "source": [
        "conv_base.trainable = True\n",
        "\n",
        "set_trainable = False\n",
        "for layer in conv_base.layers:\n",
        "    if layer.name == 'block5_conv1':\n",
        "        set_trainable = True\n",
        "    if layer.name == 'block4_conv1':\n",
        "        set_trainable = True\n",
        "    if set_trainable:\n",
        "        layer.trainable = True\n",
        "    else:\n",
        "        layer.trainable = False"
      ],
      "execution_count": 0,
      "outputs": []
    },
    {
      "cell_type": "code",
      "metadata": {
        "id": "AvApOP71bQ9z",
        "colab_type": "code",
        "colab": {
          "base_uri": "https://localhost:8080/",
          "height": 1835
        },
        "outputId": "39d2b181-959a-4937-afcd-78535c5c80fc"
      },
      "source": [
        "model.compile(loss='categorical_crossentropy',\n",
        "              optimizer=optimizers.Adam(),\n",
        "              metrics=['acc'])\n",
        "\n",
        "history = model.fit_generator(\n",
        "      train_generator,\n",
        "      steps_per_epoch=100,\n",
        "      epochs=50,\n",
        "      validation_data=validation_generator,\n",
        "      validation_steps=50)"
      ],
      "execution_count": 126,
      "outputs": [
        {
          "output_type": "stream",
          "text": [
            "Epoch 1/50\n",
            "100/100 [==============================] - 16s 161ms/step - loss: 0.7362 - acc: 0.7884 - val_loss: 2.3332 - val_acc: 0.5710\n",
            "Epoch 2/50\n",
            "100/100 [==============================] - 14s 143ms/step - loss: 0.5407 - acc: 0.8515 - val_loss: 2.7689 - val_acc: 0.5526\n",
            "Epoch 3/50\n",
            "100/100 [==============================] - 14s 144ms/step - loss: 0.6995 - acc: 0.8075 - val_loss: 2.3290 - val_acc: 0.5910\n",
            "Epoch 4/50\n",
            "100/100 [==============================] - 14s 145ms/step - loss: 0.6717 - acc: 0.8105 - val_loss: 2.1428 - val_acc: 0.5921\n",
            "Epoch 5/50\n",
            "100/100 [==============================] - 14s 140ms/step - loss: 0.4943 - acc: 0.8587 - val_loss: 2.5711 - val_acc: 0.5810\n",
            "Epoch 6/50\n",
            "100/100 [==============================] - 14s 138ms/step - loss: 0.5551 - acc: 0.8450 - val_loss: 2.5016 - val_acc: 0.5749\n",
            "Epoch 7/50\n",
            "100/100 [==============================] - 14s 140ms/step - loss: 0.5386 - acc: 0.8470 - val_loss: 2.5775 - val_acc: 0.6060\n",
            "Epoch 8/50\n",
            "100/100 [==============================] - 14s 140ms/step - loss: 0.5065 - acc: 0.8610 - val_loss: 2.2705 - val_acc: 0.6154\n",
            "Epoch 9/50\n",
            "100/100 [==============================] - 14s 140ms/step - loss: 0.6184 - acc: 0.8415 - val_loss: 2.8898 - val_acc: 0.5334\n",
            "Epoch 10/50\n",
            "100/100 [==============================] - 14s 140ms/step - loss: 0.6300 - acc: 0.8250 - val_loss: 2.5959 - val_acc: 0.5870\n",
            "Epoch 11/50\n",
            "100/100 [==============================] - 14s 139ms/step - loss: 0.4819 - acc: 0.8727 - val_loss: 2.7679 - val_acc: 0.5769\n",
            "Epoch 12/50\n",
            "100/100 [==============================] - 14s 140ms/step - loss: 0.5608 - acc: 0.8490 - val_loss: 2.8778 - val_acc: 0.5730\n",
            "Epoch 13/50\n",
            "100/100 [==============================] - 14s 142ms/step - loss: 0.7088 - acc: 0.8100 - val_loss: 2.6609 - val_acc: 0.5536\n",
            "Epoch 14/50\n",
            "100/100 [==============================] - 14s 140ms/step - loss: 0.5820 - acc: 0.8422 - val_loss: 2.7331 - val_acc: 0.5690\n",
            "Epoch 15/50\n",
            "100/100 [==============================] - 14s 139ms/step - loss: 0.6331 - acc: 0.8305 - val_loss: 3.2980 - val_acc: 0.5243\n",
            "Epoch 16/50\n",
            "100/100 [==============================] - 14s 140ms/step - loss: 0.6995 - acc: 0.8065 - val_loss: 2.7105 - val_acc: 0.5520\n",
            "Epoch 17/50\n",
            "100/100 [==============================] - 14s 140ms/step - loss: 0.4771 - acc: 0.8692 - val_loss: 2.6523 - val_acc: 0.5759\n",
            "Epoch 18/50\n",
            "100/100 [==============================] - 14s 140ms/step - loss: 0.3968 - acc: 0.8930 - val_loss: 2.6412 - val_acc: 0.5941\n",
            "Epoch 19/50\n",
            "100/100 [==============================] - 14s 141ms/step - loss: 0.3470 - acc: 0.8935 - val_loss: 3.0565 - val_acc: 0.5810\n",
            "Epoch 20/50\n",
            "100/100 [==============================] - 14s 140ms/step - loss: 0.5043 - acc: 0.8620 - val_loss: 2.7526 - val_acc: 0.5577\n",
            "Epoch 21/50\n",
            "100/100 [==============================] - 14s 140ms/step - loss: 0.3167 - acc: 0.9090 - val_loss: 2.9298 - val_acc: 0.5710\n",
            "Epoch 22/50\n",
            "100/100 [==============================] - 14s 142ms/step - loss: 0.3927 - acc: 0.8910 - val_loss: 2.8292 - val_acc: 0.5789\n",
            "Epoch 23/50\n",
            "100/100 [==============================] - 14s 141ms/step - loss: 0.5793 - acc: 0.8380 - val_loss: 2.6015 - val_acc: 0.5780\n",
            "Epoch 24/50\n",
            "100/100 [==============================] - 14s 142ms/step - loss: 0.3560 - acc: 0.8919 - val_loss: 2.7286 - val_acc: 0.5921\n",
            "Epoch 25/50\n",
            "100/100 [==============================] - 14s 141ms/step - loss: 0.2954 - acc: 0.9005 - val_loss: 2.6744 - val_acc: 0.6170\n",
            "Epoch 26/50\n",
            "100/100 [==============================] - 14s 143ms/step - loss: 0.3033 - acc: 0.9145 - val_loss: 3.0259 - val_acc: 0.5395\n",
            "Epoch 27/50\n",
            "100/100 [==============================] - 14s 140ms/step - loss: 0.4190 - acc: 0.8890 - val_loss: 3.2210 - val_acc: 0.5830\n",
            "Epoch 28/50\n",
            "100/100 [==============================] - 14s 140ms/step - loss: 0.3928 - acc: 0.8955 - val_loss: 2.8662 - val_acc: 0.5540\n",
            "Epoch 29/50\n",
            "100/100 [==============================] - 14s 139ms/step - loss: 0.3647 - acc: 0.8930 - val_loss: 2.9481 - val_acc: 0.5658\n",
            "Epoch 30/50\n",
            "100/100 [==============================] - 14s 142ms/step - loss: 0.3945 - acc: 0.8950 - val_loss: 3.0361 - val_acc: 0.5720\n",
            "Epoch 31/50\n",
            "100/100 [==============================] - 14s 140ms/step - loss: 0.3835 - acc: 0.8960 - val_loss: 3.4797 - val_acc: 0.5466\n",
            "Epoch 32/50\n",
            "100/100 [==============================] - 14s 140ms/step - loss: 0.5841 - acc: 0.8490 - val_loss: 3.0397 - val_acc: 0.5790\n",
            "Epoch 33/50\n",
            "100/100 [==============================] - 14s 139ms/step - loss: 0.5918 - acc: 0.8437 - val_loss: 2.8425 - val_acc: 0.5810\n",
            "Epoch 34/50\n",
            "100/100 [==============================] - 14s 140ms/step - loss: 1.1119 - acc: 0.7725 - val_loss: 2.8935 - val_acc: 0.5180\n",
            "Epoch 35/50\n",
            "100/100 [==============================] - 14s 140ms/step - loss: 0.8209 - acc: 0.7910 - val_loss: 2.7321 - val_acc: 0.5415\n",
            "Epoch 36/50\n",
            "100/100 [==============================] - 14s 141ms/step - loss: 0.4901 - acc: 0.8670 - val_loss: 2.5140 - val_acc: 0.5982\n",
            "Epoch 37/50\n",
            "100/100 [==============================] - 14s 140ms/step - loss: 0.3817 - acc: 0.9060 - val_loss: 2.9993 - val_acc: 0.5900\n",
            "Epoch 38/50\n",
            "100/100 [==============================] - 14s 140ms/step - loss: 0.3428 - acc: 0.9050 - val_loss: 2.9407 - val_acc: 0.5759\n",
            "Epoch 39/50\n",
            "100/100 [==============================] - 14s 140ms/step - loss: 0.4230 - acc: 0.8905 - val_loss: 3.1635 - val_acc: 0.5640\n",
            "Epoch 40/50\n",
            "100/100 [==============================] - 14s 139ms/step - loss: 0.2428 - acc: 0.9377 - val_loss: 2.9789 - val_acc: 0.5911\n",
            "Epoch 41/50\n",
            "100/100 [==============================] - 14s 140ms/step - loss: 0.2905 - acc: 0.9235 - val_loss: 3.2641 - val_acc: 0.5810\n",
            "Epoch 42/50\n",
            "100/100 [==============================] - 14s 141ms/step - loss: 0.4951 - acc: 0.8765 - val_loss: 3.2955 - val_acc: 0.5607\n",
            "Epoch 43/50\n",
            "100/100 [==============================] - 14s 140ms/step - loss: 0.2829 - acc: 0.9220 - val_loss: 3.0751 - val_acc: 0.5780\n",
            "Epoch 44/50\n",
            "100/100 [==============================] - 14s 141ms/step - loss: 0.2681 - acc: 0.9255 - val_loss: 3.0173 - val_acc: 0.5719\n",
            "Epoch 45/50\n",
            "100/100 [==============================] - 14s 139ms/step - loss: 0.2211 - acc: 0.9355 - val_loss: 2.8260 - val_acc: 0.6032\n",
            "Epoch 46/50\n",
            "100/100 [==============================] - 14s 140ms/step - loss: 0.2311 - acc: 0.9362 - val_loss: 3.6207 - val_acc: 0.5760\n",
            "Epoch 47/50\n",
            "100/100 [==============================] - 14s 143ms/step - loss: 0.4462 - acc: 0.8985 - val_loss: 3.6807 - val_acc: 0.5354\n",
            "Epoch 48/50\n",
            "100/100 [==============================] - 14s 144ms/step - loss: 0.5430 - acc: 0.8665 - val_loss: 2.8806 - val_acc: 0.5750\n",
            "Epoch 49/50\n",
            "100/100 [==============================] - 14s 141ms/step - loss: 0.2952 - acc: 0.9212 - val_loss: 2.9868 - val_acc: 0.5901\n",
            "Epoch 50/50\n",
            "100/100 [==============================] - 14s 140ms/step - loss: 0.2040 - acc: 0.9445 - val_loss: 3.2131 - val_acc: 0.5830\n"
          ],
          "name": "stdout"
        }
      ]
    },
    {
      "cell_type": "code",
      "metadata": {
        "id": "hdTDxBF2lVP8",
        "colab_type": "code",
        "colab": {}
      },
      "source": [
        "model.save(\"/content/drive/My Drive/data/caltech_101/caltech_3.h5\")\n"
      ],
      "execution_count": 0,
      "outputs": []
    },
    {
      "cell_type": "code",
      "metadata": {
        "id": "gIYNoMa8ldcR",
        "colab_type": "code",
        "colab": {
          "base_uri": "https://localhost:8080/",
          "height": 35
        },
        "outputId": "22a542bd-4e00-43d4-915b-a955b00243fa"
      },
      "source": [
        "!ls '/content/drive/My Drive/data/caltech_101/'"
      ],
      "execution_count": 128,
      "outputs": [
        {
          "output_type": "stream",
          "text": [
            "101_ObjectCategories  caltech_1.h5  caltech_2.h5  caltech_3.h5\tdata\n"
          ],
          "name": "stdout"
        }
      ]
    },
    {
      "cell_type": "code",
      "metadata": {
        "id": "Z9TOD8KllW9h",
        "colab_type": "code",
        "colab": {
          "base_uri": "https://localhost:8080/",
          "height": 35
        },
        "outputId": "9600bd2c-9f02-4f2b-e8e5-110023a8ee84"
      },
      "source": [
        "test_loss, test_acc = model.evaluate_generator(test_generator, steps=50)\n",
        "print('test acc:', test_acc)"
      ],
      "execution_count": 129,
      "outputs": [
        {
          "output_type": "stream",
          "text": [
            "test acc: 0.580874872868568\n"
          ],
          "name": "stdout"
        }
      ]
    },
    {
      "cell_type": "code",
      "metadata": {
        "id": "KqMF3reUltRr",
        "colab_type": "code",
        "colab": {}
      },
      "source": [
        ""
      ],
      "execution_count": 0,
      "outputs": []
    },
    {
      "cell_type": "code",
      "metadata": {
        "id": "SegjUUKmltUk",
        "colab_type": "code",
        "colab": {}
      },
      "source": [
        ""
      ],
      "execution_count": 0,
      "outputs": []
    },
    {
      "cell_type": "code",
      "metadata": {
        "id": "XSw3OWe8ltXe",
        "colab_type": "code",
        "colab": {}
      },
      "source": [
        "conv_base = VGG16(weights='imagenet',\n",
        "                  include_top=False,\n",
        "                  input_shape=(150, 150, 3))\n",
        "\n",
        "model = models.Sequential()\n",
        "model.add(conv_base)\n",
        "model.add(layers.GlobalAveragePooling2D())\n",
        "model.add(layers.Dense(512, activation='relu'))\n",
        "model.add(layers.Dense(256, activation='relu'))\n",
        "model.add(layers.Dense(102, activation='softmax'))"
      ],
      "execution_count": 0,
      "outputs": []
    },
    {
      "cell_type": "code",
      "metadata": {
        "id": "PMSLf-_Lltai",
        "colab_type": "code",
        "colab": {}
      },
      "source": [
        "conv_base.trainable = False"
      ],
      "execution_count": 0,
      "outputs": []
    },
    {
      "cell_type": "code",
      "metadata": {
        "id": "y358cQr3l3sT",
        "colab_type": "code",
        "colab": {
          "base_uri": "https://localhost:8080/",
          "height": 3690
        },
        "outputId": "9818c449-ae02-4df7-8a56-220f4c02d691"
      },
      "source": [
        "%%time\n",
        "model.compile(loss='categorical_crossentropy',\n",
        "              optimizer=optimizers.Adam(),\n",
        "              metrics=['acc'])\n",
        "\n",
        "history = model.fit_generator(\n",
        "      train_generator,\n",
        "      steps_per_epoch=100,\n",
        "      epochs=100,\n",
        "      validation_data=validation_generator,\n",
        "      validation_steps=50)"
      ],
      "execution_count": 132,
      "outputs": [
        {
          "output_type": "stream",
          "text": [
            "Epoch 1/100\n",
            "100/100 [==============================] - 13s 127ms/step - loss: 3.4454 - acc: 0.2900 - val_loss: 2.7094 - val_acc: 0.3978\n",
            "Epoch 2/100\n",
            "100/100 [==============================] - 11s 114ms/step - loss: 2.1993 - acc: 0.4984 - val_loss: 1.8665 - val_acc: 0.5688\n",
            "Epoch 3/100\n",
            "100/100 [==============================] - 12s 115ms/step - loss: 1.6250 - acc: 0.5965 - val_loss: 1.5164 - val_acc: 0.6200\n",
            "Epoch 4/100\n",
            "100/100 [==============================] - 12s 123ms/step - loss: 1.3026 - acc: 0.6690 - val_loss: 1.3433 - val_acc: 0.6366\n",
            "Epoch 5/100\n",
            "100/100 [==============================] - 13s 126ms/step - loss: 1.1438 - acc: 0.6992 - val_loss: 1.1271 - val_acc: 0.7080\n",
            "Epoch 6/100\n",
            "100/100 [==============================] - 12s 116ms/step - loss: 0.9341 - acc: 0.7460 - val_loss: 1.1516 - val_acc: 0.6984\n",
            "Epoch 7/100\n",
            "100/100 [==============================] - 11s 114ms/step - loss: 0.9102 - acc: 0.7495 - val_loss: 1.0506 - val_acc: 0.7190\n",
            "Epoch 8/100\n",
            "100/100 [==============================] - 11s 113ms/step - loss: 0.8765 - acc: 0.7570 - val_loss: 0.9280 - val_acc: 0.7540\n",
            "Epoch 9/100\n",
            "100/100 [==============================] - 12s 116ms/step - loss: 0.6995 - acc: 0.7976 - val_loss: 1.1303 - val_acc: 0.7030\n",
            "Epoch 10/100\n",
            "100/100 [==============================] - 11s 114ms/step - loss: 0.6608 - acc: 0.8070 - val_loss: 0.9985 - val_acc: 0.7379\n",
            "Epoch 11/100\n",
            "100/100 [==============================] - 12s 121ms/step - loss: 0.6730 - acc: 0.8130 - val_loss: 0.9334 - val_acc: 0.7490\n",
            "Epoch 12/100\n",
            "100/100 [==============================] - 12s 118ms/step - loss: 0.5557 - acc: 0.8400 - val_loss: 1.0167 - val_acc: 0.7370\n",
            "Epoch 13/100\n",
            "100/100 [==============================] - 11s 115ms/step - loss: 0.5660 - acc: 0.8320 - val_loss: 0.9400 - val_acc: 0.7611\n",
            "Epoch 14/100\n",
            "100/100 [==============================] - 11s 113ms/step - loss: 0.5556 - acc: 0.8320 - val_loss: 0.8937 - val_acc: 0.7480\n",
            "Epoch 15/100\n",
            "100/100 [==============================] - 11s 112ms/step - loss: 0.4007 - acc: 0.8882 - val_loss: 0.9605 - val_acc: 0.7389\n",
            "Epoch 16/100\n",
            "100/100 [==============================] - 11s 113ms/step - loss: 0.4296 - acc: 0.8710 - val_loss: 0.9312 - val_acc: 0.7660\n",
            "Epoch 17/100\n",
            "100/100 [==============================] - 11s 113ms/step - loss: 0.4741 - acc: 0.8545 - val_loss: 0.8826 - val_acc: 0.7601\n",
            "Epoch 18/100\n",
            "100/100 [==============================] - 12s 120ms/step - loss: 0.4013 - acc: 0.8812 - val_loss: 0.9806 - val_acc: 0.7430\n",
            "Epoch 19/100\n",
            "100/100 [==============================] - 12s 116ms/step - loss: 0.3552 - acc: 0.8955 - val_loss: 0.9333 - val_acc: 0.7672\n",
            "Epoch 20/100\n",
            "100/100 [==============================] - 11s 113ms/step - loss: 0.3698 - acc: 0.8955 - val_loss: 0.8323 - val_acc: 0.7804\n",
            "Epoch 21/100\n",
            "100/100 [==============================] - 11s 114ms/step - loss: 0.3134 - acc: 0.9150 - val_loss: 0.8384 - val_acc: 0.7730\n",
            "Epoch 22/100\n",
            "100/100 [==============================] - 11s 112ms/step - loss: 0.2604 - acc: 0.9275 - val_loss: 0.9418 - val_acc: 0.7753\n",
            "Epoch 23/100\n",
            "100/100 [==============================] - 11s 113ms/step - loss: 0.3000 - acc: 0.9065 - val_loss: 0.9303 - val_acc: 0.7620\n",
            "Epoch 24/100\n",
            "100/100 [==============================] - 11s 112ms/step - loss: 0.2881 - acc: 0.9137 - val_loss: 0.7856 - val_acc: 0.8006\n",
            "Epoch 25/100\n",
            "100/100 [==============================] - 12s 120ms/step - loss: 0.1961 - acc: 0.9425 - val_loss: 0.9228 - val_acc: 0.7700\n",
            "Epoch 26/100\n",
            "100/100 [==============================] - 12s 119ms/step - loss: 0.2493 - acc: 0.9255 - val_loss: 0.8323 - val_acc: 0.7814\n",
            "Epoch 27/100\n",
            "100/100 [==============================] - 11s 112ms/step - loss: 0.2677 - acc: 0.9100 - val_loss: 0.8441 - val_acc: 0.7740\n",
            "Epoch 28/100\n",
            "100/100 [==============================] - 11s 113ms/step - loss: 0.1767 - acc: 0.9510 - val_loss: 0.9541 - val_acc: 0.7773\n",
            "Epoch 29/100\n",
            "100/100 [==============================] - 11s 114ms/step - loss: 0.1836 - acc: 0.9465 - val_loss: 0.9014 - val_acc: 0.7945\n",
            "Epoch 30/100\n",
            "100/100 [==============================] - 12s 117ms/step - loss: 0.2194 - acc: 0.9315 - val_loss: 0.9804 - val_acc: 0.7750\n",
            "Epoch 31/100\n",
            "100/100 [==============================] - 12s 119ms/step - loss: 0.1846 - acc: 0.9497 - val_loss: 0.9308 - val_acc: 0.7804\n",
            "Epoch 32/100\n",
            "100/100 [==============================] - 13s 132ms/step - loss: 0.1344 - acc: 0.9650 - val_loss: 0.9280 - val_acc: 0.7930\n",
            "Epoch 33/100\n",
            "100/100 [==============================] - 11s 114ms/step - loss: 0.1718 - acc: 0.9460 - val_loss: 0.9790 - val_acc: 0.7713\n",
            "Epoch 34/100\n",
            "100/100 [==============================] - 11s 113ms/step - loss: 0.1479 - acc: 0.9607 - val_loss: 0.9665 - val_acc: 0.7850\n",
            "Epoch 35/100\n",
            "100/100 [==============================] - 11s 113ms/step - loss: 0.1098 - acc: 0.9680 - val_loss: 1.0011 - val_acc: 0.7713\n",
            "Epoch 36/100\n",
            "100/100 [==============================] - 12s 117ms/step - loss: 0.1063 - acc: 0.9720 - val_loss: 0.9480 - val_acc: 0.7800\n",
            "Epoch 37/100\n",
            "100/100 [==============================] - 11s 114ms/step - loss: 0.1427 - acc: 0.9572 - val_loss: 0.9384 - val_acc: 0.7773\n",
            "Epoch 38/100\n",
            "100/100 [==============================] - 11s 115ms/step - loss: 0.0744 - acc: 0.9850 - val_loss: 0.9803 - val_acc: 0.7874\n",
            "Epoch 39/100\n",
            "100/100 [==============================] - 13s 126ms/step - loss: 0.0932 - acc: 0.9745 - val_loss: 0.9870 - val_acc: 0.7850\n",
            "Epoch 40/100\n",
            "100/100 [==============================] - 11s 114ms/step - loss: 0.1193 - acc: 0.9650 - val_loss: 0.9568 - val_acc: 0.7874\n",
            "Epoch 41/100\n",
            "100/100 [==============================] - 11s 115ms/step - loss: 0.0628 - acc: 0.9845 - val_loss: 1.0610 - val_acc: 0.7810\n",
            "Epoch 42/100\n",
            "100/100 [==============================] - 11s 113ms/step - loss: 0.0875 - acc: 0.9715 - val_loss: 0.9896 - val_acc: 0.7753\n",
            "Epoch 43/100\n",
            "100/100 [==============================] - 11s 113ms/step - loss: 0.1153 - acc: 0.9685 - val_loss: 1.0315 - val_acc: 0.7690\n",
            "Epoch 44/100\n",
            "100/100 [==============================] - 11s 114ms/step - loss: 0.0787 - acc: 0.9775 - val_loss: 1.0480 - val_acc: 0.7692\n",
            "Epoch 45/100\n",
            "100/100 [==============================] - 11s 114ms/step - loss: 0.0771 - acc: 0.9780 - val_loss: 1.0110 - val_acc: 0.7850\n",
            "Epoch 46/100\n",
            "100/100 [==============================] - 12s 123ms/step - loss: 0.1156 - acc: 0.9635 - val_loss: 0.9575 - val_acc: 0.7794\n",
            "Epoch 47/100\n",
            "100/100 [==============================] - 11s 114ms/step - loss: 0.1216 - acc: 0.9682 - val_loss: 1.0274 - val_acc: 0.7763\n",
            "Epoch 48/100\n",
            "100/100 [==============================] - 11s 113ms/step - loss: 0.0640 - acc: 0.9830 - val_loss: 1.1642 - val_acc: 0.7590\n",
            "Epoch 49/100\n",
            "100/100 [==============================] - 11s 113ms/step - loss: 0.0750 - acc: 0.9760 - val_loss: 1.0228 - val_acc: 0.7945\n",
            "Epoch 50/100\n",
            "100/100 [==============================] - 11s 114ms/step - loss: 0.0463 - acc: 0.9880 - val_loss: 0.9428 - val_acc: 0.8000\n",
            "Epoch 51/100\n",
            "100/100 [==============================] - 11s 114ms/step - loss: 0.0266 - acc: 0.9950 - val_loss: 1.2130 - val_acc: 0.7652\n",
            "Epoch 52/100\n",
            "100/100 [==============================] - 12s 120ms/step - loss: 0.0502 - acc: 0.9880 - val_loss: 1.0652 - val_acc: 0.7920\n",
            "Epoch 53/100\n",
            "100/100 [==============================] - 13s 126ms/step - loss: 0.0766 - acc: 0.9815 - val_loss: 1.0068 - val_acc: 0.7915\n",
            "Epoch 54/100\n",
            "100/100 [==============================] - 11s 113ms/step - loss: 0.0567 - acc: 0.9855 - val_loss: 1.0478 - val_acc: 0.7890\n",
            "Epoch 55/100\n",
            "100/100 [==============================] - 11s 112ms/step - loss: 0.0661 - acc: 0.9845 - val_loss: 1.2892 - val_acc: 0.7642\n",
            "Epoch 56/100\n",
            "100/100 [==============================] - 11s 113ms/step - loss: 0.0641 - acc: 0.9850 - val_loss: 1.1662 - val_acc: 0.7834\n",
            "Epoch 57/100\n",
            "100/100 [==============================] - 11s 115ms/step - loss: 0.0675 - acc: 0.9810 - val_loss: 1.0133 - val_acc: 0.7800\n",
            "Epoch 58/100\n",
            "100/100 [==============================] - 12s 122ms/step - loss: 0.0571 - acc: 0.9830 - val_loss: 1.3355 - val_acc: 0.7733\n",
            "Epoch 59/100\n",
            "100/100 [==============================] - 12s 118ms/step - loss: 0.0723 - acc: 0.9762 - val_loss: 1.1106 - val_acc: 0.7590\n",
            "Epoch 60/100\n",
            "100/100 [==============================] - 12s 125ms/step - loss: 0.0691 - acc: 0.9815 - val_loss: 1.2587 - val_acc: 0.7733\n",
            "Epoch 61/100\n",
            "100/100 [==============================] - 12s 116ms/step - loss: 0.0896 - acc: 0.9685 - val_loss: 1.1255 - val_acc: 0.7730\n",
            "Epoch 62/100\n",
            "100/100 [==============================] - 11s 113ms/step - loss: 0.0542 - acc: 0.9860 - val_loss: 1.1574 - val_acc: 0.7925\n",
            "Epoch 63/100\n",
            "100/100 [==============================] - 11s 113ms/step - loss: 0.0340 - acc: 0.9925 - val_loss: 1.2157 - val_acc: 0.7760\n",
            "Epoch 64/100\n",
            "100/100 [==============================] - 12s 115ms/step - loss: 0.0190 - acc: 0.9955 - val_loss: 0.9333 - val_acc: 0.8259\n",
            "Epoch 65/100\n",
            "100/100 [==============================] - 11s 112ms/step - loss: 0.0167 - acc: 0.9980 - val_loss: 1.3084 - val_acc: 0.7682\n",
            "Epoch 66/100\n",
            "100/100 [==============================] - 11s 112ms/step - loss: 0.0291 - acc: 0.9920 - val_loss: 1.2712 - val_acc: 0.7790\n",
            "Epoch 67/100\n",
            "100/100 [==============================] - 12s 125ms/step - loss: 0.0376 - acc: 0.9880 - val_loss: 1.0304 - val_acc: 0.8057\n",
            "Epoch 68/100\n",
            "100/100 [==============================] - 11s 114ms/step - loss: 0.0547 - acc: 0.9815 - val_loss: 1.2499 - val_acc: 0.7800\n",
            "Epoch 69/100\n",
            "100/100 [==============================] - 11s 113ms/step - loss: 0.0806 - acc: 0.9740 - val_loss: 1.2779 - val_acc: 0.7773\n",
            "Epoch 70/100\n",
            "100/100 [==============================] - 11s 115ms/step - loss: 0.0650 - acc: 0.9805 - val_loss: 1.1731 - val_acc: 0.7770\n",
            "Epoch 71/100\n",
            "100/100 [==============================] - 11s 113ms/step - loss: 0.0816 - acc: 0.9770 - val_loss: 1.2207 - val_acc: 0.7743\n",
            "Epoch 72/100\n",
            "100/100 [==============================] - 11s 114ms/step - loss: 0.0435 - acc: 0.9900 - val_loss: 1.1771 - val_acc: 0.7860\n",
            "Epoch 73/100\n",
            "100/100 [==============================] - 11s 113ms/step - loss: 0.0245 - acc: 0.9925 - val_loss: 1.2967 - val_acc: 0.7864\n",
            "Epoch 74/100\n",
            "100/100 [==============================] - 12s 124ms/step - loss: 0.0376 - acc: 0.9900 - val_loss: 1.1130 - val_acc: 0.8036\n",
            "Epoch 75/100\n",
            "100/100 [==============================] - 11s 114ms/step - loss: 0.0553 - acc: 0.9850 - val_loss: 1.1131 - val_acc: 0.8010\n",
            "Epoch 76/100\n",
            "100/100 [==============================] - 11s 113ms/step - loss: 0.0272 - acc: 0.9945 - val_loss: 1.3394 - val_acc: 0.7854\n",
            "Epoch 77/100\n",
            "100/100 [==============================] - 11s 113ms/step - loss: 0.0254 - acc: 0.9950 - val_loss: 1.0213 - val_acc: 0.8100\n",
            "Epoch 78/100\n",
            "100/100 [==============================] - 12s 120ms/step - loss: 0.0215 - acc: 0.9935 - val_loss: 1.2195 - val_acc: 0.7864\n",
            "Epoch 79/100\n",
            "100/100 [==============================] - 11s 113ms/step - loss: 0.0225 - acc: 0.9955 - val_loss: 1.1018 - val_acc: 0.8050\n",
            "Epoch 80/100\n",
            "100/100 [==============================] - 12s 116ms/step - loss: 0.0332 - acc: 0.9895 - val_loss: 1.1752 - val_acc: 0.7976\n",
            "Epoch 81/100\n",
            "100/100 [==============================] - 12s 124ms/step - loss: 0.0858 - acc: 0.9765 - val_loss: 1.3509 - val_acc: 0.7650\n",
            "Epoch 82/100\n",
            "100/100 [==============================] - 11s 113ms/step - loss: 0.0956 - acc: 0.9690 - val_loss: 1.2331 - val_acc: 0.7794\n",
            "Epoch 83/100\n",
            "100/100 [==============================] - 11s 114ms/step - loss: 0.0677 - acc: 0.9795 - val_loss: 1.3458 - val_acc: 0.7581\n",
            "Epoch 84/100\n",
            "100/100 [==============================] - 11s 114ms/step - loss: 0.0569 - acc: 0.9825 - val_loss: 1.1381 - val_acc: 0.7860\n",
            "Epoch 85/100\n",
            "100/100 [==============================] - 13s 127ms/step - loss: 0.0571 - acc: 0.9820 - val_loss: 1.3610 - val_acc: 0.7794\n",
            "Epoch 86/100\n",
            "100/100 [==============================] - 11s 113ms/step - loss: 0.0375 - acc: 0.9880 - val_loss: 1.1729 - val_acc: 0.7920\n",
            "Epoch 87/100\n",
            "100/100 [==============================] - 12s 117ms/step - loss: 0.0316 - acc: 0.9900 - val_loss: 1.2412 - val_acc: 0.7935\n",
            "Epoch 88/100\n",
            "100/100 [==============================] - 12s 123ms/step - loss: 0.0163 - acc: 0.9960 - val_loss: 1.2838 - val_acc: 0.7750\n",
            "Epoch 89/100\n",
            "100/100 [==============================] - 11s 113ms/step - loss: 0.0077 - acc: 0.9985 - val_loss: 1.3206 - val_acc: 0.7915\n",
            "Epoch 90/100\n",
            "100/100 [==============================] - 11s 113ms/step - loss: 0.0162 - acc: 0.9965 - val_loss: 1.2367 - val_acc: 0.7960\n",
            "Epoch 91/100\n",
            "100/100 [==============================] - 11s 113ms/step - loss: 0.0140 - acc: 0.9972 - val_loss: 1.1541 - val_acc: 0.7905\n",
            "Epoch 92/100\n",
            "100/100 [==============================] - 11s 113ms/step - loss: 0.0096 - acc: 0.9990 - val_loss: 1.1907 - val_acc: 0.8026\n",
            "Epoch 93/100\n",
            "100/100 [==============================] - 11s 113ms/step - loss: 0.0015 - acc: 1.0000 - val_loss: 1.2519 - val_acc: 0.7980\n",
            "Epoch 94/100\n",
            "100/100 [==============================] - 12s 116ms/step - loss: 0.0017 - acc: 1.0000 - val_loss: 1.1906 - val_acc: 0.8016\n",
            "Epoch 95/100\n",
            "100/100 [==============================] - 12s 123ms/step - loss: 6.0445e-04 - acc: 1.0000 - val_loss: 1.1403 - val_acc: 0.8060\n",
            "Epoch 96/100\n",
            "100/100 [==============================] - 12s 116ms/step - loss: 0.0030 - acc: 0.9995 - val_loss: 1.3125 - val_acc: 0.7945\n",
            "Epoch 97/100\n",
            "100/100 [==============================] - 11s 114ms/step - loss: 0.0093 - acc: 0.9985 - val_loss: 1.2872 - val_acc: 0.7860\n",
            "Epoch 98/100\n",
            "100/100 [==============================] - 11s 112ms/step - loss: 0.0157 - acc: 0.9955 - val_loss: 1.3214 - val_acc: 0.7915\n",
            "Epoch 99/100\n",
            "100/100 [==============================] - 11s 115ms/step - loss: 0.0456 - acc: 0.9885 - val_loss: 1.2795 - val_acc: 0.7850\n",
            "Epoch 100/100\n",
            "100/100 [==============================] - 11s 112ms/step - loss: 0.1231 - acc: 0.9625 - val_loss: 1.6520 - val_acc: 0.7257\n",
            "CPU times: user 18min 39s, sys: 3min 19s, total: 21min 58s\n",
            "Wall time: 19min 20s\n"
          ],
          "name": "stdout"
        }
      ]
    },
    {
      "cell_type": "code",
      "metadata": {
        "id": "jLNvTFWZl3yC",
        "colab_type": "code",
        "colab": {}
      },
      "source": [
        "model.save(\"/content/drive/My Drive/data/caltech_101/caltech_3.h5\")\n"
      ],
      "execution_count": 0,
      "outputs": []
    },
    {
      "cell_type": "code",
      "metadata": {
        "id": "UV6x8lZql333",
        "colab_type": "code",
        "colab": {
          "base_uri": "https://localhost:8080/",
          "height": 35
        },
        "outputId": "bc4c66f2-b5ad-45f6-d1aa-152916357a65"
      },
      "source": [
        "\n",
        "test_loss, test_acc = model.evaluate_generator(test_generator, steps=50)\n",
        "print('test acc:', test_acc)"
      ],
      "execution_count": 134,
      "outputs": [
        {
          "output_type": "stream",
          "text": [
            "test acc: 0.7263479150930232\n"
          ],
          "name": "stdout"
        }
      ]
    },
    {
      "cell_type": "code",
      "metadata": {
        "id": "BM2hRfAxl3_g",
        "colab_type": "code",
        "colab": {}
      },
      "source": [
        ""
      ],
      "execution_count": 0,
      "outputs": []
    },
    {
      "cell_type": "code",
      "metadata": {
        "id": "aWVoCa9CswK0",
        "colab_type": "code",
        "colab": {}
      },
      "source": [
        ""
      ],
      "execution_count": 0,
      "outputs": []
    },
    {
      "cell_type": "code",
      "metadata": {
        "id": "3YCxFMzyswOi",
        "colab_type": "code",
        "colab": {}
      },
      "source": [
        "conv_base = VGG16(weights='imagenet',\n",
        "                  include_top=False,\n",
        "                  input_shape=(150, 150, 3))\n",
        "\n"
      ],
      "execution_count": 0,
      "outputs": []
    },
    {
      "cell_type": "code",
      "metadata": {
        "id": "yOJUf8prswR_",
        "colab_type": "code",
        "colab": {
          "base_uri": "https://localhost:8080/",
          "height": 363
        },
        "outputId": "72610911-5c8e-42aa-899d-f51370095832"
      },
      "source": [
        "# Freeze the layers except the last 4 layers\n",
        "for layer in conv_base.layers[:-4]:\n",
        "    layer.trainable = False\n",
        " \n",
        "#Check the trainable status of the individual layers\n",
        "for layer in conv_base.layers:\n",
        "    print(layer, layer.trainable)"
      ],
      "execution_count": 145,
      "outputs": [
        {
          "output_type": "stream",
          "text": [
            "<keras.engine.input_layer.InputLayer object at 0x7f7ca1f536a0> False\n",
            "<keras.layers.convolutional.Conv2D object at 0x7f7ca1f53198> False\n",
            "<keras.layers.convolutional.Conv2D object at 0x7f7ca1e2a940> False\n",
            "<keras.layers.pooling.MaxPooling2D object at 0x7f7ca1f4cb38> False\n",
            "<keras.layers.convolutional.Conv2D object at 0x7f7ca1f61f98> False\n",
            "<keras.layers.convolutional.Conv2D object at 0x7f7ca1df5470> False\n",
            "<keras.layers.pooling.MaxPooling2D object at 0x7f7ca27a3cc0> False\n",
            "<keras.layers.convolutional.Conv2D object at 0x7f7ca1f710f0> False\n",
            "<keras.layers.convolutional.Conv2D object at 0x7f7ca1ea0780> False\n",
            "<keras.layers.convolutional.Conv2D object at 0x7f7ca1ee8ef0> False\n",
            "<keras.layers.pooling.MaxPooling2D object at 0x7f7ca1ec5748> False\n",
            "<keras.layers.convolutional.Conv2D object at 0x7f7ca1ec5128> False\n",
            "<keras.layers.convolutional.Conv2D object at 0x7f7ca1e6c320> False\n",
            "<keras.layers.convolutional.Conv2D object at 0x7f7ca1f23a20> False\n",
            "<keras.layers.pooling.MaxPooling2D object at 0x7f7ca1f2f160> False\n",
            "<keras.layers.convolutional.Conv2D object at 0x7f7ca1f34dd8> True\n",
            "<keras.layers.convolutional.Conv2D object at 0x7f7ca1d83d30> True\n",
            "<keras.layers.convolutional.Conv2D object at 0x7f7ca1db0518> True\n",
            "<keras.layers.pooling.MaxPooling2D object at 0x7f7ca1d47940> True\n"
          ],
          "name": "stdout"
        }
      ]
    },
    {
      "cell_type": "code",
      "metadata": {
        "id": "Ey1pTIvjuOYV",
        "colab_type": "code",
        "colab": {}
      },
      "source": [
        "model = models.Sequential()\n",
        "model.add(conv_base)\n",
        "model.add(layers.GlobalAveragePooling2D())\n",
        "model.add(layers.Dense(512, activation='relu'))\n",
        "model.add(layers.Dropout(0.3))\n",
        "model.add(layers.Dense(256, activation='relu'))\n",
        "model.add(layers.Dense(102, activation='softmax'))"
      ],
      "execution_count": 0,
      "outputs": []
    },
    {
      "cell_type": "code",
      "metadata": {
        "id": "Q8C4JiV6uXN8",
        "colab_type": "code",
        "colab": {
          "base_uri": "https://localhost:8080/",
          "height": 2599
        },
        "outputId": "92062260-5389-4570-95e6-535b56b328f0"
      },
      "source": [
        "%%time\n",
        "model.compile(loss='categorical_crossentropy',\n",
        "              optimizer=optimizers.Adam(),\n",
        "              metrics=['acc'])\n",
        "\n",
        "history = model.fit_generator(\n",
        "      train_generator,\n",
        "      steps_per_epoch=100,\n",
        "      epochs=70,\n",
        "      validation_data=validation_generator,\n",
        "      validation_steps=50)"
      ],
      "execution_count": 147,
      "outputs": [
        {
          "output_type": "stream",
          "text": [
            "Epoch 1/70\n",
            "100/100 [==============================] - 14s 141ms/step - loss: 3.8011 - acc: 0.1750 - val_loss: 3.2655 - val_acc: 0.2910\n",
            "Epoch 2/70\n",
            "100/100 [==============================] - 12s 121ms/step - loss: 2.9917 - acc: 0.3715 - val_loss: 2.9441 - val_acc: 0.3806\n",
            "Epoch 3/70\n",
            "100/100 [==============================] - 12s 121ms/step - loss: 2.9601 - acc: 0.3575 - val_loss: 2.6454 - val_acc: 0.3897\n",
            "Epoch 4/70\n",
            "100/100 [==============================] - 12s 120ms/step - loss: 2.5622 - acc: 0.4184 - val_loss: 2.5929 - val_acc: 0.4120\n",
            "Epoch 5/70\n",
            "100/100 [==============================] - 13s 128ms/step - loss: 2.3403 - acc: 0.4450 - val_loss: 2.4619 - val_acc: 0.4453\n",
            "Epoch 6/70\n",
            "100/100 [==============================] - 12s 120ms/step - loss: 2.1671 - acc: 0.4770 - val_loss: 2.1796 - val_acc: 0.4690\n",
            "Epoch 7/70\n",
            "100/100 [==============================] - 12s 119ms/step - loss: 2.0121 - acc: 0.5002 - val_loss: 1.8609 - val_acc: 0.5435\n",
            "Epoch 8/70\n",
            "100/100 [==============================] - 13s 125ms/step - loss: 1.8544 - acc: 0.5475 - val_loss: 2.1901 - val_acc: 0.5020\n",
            "Epoch 9/70\n",
            "100/100 [==============================] - 13s 127ms/step - loss: 1.8346 - acc: 0.5365 - val_loss: 1.7073 - val_acc: 0.5547\n",
            "Epoch 10/70\n",
            "100/100 [==============================] - 12s 118ms/step - loss: 1.5062 - acc: 0.6029 - val_loss: 1.6668 - val_acc: 0.5810\n",
            "Epoch 11/70\n",
            "100/100 [==============================] - 12s 121ms/step - loss: 1.4405 - acc: 0.6090 - val_loss: 1.7864 - val_acc: 0.5840\n",
            "Epoch 12/70\n",
            "100/100 [==============================] - 13s 130ms/step - loss: 1.5978 - acc: 0.5880 - val_loss: 1.7191 - val_acc: 0.5911\n",
            "Epoch 13/70\n",
            "100/100 [==============================] - 12s 119ms/step - loss: 1.2866 - acc: 0.6699 - val_loss: 1.4047 - val_acc: 0.6470\n",
            "Epoch 14/70\n",
            "100/100 [==============================] - 12s 119ms/step - loss: 1.1088 - acc: 0.6945 - val_loss: 1.5916 - val_acc: 0.6346\n",
            "Epoch 15/70\n",
            "100/100 [==============================] - 12s 120ms/step - loss: 1.0985 - acc: 0.6885 - val_loss: 1.5741 - val_acc: 0.6210\n",
            "Epoch 16/70\n",
            "100/100 [==============================] - 12s 119ms/step - loss: 1.1338 - acc: 0.6874 - val_loss: 1.3559 - val_acc: 0.6538\n",
            "Epoch 17/70\n",
            "100/100 [==============================] - 12s 118ms/step - loss: 0.8379 - acc: 0.7525 - val_loss: 1.3593 - val_acc: 0.6650\n",
            "Epoch 18/70\n",
            "100/100 [==============================] - 12s 124ms/step - loss: 0.8419 - acc: 0.7530 - val_loss: 1.4075 - val_acc: 0.6478\n",
            "Epoch 19/70\n",
            "100/100 [==============================] - 12s 123ms/step - loss: 0.8583 - acc: 0.7575 - val_loss: 1.2181 - val_acc: 0.6910\n",
            "Epoch 20/70\n",
            "100/100 [==============================] - 12s 117ms/step - loss: 0.6594 - acc: 0.8017 - val_loss: 1.6985 - val_acc: 0.6660\n",
            "Epoch 21/70\n",
            "100/100 [==============================] - 12s 117ms/step - loss: 0.7466 - acc: 0.7855 - val_loss: 1.4817 - val_acc: 0.6680\n",
            "Epoch 22/70\n",
            "100/100 [==============================] - 12s 118ms/step - loss: 0.7749 - acc: 0.7870 - val_loss: 1.4634 - val_acc: 0.6870\n",
            "Epoch 23/70\n",
            "100/100 [==============================] - 12s 122ms/step - loss: 0.6945 - acc: 0.8099 - val_loss: 1.3396 - val_acc: 0.6933\n",
            "Epoch 24/70\n",
            "100/100 [==============================] - 12s 123ms/step - loss: 0.5982 - acc: 0.8220 - val_loss: 1.4029 - val_acc: 0.7050\n",
            "Epoch 25/70\n",
            "100/100 [==============================] - 13s 128ms/step - loss: 0.5466 - acc: 0.8375 - val_loss: 1.2983 - val_acc: 0.7065\n",
            "Epoch 26/70\n",
            "100/100 [==============================] - 12s 119ms/step - loss: 0.4787 - acc: 0.8590 - val_loss: 1.2668 - val_acc: 0.7330\n",
            "Epoch 27/70\n",
            "100/100 [==============================] - 12s 116ms/step - loss: 0.5502 - acc: 0.8520 - val_loss: 1.4170 - val_acc: 0.6802\n",
            "Epoch 28/70\n",
            "100/100 [==============================] - 12s 119ms/step - loss: 0.6043 - acc: 0.8360 - val_loss: 1.3928 - val_acc: 0.6900\n",
            "Epoch 29/70\n",
            "100/100 [==============================] - 12s 118ms/step - loss: 0.5656 - acc: 0.8465 - val_loss: 2.1810 - val_acc: 0.6690\n",
            "Epoch 30/70\n",
            "100/100 [==============================] - 12s 116ms/step - loss: 0.5223 - acc: 0.8660 - val_loss: 1.3288 - val_acc: 0.7115\n",
            "Epoch 31/70\n",
            "100/100 [==============================] - 12s 118ms/step - loss: 0.3689 - acc: 0.8855 - val_loss: 1.3611 - val_acc: 0.7290\n",
            "Epoch 32/70\n",
            "100/100 [==============================] - 13s 128ms/step - loss: 0.4138 - acc: 0.8722 - val_loss: 1.4102 - val_acc: 0.7146\n",
            "Epoch 33/70\n",
            "100/100 [==============================] - 12s 119ms/step - loss: 0.2956 - acc: 0.9100 - val_loss: 1.4567 - val_acc: 0.7160\n",
            "Epoch 34/70\n",
            "100/100 [==============================] - 13s 128ms/step - loss: 0.3216 - acc: 0.9005 - val_loss: 1.5411 - val_acc: 0.7136\n",
            "Epoch 35/70\n",
            "100/100 [==============================] - 12s 121ms/step - loss: 0.4404 - acc: 0.8845 - val_loss: 1.6534 - val_acc: 0.6830\n",
            "Epoch 36/70\n",
            "100/100 [==============================] - 12s 118ms/step - loss: 0.3689 - acc: 0.9005 - val_loss: 1.3580 - val_acc: 0.7368\n",
            "Epoch 37/70\n",
            "100/100 [==============================] - 12s 119ms/step - loss: 0.4232 - acc: 0.8935 - val_loss: 1.6921 - val_acc: 0.6840\n",
            "Epoch 38/70\n",
            "100/100 [==============================] - 12s 124ms/step - loss: 0.3931 - acc: 0.8885 - val_loss: 1.4557 - val_acc: 0.7095\n",
            "Epoch 39/70\n",
            "100/100 [==============================] - 12s 121ms/step - loss: 0.2419 - acc: 0.9307 - val_loss: 1.5402 - val_acc: 0.7166\n",
            "Epoch 40/70\n",
            "100/100 [==============================] - 12s 119ms/step - loss: 0.2608 - acc: 0.9280 - val_loss: 1.3580 - val_acc: 0.7340\n",
            "Epoch 41/70\n",
            "100/100 [==============================] - 12s 118ms/step - loss: 0.2784 - acc: 0.9170 - val_loss: 1.5117 - val_acc: 0.7156\n",
            "Epoch 42/70\n",
            "100/100 [==============================] - 12s 119ms/step - loss: 0.1922 - acc: 0.9432 - val_loss: 1.4295 - val_acc: 0.7200\n",
            "Epoch 43/70\n",
            "100/100 [==============================] - 12s 118ms/step - loss: 0.2189 - acc: 0.9380 - val_loss: 1.5876 - val_acc: 0.7227\n",
            "Epoch 44/70\n",
            "100/100 [==============================] - 12s 118ms/step - loss: 0.2865 - acc: 0.9330 - val_loss: 1.5692 - val_acc: 0.7240\n",
            "Epoch 45/70\n",
            "100/100 [==============================] - 13s 127ms/step - loss: 0.2524 - acc: 0.9310 - val_loss: 1.3835 - val_acc: 0.7399\n",
            "Epoch 46/70\n",
            "100/100 [==============================] - 12s 118ms/step - loss: 0.2628 - acc: 0.9310 - val_loss: 1.7125 - val_acc: 0.7240\n",
            "Epoch 47/70\n",
            "100/100 [==============================] - 12s 118ms/step - loss: 0.2619 - acc: 0.9265 - val_loss: 1.5991 - val_acc: 0.7277\n",
            "Epoch 48/70\n",
            "100/100 [==============================] - 12s 117ms/step - loss: 0.3007 - acc: 0.9210 - val_loss: 1.7392 - val_acc: 0.6923\n",
            "Epoch 49/70\n",
            "100/100 [==============================] - 12s 124ms/step - loss: 0.2122 - acc: 0.9405 - val_loss: 1.6377 - val_acc: 0.7210\n",
            "Epoch 50/70\n",
            "100/100 [==============================] - 12s 117ms/step - loss: 0.2807 - acc: 0.9245 - val_loss: 1.3331 - val_acc: 0.7621\n",
            "Epoch 51/70\n",
            "100/100 [==============================] - 12s 120ms/step - loss: 0.2218 - acc: 0.9355 - val_loss: 1.4772 - val_acc: 0.7460\n",
            "Epoch 52/70\n",
            "100/100 [==============================] - 13s 128ms/step - loss: 0.1363 - acc: 0.9610 - val_loss: 1.3980 - val_acc: 0.7621\n",
            "Epoch 53/70\n",
            "100/100 [==============================] - 12s 118ms/step - loss: 0.1650 - acc: 0.9575 - val_loss: 1.8031 - val_acc: 0.7180\n",
            "Epoch 54/70\n",
            "100/100 [==============================] - 12s 117ms/step - loss: 0.2277 - acc: 0.9410 - val_loss: 1.4100 - val_acc: 0.7480\n",
            "Epoch 55/70\n",
            "100/100 [==============================] - 12s 117ms/step - loss: 0.1959 - acc: 0.9515 - val_loss: 1.6716 - val_acc: 0.7470\n",
            "Epoch 56/70\n",
            "100/100 [==============================] - 12s 118ms/step - loss: 0.2734 - acc: 0.9300 - val_loss: 1.5087 - val_acc: 0.7328\n",
            "Epoch 57/70\n",
            "100/100 [==============================] - 12s 118ms/step - loss: 0.2276 - acc: 0.9450 - val_loss: 1.4833 - val_acc: 0.7480\n",
            "Epoch 58/70\n",
            "100/100 [==============================] - 12s 122ms/step - loss: 0.1316 - acc: 0.9650 - val_loss: 1.5435 - val_acc: 0.7420\n",
            "Epoch 59/70\n",
            "100/100 [==============================] - 12s 124ms/step - loss: 0.1662 - acc: 0.9560 - val_loss: 1.7554 - val_acc: 0.7217\n",
            "Epoch 60/70\n",
            "100/100 [==============================] - 13s 132ms/step - loss: 0.2596 - acc: 0.9350 - val_loss: 1.4744 - val_acc: 0.7590\n",
            "Epoch 61/70\n",
            "100/100 [==============================] - 12s 117ms/step - loss: 0.1951 - acc: 0.9467 - val_loss: 1.4751 - val_acc: 0.7480\n",
            "Epoch 62/70\n",
            "100/100 [==============================] - 12s 116ms/step - loss: 0.0868 - acc: 0.9715 - val_loss: 1.5525 - val_acc: 0.7550\n",
            "Epoch 63/70\n",
            "100/100 [==============================] - 12s 119ms/step - loss: 0.2073 - acc: 0.9475 - val_loss: 1.5943 - val_acc: 0.7551\n",
            "Epoch 64/70\n",
            "100/100 [==============================] - 12s 117ms/step - loss: 0.2323 - acc: 0.9394 - val_loss: 1.4816 - val_acc: 0.7470\n",
            "Epoch 65/70\n",
            "100/100 [==============================] - 13s 127ms/step - loss: 0.1905 - acc: 0.9590 - val_loss: 1.4599 - val_acc: 0.7733\n",
            "Epoch 66/70\n",
            "100/100 [==============================] - 12s 119ms/step - loss: 0.1543 - acc: 0.9605 - val_loss: 1.9190 - val_acc: 0.7146\n",
            "Epoch 67/70\n",
            "100/100 [==============================] - 12s 119ms/step - loss: 0.1909 - acc: 0.9555 - val_loss: 1.4130 - val_acc: 0.7530\n",
            "Epoch 68/70\n",
            "100/100 [==============================] - 12s 118ms/step - loss: 0.1344 - acc: 0.9655 - val_loss: 1.5323 - val_acc: 0.7540\n",
            "Epoch 69/70\n",
            "100/100 [==============================] - 12s 117ms/step - loss: 0.1724 - acc: 0.9555 - val_loss: 1.4997 - val_acc: 0.7330\n",
            "Epoch 70/70\n",
            "100/100 [==============================] - 12s 118ms/step - loss: 0.1450 - acc: 0.9600 - val_loss: 1.5518 - val_acc: 0.7581\n",
            "CPU times: user 14min 34s, sys: 3min 3s, total: 17min 37s\n",
            "Wall time: 14min 6s\n"
          ],
          "name": "stdout"
        }
      ]
    },
    {
      "cell_type": "code",
      "metadata": {
        "id": "rVs6EyeSuXTM",
        "colab_type": "code",
        "colab": {}
      },
      "source": [
        "model.save(\"/content/drive/My Drive/data/caltech_101/caltech_4.h5\")\n"
      ],
      "execution_count": 0,
      "outputs": []
    },
    {
      "cell_type": "code",
      "metadata": {
        "id": "QPHSMTa5uXb-",
        "colab_type": "code",
        "colab": {
          "base_uri": "https://localhost:8080/",
          "height": 35
        },
        "outputId": "b681f671-9af2-4a44-aa9f-8cd1f22ae73f"
      },
      "source": [
        "\n",
        "test_loss, test_acc = model.evaluate_generator(test_generator, steps=50)\n",
        "print('test acc:', test_acc)"
      ],
      "execution_count": 149,
      "outputs": [
        {
          "output_type": "stream",
          "text": [
            "test acc: 0.7253306244906428\n"
          ],
          "name": "stdout"
        }
      ]
    },
    {
      "cell_type": "code",
      "metadata": {
        "id": "UM95O6sL2q-u",
        "colab_type": "code",
        "colab": {
          "base_uri": "https://localhost:8080/",
          "height": 545
        },
        "outputId": "bb00593c-4072-46df-e29a-5549a291a5d3"
      },
      "source": [
        "acc = history.history['acc']\n",
        "val_acc = history.history['val_acc']\n",
        "loss = history.history['loss']\n",
        "val_loss = history.history['val_loss']\n",
        "\n",
        "epochs = range(len(acc))\n",
        "\n",
        "plt.plot(epochs, acc, 'bo', label='Training acc')\n",
        "plt.plot(epochs, val_acc, 'b', label='Validation acc')\n",
        "plt.title('Training and validation accuracy')\n",
        "plt.legend()\n",
        "\n",
        "plt.figure()\n",
        "\n",
        "plt.plot(epochs, loss, 'bo', label='Training loss')\n",
        "plt.plot(epochs, val_loss, 'b', label='Validation loss')\n",
        "plt.title('Training and validation loss')\n",
        "plt.legend()\n",
        "\n",
        "plt.show()"
      ],
      "execution_count": 150,
      "outputs": [
        {
          "output_type": "display_data",
          "data": {
            "image/png": "[encoded data removed]",
            "text/plain": [
              "<Figure size 432x288 with 1 Axes>"
            ]
          },
          "metadata": {
            "tags": []
          }
        },
        {
          "output_type": "display_data",
          "data": {
            "image/png": "[encoded data removed]",
            "text/plain": [
              "<Figure size 432x288 with 1 Axes>"
            ]
          },
          "metadata": {
            "tags": []
          }
        }
      ]
    },
    {
      "cell_type": "code",
      "metadata": {
        "id": "Lx4-HvxT3jD6",
        "colab_type": "code",
        "colab": {}
      },
      "source": [
        ""
      ],
      "execution_count": 0,
      "outputs": []
    },
    {
      "cell_type": "code",
      "metadata": {
        "id": "w21_4AUU3jHs",
        "colab_type": "code",
        "colab": {}
      },
      "source": [
        ""
      ],
      "execution_count": 0,
      "outputs": []
    },
    {
      "cell_type": "markdown",
      "metadata": {
        "id": "2uoGt5M43lNv",
        "colab_type": "text"
      },
      "source": [
        "# The first model where I got 79% accuracy; lets try data augumentation in it:"
      ]
    },
    {
      "cell_type": "code",
      "metadata": {
        "id": "MYi3ODLh3jK7",
        "colab_type": "code",
        "colab": {}
      },
      "source": [
        "conv_base = VGG16(weights='imagenet',\n",
        "                  include_top=False,\n",
        "                  input_shape=(150, 150, 3))\n"
      ],
      "execution_count": 0,
      "outputs": []
    },
    {
      "cell_type": "code",
      "metadata": {
        "id": "FalYKXfF3jON",
        "colab_type": "code",
        "colab": {}
      },
      "source": [
        "conv_base.trainable = False"
      ],
      "execution_count": 0,
      "outputs": []
    },
    {
      "cell_type": "code",
      "metadata": {
        "id": "98lZoVsB3jWj",
        "colab_type": "code",
        "colab": {}
      },
      "source": [
        "model = models.Sequential()\n",
        "model.add(conv_base)\n",
        "model.add(layers.GlobalAveragePooling2D())\n",
        "model.add(layers.Dense(512, activation='relu'))\n",
        "model.add(layers.Dense(102, activation='softmax'))\n"
      ],
      "execution_count": 0,
      "outputs": []
    },
    {
      "cell_type": "code",
      "metadata": {
        "id": "8kiNZv6y3jT4",
        "colab_type": "code",
        "colab": {
          "base_uri": "https://localhost:8080/",
          "height": 35
        },
        "outputId": "575caf5f-4a50-4def-cd9a-93eed89556b4"
      },
      "source": [
        "train_datagen = ImageDataGenerator(\n",
        "      rescale=1./255,\n",
        "      rotation_range=40,\n",
        "      width_shift_range=0.2,\n",
        "      height_shift_range=0.2,\n",
        "      shear_range=0.2,\n",
        "      zoom_range=0.2,\n",
        "      horizontal_flip=True,\n",
        "      fill_mode='nearest')\n",
        "\n",
        "\n",
        "train_generator = train_datagen.flow_from_directory(\n",
        "        # This is the target directory\n",
        "        train_dir,\n",
        "        # All images will be resized to 150x150\n",
        "        target_size=(150, 150),\n",
        "        batch_size=20,\n",
        "        # Since we use binary_crossentropy loss, we need binary labels\n",
        "        class_mode='categorical')"
      ],
      "execution_count": 154,
      "outputs": [
        {
          "output_type": "stream",
          "text": [
            "Found 6353 images belonging to 102 classes.\n"
          ],
          "name": "stdout"
        }
      ]
    },
    {
      "cell_type": "code",
      "metadata": {
        "id": "y1pJ8QxU3jRr",
        "colab_type": "code",
        "colab": {
          "base_uri": "https://localhost:8080/",
          "height": 3654
        },
        "outputId": "2a86104f-478e-4b58-c35a-db96ba93dd1e"
      },
      "source": [
        "model.compile(loss='categorical_crossentropy',\n",
        "              optimizer=optimizers.Adam(),\n",
        "              metrics=['acc'])\n",
        "\n",
        "history = model.fit_generator(\n",
        "      train_generator,\n",
        "      steps_per_epoch=100,\n",
        "      epochs=100,\n",
        "      validation_data=validation_generator,\n",
        "      validation_steps=50)\n"
      ],
      "execution_count": 155,
      "outputs": [
        {
          "output_type": "stream",
          "text": [
            "Epoch 1/100\n",
            "100/100 [==============================] - 21s 208ms/step - loss: 3.6176 - acc: 0.2520 - val_loss: 2.8000 - val_acc: 0.3610\n",
            "Epoch 2/100\n",
            "100/100 [==============================] - 19s 189ms/step - loss: 2.6610 - acc: 0.4130 - val_loss: 2.0806 - val_acc: 0.5081\n",
            "Epoch 3/100\n",
            "100/100 [==============================] - 19s 191ms/step - loss: 2.2369 - acc: 0.4815 - val_loss: 1.7277 - val_acc: 0.6022\n",
            "Epoch 4/100\n",
            "100/100 [==============================] - 20s 201ms/step - loss: 1.8611 - acc: 0.5581 - val_loss: 1.5222 - val_acc: 0.6200\n",
            "Epoch 5/100\n",
            "100/100 [==============================] - 19s 190ms/step - loss: 1.6555 - acc: 0.5850 - val_loss: 1.4381 - val_acc: 0.6326\n",
            "Epoch 6/100\n",
            "100/100 [==============================] - 19s 189ms/step - loss: 1.5948 - acc: 0.6025 - val_loss: 1.3217 - val_acc: 0.6590\n",
            "Epoch 7/100\n",
            "100/100 [==============================] - 19s 189ms/step - loss: 1.4319 - acc: 0.6506 - val_loss: 1.1881 - val_acc: 0.6953\n",
            "Epoch 8/100\n",
            "100/100 [==============================] - 21s 215ms/step - loss: 1.3346 - acc: 0.6640 - val_loss: 1.1886 - val_acc: 0.6900\n",
            "Epoch 9/100\n",
            "100/100 [==============================] - 19s 195ms/step - loss: 1.2668 - acc: 0.6665 - val_loss: 1.2047 - val_acc: 0.6974\n",
            "Epoch 10/100\n",
            "100/100 [==============================] - 19s 188ms/step - loss: 1.2574 - acc: 0.6747 - val_loss: 1.0695 - val_acc: 0.7330\n",
            "Epoch 11/100\n",
            "100/100 [==============================] - 19s 190ms/step - loss: 1.1662 - acc: 0.6920 - val_loss: 1.0639 - val_acc: 0.7196\n",
            "Epoch 12/100\n",
            "100/100 [==============================] - 19s 193ms/step - loss: 1.1369 - acc: 0.6970 - val_loss: 1.0438 - val_acc: 0.7136\n",
            "Epoch 13/100\n",
            "100/100 [==============================] - 20s 196ms/step - loss: 1.1013 - acc: 0.7080 - val_loss: 1.0840 - val_acc: 0.7230\n",
            "Epoch 14/100\n",
            "100/100 [==============================] - 19s 190ms/step - loss: 1.0585 - acc: 0.7100 - val_loss: 0.9710 - val_acc: 0.7257\n",
            "Epoch 15/100\n",
            "100/100 [==============================] - 19s 188ms/step - loss: 1.0344 - acc: 0.7195 - val_loss: 1.0235 - val_acc: 0.7310\n",
            "Epoch 16/100\n",
            "100/100 [==============================] - 20s 195ms/step - loss: 1.0610 - acc: 0.7172 - val_loss: 1.0665 - val_acc: 0.7105\n",
            "Epoch 17/100\n",
            "100/100 [==============================] - 20s 202ms/step - loss: 0.9201 - acc: 0.7565 - val_loss: 0.9502 - val_acc: 0.7400\n",
            "Epoch 18/100\n",
            "100/100 [==============================] - 19s 189ms/step - loss: 0.9934 - acc: 0.7280 - val_loss: 0.9492 - val_acc: 0.7439\n",
            "Epoch 19/100\n",
            "100/100 [==============================] - 19s 191ms/step - loss: 1.0026 - acc: 0.7290 - val_loss: 0.9477 - val_acc: 0.7390\n",
            "Epoch 20/100\n",
            "100/100 [==============================] - 19s 188ms/step - loss: 0.8909 - acc: 0.7517 - val_loss: 0.9637 - val_acc: 0.7540\n",
            "Epoch 21/100\n",
            "100/100 [==============================] - 20s 203ms/step - loss: 0.9449 - acc: 0.7290 - val_loss: 0.8922 - val_acc: 0.7601\n",
            "Epoch 22/100\n",
            "100/100 [==============================] - 19s 189ms/step - loss: 0.8895 - acc: 0.7625 - val_loss: 0.8945 - val_acc: 0.7440\n",
            "Epoch 23/100\n",
            "100/100 [==============================] - 19s 187ms/step - loss: 0.8442 - acc: 0.7602 - val_loss: 0.9289 - val_acc: 0.7368\n",
            "Epoch 24/100\n",
            "100/100 [==============================] - 21s 205ms/step - loss: 0.8279 - acc: 0.7710 - val_loss: 0.9220 - val_acc: 0.7640\n",
            "Epoch 25/100\n",
            "100/100 [==============================] - 20s 204ms/step - loss: 0.8387 - acc: 0.7655 - val_loss: 0.9175 - val_acc: 0.7520\n",
            "Epoch 26/100\n",
            "100/100 [==============================] - 19s 190ms/step - loss: 0.8543 - acc: 0.7579 - val_loss: 0.7966 - val_acc: 0.7890\n",
            "Epoch 27/100\n",
            "100/100 [==============================] - 19s 191ms/step - loss: 0.8030 - acc: 0.7800 - val_loss: 0.8952 - val_acc: 0.7662\n",
            "Epoch 28/100\n",
            "100/100 [==============================] - 19s 189ms/step - loss: 0.8201 - acc: 0.7620 - val_loss: 0.8858 - val_acc: 0.7640\n",
            "Epoch 29/100\n",
            "100/100 [==============================] - 20s 199ms/step - loss: 0.7845 - acc: 0.7794 - val_loss: 0.9224 - val_acc: 0.7470\n",
            "Epoch 30/100\n",
            "100/100 [==============================] - 19s 189ms/step - loss: 0.7768 - acc: 0.7820 - val_loss: 0.8601 - val_acc: 0.7723\n",
            "Epoch 31/100\n",
            "100/100 [==============================] - 19s 193ms/step - loss: 0.7428 - acc: 0.7975 - val_loss: 0.8525 - val_acc: 0.7760\n",
            "Epoch 32/100\n",
            "100/100 [==============================] - 19s 190ms/step - loss: 0.7562 - acc: 0.7725 - val_loss: 0.9038 - val_acc: 0.7520\n",
            "Epoch 33/100\n",
            "100/100 [==============================] - 20s 199ms/step - loss: 0.7142 - acc: 0.7945 - val_loss: 0.8574 - val_acc: 0.7600\n",
            "Epoch 34/100\n",
            "100/100 [==============================] - 19s 190ms/step - loss: 0.7618 - acc: 0.7825 - val_loss: 0.7765 - val_acc: 0.7844\n",
            "Epoch 35/100\n",
            "100/100 [==============================] - 19s 188ms/step - loss: 0.7669 - acc: 0.7924 - val_loss: 0.9100 - val_acc: 0.7480\n",
            "Epoch 36/100\n",
            "100/100 [==============================] - 19s 190ms/step - loss: 0.7081 - acc: 0.7990 - val_loss: 0.8072 - val_acc: 0.7844\n",
            "Epoch 37/100\n",
            "100/100 [==============================] - 19s 192ms/step - loss: 0.7275 - acc: 0.7915 - val_loss: 0.8440 - val_acc: 0.7760\n",
            "Epoch 38/100\n",
            "100/100 [==============================] - 20s 196ms/step - loss: 0.7134 - acc: 0.7870 - val_loss: 0.9706 - val_acc: 0.7358\n",
            "Epoch 39/100\n",
            "100/100 [==============================] - 19s 188ms/step - loss: 0.6598 - acc: 0.8074 - val_loss: 0.7965 - val_acc: 0.7874\n",
            "Epoch 40/100\n",
            "100/100 [==============================] - 21s 207ms/step - loss: 0.6272 - acc: 0.8250 - val_loss: 0.8859 - val_acc: 0.7680\n",
            "Epoch 41/100\n",
            "100/100 [==============================] - 19s 190ms/step - loss: 0.6946 - acc: 0.7960 - val_loss: 0.8024 - val_acc: 0.7804\n",
            "Epoch 42/100\n",
            "100/100 [==============================] - 20s 200ms/step - loss: 0.6913 - acc: 0.7965 - val_loss: 0.8356 - val_acc: 0.7840\n",
            "Epoch 43/100\n",
            "100/100 [==============================] - 19s 189ms/step - loss: 0.6468 - acc: 0.8240 - val_loss: 0.7924 - val_acc: 0.7945\n",
            "Epoch 44/100\n",
            "100/100 [==============================] - 19s 187ms/step - loss: 0.6410 - acc: 0.8100 - val_loss: 0.8596 - val_acc: 0.7850\n",
            "Epoch 45/100\n",
            "100/100 [==============================] - 19s 187ms/step - loss: 0.6248 - acc: 0.8200 - val_loss: 0.7693 - val_acc: 0.7824\n",
            "Epoch 46/100\n",
            "100/100 [==============================] - 20s 205ms/step - loss: 0.6650 - acc: 0.7975 - val_loss: 0.7911 - val_acc: 0.7830\n",
            "Epoch 47/100\n",
            "100/100 [==============================] - 19s 194ms/step - loss: 0.6146 - acc: 0.8265 - val_loss: 0.8229 - val_acc: 0.7824\n",
            "Epoch 48/100\n",
            "100/100 [==============================] - 19s 188ms/step - loss: 0.6395 - acc: 0.8142 - val_loss: 0.8740 - val_acc: 0.7591\n",
            "Epoch 49/100\n",
            "100/100 [==============================] - 19s 187ms/step - loss: 0.6027 - acc: 0.8210 - val_loss: 0.8124 - val_acc: 0.7880\n",
            "Epoch 50/100\n",
            "100/100 [==============================] - 20s 204ms/step - loss: 0.6269 - acc: 0.8170 - val_loss: 0.7827 - val_acc: 0.7895\n",
            "Epoch 51/100\n",
            "100/100 [==============================] - 19s 187ms/step - loss: 0.5946 - acc: 0.8367 - val_loss: 0.7389 - val_acc: 0.7830\n",
            "Epoch 52/100\n",
            "100/100 [==============================] - 19s 188ms/step - loss: 0.5569 - acc: 0.8365 - val_loss: 0.8821 - val_acc: 0.7652\n",
            "Epoch 53/100\n",
            "100/100 [==============================] - 19s 190ms/step - loss: 0.5830 - acc: 0.8230 - val_loss: 0.8604 - val_acc: 0.7730\n",
            "Epoch 54/100\n",
            "100/100 [==============================] - 20s 199ms/step - loss: 0.5871 - acc: 0.8295 - val_loss: 0.8045 - val_acc: 0.7702\n",
            "Epoch 55/100\n",
            "100/100 [==============================] - 19s 189ms/step - loss: 0.5706 - acc: 0.8312 - val_loss: 0.8506 - val_acc: 0.7740\n",
            "Epoch 56/100\n",
            "100/100 [==============================] - 21s 206ms/step - loss: 0.5453 - acc: 0.8410 - val_loss: 0.7835 - val_acc: 0.7854\n",
            "Epoch 57/100\n",
            "100/100 [==============================] - 19s 187ms/step - loss: 0.5936 - acc: 0.8165 - val_loss: 0.8461 - val_acc: 0.7621\n",
            "Epoch 58/100\n",
            "100/100 [==============================] - 20s 197ms/step - loss: 0.5222 - acc: 0.8487 - val_loss: 0.8441 - val_acc: 0.7780\n",
            "Epoch 59/100\n",
            "100/100 [==============================] - 19s 191ms/step - loss: 0.5617 - acc: 0.8290 - val_loss: 0.8111 - val_acc: 0.7874\n",
            "Epoch 60/100\n",
            "100/100 [==============================] - 19s 190ms/step - loss: 0.5113 - acc: 0.8455 - val_loss: 0.9110 - val_acc: 0.7670\n",
            "Epoch 61/100\n",
            "100/100 [==============================] - 19s 187ms/step - loss: 0.5970 - acc: 0.8275 - val_loss: 0.7395 - val_acc: 0.8148\n",
            "Epoch 62/100\n",
            "100/100 [==============================] - 19s 194ms/step - loss: 0.5023 - acc: 0.8535 - val_loss: 0.8324 - val_acc: 0.7760\n",
            "Epoch 63/100\n",
            "100/100 [==============================] - 20s 204ms/step - loss: 0.5362 - acc: 0.8395 - val_loss: 0.7410 - val_acc: 0.8016\n",
            "Epoch 64/100\n",
            "100/100 [==============================] - 19s 188ms/step - loss: 0.4974 - acc: 0.8545 - val_loss: 0.8246 - val_acc: 0.7760\n",
            "Epoch 65/100\n",
            "100/100 [==============================] - 19s 188ms/step - loss: 0.5419 - acc: 0.8350 - val_loss: 0.9037 - val_acc: 0.7682\n",
            "Epoch 66/100\n",
            "100/100 [==============================] - 19s 188ms/step - loss: 0.5241 - acc: 0.8470 - val_loss: 0.8305 - val_acc: 0.7713\n",
            "Epoch 67/100\n",
            "100/100 [==============================] - 20s 201ms/step - loss: 0.5113 - acc: 0.8502 - val_loss: 0.7788 - val_acc: 0.7880\n",
            "Epoch 68/100\n",
            "100/100 [==============================] - 19s 189ms/step - loss: 0.5133 - acc: 0.8495 - val_loss: 0.8021 - val_acc: 0.7864\n",
            "Epoch 69/100\n",
            "100/100 [==============================] - 19s 187ms/step - loss: 0.5110 - acc: 0.8480 - val_loss: 0.7715 - val_acc: 0.8020\n",
            "Epoch 70/100\n",
            "100/100 [==============================] - 19s 187ms/step - loss: 0.4822 - acc: 0.8632 - val_loss: 0.7725 - val_acc: 0.8016\n",
            "Epoch 71/100\n",
            "100/100 [==============================] - 20s 204ms/step - loss: 0.4683 - acc: 0.8605 - val_loss: 0.8077 - val_acc: 0.7870\n",
            "Epoch 72/100\n",
            "100/100 [==============================] - 21s 205ms/step - loss: 0.5065 - acc: 0.8540 - val_loss: 0.8615 - val_acc: 0.7672\n",
            "Epoch 73/100\n",
            "100/100 [==============================] - 19s 188ms/step - loss: 0.5251 - acc: 0.8435 - val_loss: 0.7680 - val_acc: 0.7960\n",
            "Epoch 74/100\n",
            "100/100 [==============================] - 19s 186ms/step - loss: 0.4785 - acc: 0.8575 - val_loss: 0.8123 - val_acc: 0.7753\n",
            "Epoch 75/100\n",
            "100/100 [==============================] - 20s 200ms/step - loss: 0.4624 - acc: 0.8505 - val_loss: 0.7765 - val_acc: 0.7905\n",
            "Epoch 76/100\n",
            "100/100 [==============================] - 19s 188ms/step - loss: 0.5111 - acc: 0.8495 - val_loss: 0.7466 - val_acc: 0.8000\n",
            "Epoch 77/100\n",
            "100/100 [==============================] - 19s 188ms/step - loss: 0.4336 - acc: 0.8692 - val_loss: 0.7909 - val_acc: 0.7935\n",
            "Epoch 78/100\n",
            "100/100 [==============================] - 19s 188ms/step - loss: 0.4542 - acc: 0.8615 - val_loss: 0.8444 - val_acc: 0.7870\n",
            "Epoch 79/100\n",
            "100/100 [==============================] - 21s 205ms/step - loss: 0.4740 - acc: 0.8535 - val_loss: 0.8363 - val_acc: 0.7844\n",
            "Epoch 80/100\n",
            "100/100 [==============================] - 19s 187ms/step - loss: 0.4694 - acc: 0.8599 - val_loss: 0.8934 - val_acc: 0.7780\n",
            "Epoch 81/100\n",
            "100/100 [==============================] - 19s 187ms/step - loss: 0.4698 - acc: 0.8610 - val_loss: 0.7782 - val_acc: 0.8036\n",
            "Epoch 82/100\n",
            "100/100 [==============================] - 19s 189ms/step - loss: 0.4498 - acc: 0.8635 - val_loss: 0.8422 - val_acc: 0.7820\n",
            "Epoch 83/100\n",
            "100/100 [==============================] - 19s 193ms/step - loss: 0.4861 - acc: 0.8492 - val_loss: 0.8082 - val_acc: 0.7905\n",
            "Epoch 84/100\n",
            "100/100 [==============================] - 19s 193ms/step - loss: 0.4039 - acc: 0.8705 - val_loss: 0.8107 - val_acc: 0.7895\n",
            "Epoch 85/100\n",
            "100/100 [==============================] - 19s 187ms/step - loss: 0.4413 - acc: 0.8595 - val_loss: 0.8012 - val_acc: 0.7890\n",
            "Epoch 86/100\n",
            "100/100 [==============================] - 19s 187ms/step - loss: 0.4344 - acc: 0.8690 - val_loss: 0.8547 - val_acc: 0.7874\n",
            "Epoch 87/100\n",
            "100/100 [==============================] - 19s 190ms/step - loss: 0.4611 - acc: 0.8590 - val_loss: 0.7925 - val_acc: 0.7910\n",
            "Epoch 88/100\n",
            "100/100 [==============================] - 22s 218ms/step - loss: 0.3987 - acc: 0.8870 - val_loss: 0.7042 - val_acc: 0.8178\n",
            "Epoch 89/100\n",
            "100/100 [==============================] - 19s 187ms/step - loss: 0.4839 - acc: 0.8565 - val_loss: 0.8580 - val_acc: 0.7820\n",
            "Epoch 90/100\n",
            "100/100 [==============================] - 19s 189ms/step - loss: 0.4060 - acc: 0.8705 - val_loss: 0.8282 - val_acc: 0.8006\n",
            "Epoch 91/100\n",
            "100/100 [==============================] - 19s 186ms/step - loss: 0.4257 - acc: 0.8710 - val_loss: 0.7245 - val_acc: 0.8050\n",
            "Epoch 92/100\n",
            "100/100 [==============================] - 20s 201ms/step - loss: 0.3943 - acc: 0.8845 - val_loss: 0.8488 - val_acc: 0.7794\n",
            "Epoch 93/100\n",
            "100/100 [==============================] - 19s 186ms/step - loss: 0.3836 - acc: 0.8897 - val_loss: 0.8438 - val_acc: 0.7794\n",
            "Epoch 94/100\n",
            "100/100 [==============================] - 19s 186ms/step - loss: 0.4188 - acc: 0.8790 - val_loss: 0.8626 - val_acc: 0.7810\n",
            "Epoch 95/100\n",
            "100/100 [==============================] - 20s 198ms/step - loss: 0.4503 - acc: 0.8635 - val_loss: 0.7853 - val_acc: 0.7905\n",
            "Epoch 96/100\n",
            "100/100 [==============================] - 20s 201ms/step - loss: 0.3915 - acc: 0.8787 - val_loss: 0.8036 - val_acc: 0.8000\n",
            "Epoch 97/100\n",
            "100/100 [==============================] - 19s 187ms/step - loss: 0.3872 - acc: 0.8865 - val_loss: 0.7897 - val_acc: 0.7844\n",
            "Epoch 98/100\n",
            "100/100 [==============================] - 19s 187ms/step - loss: 0.3959 - acc: 0.8770 - val_loss: 0.8088 - val_acc: 0.7940\n",
            "Epoch 99/100\n",
            "100/100 [==============================] - 19s 187ms/step - loss: 0.4383 - acc: 0.8697 - val_loss: 0.7618 - val_acc: 0.7976\n",
            "Epoch 100/100\n",
            "100/100 [==============================] - 20s 200ms/step - loss: 0.3926 - acc: 0.8785 - val_loss: 0.8084 - val_acc: 0.7840\n"
          ],
          "name": "stdout"
        }
      ]
    },
    {
      "cell_type": "code",
      "metadata": {
        "id": "dfrIDUbS4qbd",
        "colab_type": "code",
        "colab": {}
      },
      "source": [
        "\n",
        "model.save(\"/content/drive/My Drive/data/caltech_101/caltech_5.h5\")"
      ],
      "execution_count": 0,
      "outputs": []
    },
    {
      "cell_type": "code",
      "metadata": {
        "id": "hHBo17Zp4qmC",
        "colab_type": "code",
        "colab": {
          "base_uri": "https://localhost:8080/",
          "height": 35
        },
        "outputId": "52013d4e-2123-4e8e-bbcf-bab4795230e2"
      },
      "source": [
        "\n",
        "test_loss, test_acc = model.evaluate_generator(test_generator, steps=50)\n",
        "print('test acc:', test_acc)\n"
      ],
      "execution_count": 157,
      "outputs": [
        {
          "output_type": "stream",
          "text": [
            "test acc: 0.7934893192012822\n"
          ],
          "name": "stdout"
        }
      ]
    },
    {
      "cell_type": "code",
      "metadata": {
        "id": "jLASRA-t4xMn",
        "colab_type": "code",
        "colab": {
          "base_uri": "https://localhost:8080/",
          "height": 545
        },
        "outputId": "5e66b42a-c868-4ad3-d799-a109c251552d"
      },
      "source": [
        "acc = history.history['acc']\n",
        "val_acc = history.history['val_acc']\n",
        "loss = history.history['loss']\n",
        "val_loss = history.history['val_loss']\n",
        "\n",
        "epochs = range(len(acc))\n",
        "\n",
        "plt.plot(epochs, acc, 'bo', label='Training acc')\n",
        "plt.plot(epochs, val_acc, 'b', label='Validation acc')\n",
        "plt.title('Training and validation accuracy')\n",
        "plt.legend()\n",
        "\n",
        "plt.figure()\n",
        "\n",
        "plt.plot(epochs, loss, 'bo', label='Training loss')\n",
        "plt.plot(epochs, val_loss, 'b', label='Validation loss')\n",
        "plt.title('Training and validation loss')\n",
        "plt.legend()\n",
        "\n",
        "plt.show()"
      ],
      "execution_count": 158,
      "outputs": [
        {
          "output_type": "display_data",
          "data": {
            "image/png": "[encoded data removed]",
            "text/plain": [
              "<Figure size 432x288 with 1 Axes>"
            ]
          },
          "metadata": {
            "tags": []
          }
        },
        {
          "output_type": "display_data",
          "data": {
            "image/png": "[encoded data removed]",
            "text/plain": [
              "<Figure size 432x288 with 1 Axes>"
            ]
          },
          "metadata": {
            "tags": []
          }
        }
      ]
    },
    {
      "cell_type": "code",
      "metadata": {
        "id": "awRMTHrXAvQB",
        "colab_type": "code",
        "colab": {}
      },
      "source": [
        ""
      ],
      "execution_count": 0,
      "outputs": []
    },
    {
      "cell_type": "code",
      "metadata": {
        "id": "Fd78EWkVAvUl",
        "colab_type": "code",
        "colab": {}
      },
      "source": [
        "conv_base = VGG16(weights='imagenet',\n",
        "                  include_top=False,\n",
        "                  input_shape=(150, 150, 3))\n"
      ],
      "execution_count": 0,
      "outputs": []
    },
    {
      "cell_type": "code",
      "metadata": {
        "id": "fUdf75lXAvY5",
        "colab_type": "code",
        "colab": {
          "base_uri": "https://localhost:8080/",
          "height": 363
        },
        "outputId": "58ea80bb-9a2e-4341-cd83-d2b5367cd6fe"
      },
      "source": [
        "# Freeze the layers except the last 4 layers\n",
        "for layer in conv_base.layers[:-4]:\n",
        "    layer.trainable = False\n",
        " \n",
        "#Check the trainable status of the individual layers\n",
        "for layer in conv_base.layers:\n",
        "    print(layer, layer.trainable)\n"
      ],
      "execution_count": 160,
      "outputs": [
        {
          "output_type": "stream",
          "text": [
            "<keras.engine.input_layer.InputLayer object at 0x7f7ca4768780> False\n",
            "<keras.layers.convolutional.Conv2D object at 0x7f7ca4768898> False\n",
            "<keras.layers.convolutional.Conv2D object at 0x7f7ca2b86668> False\n",
            "<keras.layers.pooling.MaxPooling2D object at 0x7f7ca1fb6e80> False\n",
            "<keras.layers.convolutional.Conv2D object at 0x7f7ca1fb6208> False\n",
            "<keras.layers.convolutional.Conv2D object at 0x7f7ca4709b70> False\n",
            "<keras.layers.pooling.MaxPooling2D object at 0x7f7ca4722e48> False\n",
            "<keras.layers.convolutional.Conv2D object at 0x7f7ca4722be0> False\n",
            "<keras.layers.convolutional.Conv2D object at 0x7f7ca4669908> False\n",
            "<keras.layers.convolutional.Conv2D object at 0x7f7ca46636d8> False\n",
            "<keras.layers.pooling.MaxPooling2D object at 0x7f7ca47748d0> False\n",
            "<keras.layers.convolutional.Conv2D object at 0x7f7ca472c908> False\n",
            "<keras.layers.convolutional.Conv2D object at 0x7f7ca464d240> False\n",
            "<keras.layers.convolutional.Conv2D object at 0x7f7ca0cb8e48> False\n",
            "<keras.layers.pooling.MaxPooling2D object at 0x7f7ca0ce4588> False\n",
            "<keras.layers.convolutional.Conv2D object at 0x7f7ca0ce42b0> True\n",
            "<keras.layers.convolutional.Conv2D object at 0x7f7ca0466240> True\n",
            "<keras.layers.convolutional.Conv2D object at 0x7f7ca049d278> True\n",
            "<keras.layers.pooling.MaxPooling2D object at 0x7f7ca0441668> True\n"
          ],
          "name": "stdout"
        }
      ]
    },
    {
      "cell_type": "code",
      "metadata": {
        "id": "p2SX5UidAvdB",
        "colab_type": "code",
        "colab": {}
      },
      "source": [
        "model = models.Sequential()\n",
        "model.add(conv_base)\n",
        "model.add(layers.GlobalAveragePooling2D())\n",
        "model.add(layers.Dense(512, activation='relu'))\n",
        "model.add(layers.Dropout(0.3))\n",
        "model.add(layers.Dense(256, activation='relu'))\n",
        "model.add(layers.Dense(102, activation='softmax'))\n"
      ],
      "execution_count": 0,
      "outputs": []
    },
    {
      "cell_type": "code",
      "metadata": {
        "id": "CJGePXgIAvh7",
        "colab_type": "code",
        "colab": {
          "base_uri": "https://localhost:8080/",
          "height": 2963
        },
        "outputId": "6e771ec7-3eb2-47ab-c3d5-fe9d80825e3c"
      },
      "source": [
        "%%time\n",
        "model.compile(loss='categorical_crossentropy',\n",
        "              optimizer=optimizers.Adam(),\n",
        "              metrics=['acc'])\n",
        "\n",
        "history = model.fit_generator(\n",
        "      train_generator,\n",
        "      steps_per_epoch=100,\n",
        "      epochs=80,\n",
        "      validation_data=validation_generator,\n",
        "      validation_steps=50)\n"
      ],
      "execution_count": 162,
      "outputs": [
        {
          "output_type": "stream",
          "text": [
            "Epoch 1/80\n",
            "100/100 [==============================] - 23s 228ms/step - loss: 4.0923 - acc: 0.1300 - val_loss: 3.4482 - val_acc: 0.2399\n",
            "Epoch 2/80\n",
            "100/100 [==============================] - 20s 198ms/step - loss: 3.4174 - acc: 0.2683 - val_loss: 3.2415 - val_acc: 0.3077\n",
            "Epoch 3/80\n",
            "100/100 [==============================] - 21s 211ms/step - loss: 3.0877 - acc: 0.3350 - val_loss: 2.8291 - val_acc: 0.3640\n",
            "Epoch 4/80\n",
            "100/100 [==============================] - 20s 197ms/step - loss: 2.9484 - acc: 0.3405 - val_loss: 2.6010 - val_acc: 0.3816\n",
            "Epoch 5/80\n",
            "100/100 [==============================] - 20s 196ms/step - loss: 2.7705 - acc: 0.3661 - val_loss: 2.7249 - val_acc: 0.3860\n",
            "Epoch 6/80\n",
            "100/100 [==============================] - 20s 200ms/step - loss: 2.7055 - acc: 0.3690 - val_loss: 2.6207 - val_acc: 0.3785\n",
            "Epoch 7/80\n",
            "100/100 [==============================] - 22s 220ms/step - loss: 2.4362 - acc: 0.4245 - val_loss: 2.3074 - val_acc: 0.4360\n",
            "Epoch 8/80\n",
            "100/100 [==============================] - 20s 197ms/step - loss: 2.3826 - acc: 0.4395 - val_loss: 2.3341 - val_acc: 0.4362\n",
            "Epoch 9/80\n",
            "100/100 [==============================] - 20s 198ms/step - loss: 2.2873 - acc: 0.4393 - val_loss: 2.3167 - val_acc: 0.4290\n",
            "Epoch 10/80\n",
            "100/100 [==============================] - 20s 196ms/step - loss: 2.3193 - acc: 0.4345 - val_loss: 2.2120 - val_acc: 0.4403\n",
            "Epoch 11/80\n",
            "100/100 [==============================] - 21s 207ms/step - loss: 2.1537 - acc: 0.4585 - val_loss: 2.1590 - val_acc: 0.4747\n",
            "Epoch 12/80\n",
            "100/100 [==============================] - 20s 199ms/step - loss: 2.0387 - acc: 0.4766 - val_loss: 2.1651 - val_acc: 0.4810\n",
            "Epoch 13/80\n",
            "100/100 [==============================] - 20s 200ms/step - loss: 2.0642 - acc: 0.4905 - val_loss: 2.0889 - val_acc: 0.4949\n",
            "Epoch 14/80\n",
            "100/100 [==============================] - 20s 196ms/step - loss: 1.9220 - acc: 0.5045 - val_loss: 2.0979 - val_acc: 0.4950\n",
            "Epoch 15/80\n",
            "100/100 [==============================] - 21s 206ms/step - loss: 2.0282 - acc: 0.4881 - val_loss: 1.8023 - val_acc: 0.5455\n",
            "Epoch 16/80\n",
            "100/100 [==============================] - 20s 198ms/step - loss: 1.8468 - acc: 0.5370 - val_loss: 1.9868 - val_acc: 0.5160\n",
            "Epoch 17/80\n",
            "100/100 [==============================] - 20s 196ms/step - loss: 1.7978 - acc: 0.5395 - val_loss: 1.7392 - val_acc: 0.5476\n",
            "Epoch 18/80\n",
            "100/100 [==============================] - 20s 196ms/step - loss: 1.7684 - acc: 0.5426 - val_loss: 1.8080 - val_acc: 0.5460\n",
            "Epoch 19/80\n",
            "100/100 [==============================] - 21s 207ms/step - loss: 1.6729 - acc: 0.5625 - val_loss: 1.8409 - val_acc: 0.5415\n",
            "Epoch 20/80\n",
            "100/100 [==============================] - 20s 196ms/step - loss: 1.6573 - acc: 0.5680 - val_loss: 1.6908 - val_acc: 0.5881\n",
            "Epoch 21/80\n",
            "100/100 [==============================] - 20s 195ms/step - loss: 1.6638 - acc: 0.5706 - val_loss: 1.8133 - val_acc: 0.5610\n",
            "Epoch 22/80\n",
            "100/100 [==============================] - 21s 211ms/step - loss: 1.6022 - acc: 0.5925 - val_loss: 1.8119 - val_acc: 0.5779\n",
            "Epoch 23/80\n",
            "100/100 [==============================] - 21s 210ms/step - loss: 1.5942 - acc: 0.5875 - val_loss: 1.6566 - val_acc: 0.5980\n",
            "Epoch 24/80\n",
            "100/100 [==============================] - 20s 195ms/step - loss: 1.5334 - acc: 0.5973 - val_loss: 1.7735 - val_acc: 0.5759\n",
            "Epoch 25/80\n",
            "100/100 [==============================] - 20s 198ms/step - loss: 1.5222 - acc: 0.6000 - val_loss: 1.8917 - val_acc: 0.5730\n",
            "Epoch 26/80\n",
            "100/100 [==============================] - 20s 195ms/step - loss: 1.5956 - acc: 0.5935 - val_loss: 1.5206 - val_acc: 0.6235\n",
            "Epoch 27/80\n",
            "100/100 [==============================] - 21s 208ms/step - loss: 1.4584 - acc: 0.6220 - val_loss: 1.5164 - val_acc: 0.6420\n",
            "Epoch 28/80\n",
            "100/100 [==============================] - 20s 204ms/step - loss: 1.3811 - acc: 0.6427 - val_loss: 1.6507 - val_acc: 0.6043\n",
            "Epoch 29/80\n",
            "100/100 [==============================] - 20s 196ms/step - loss: 1.3787 - acc: 0.6295 - val_loss: 1.4124 - val_acc: 0.6417\n",
            "Epoch 30/80\n",
            "100/100 [==============================] - 20s 196ms/step - loss: 1.4284 - acc: 0.6265 - val_loss: 1.4538 - val_acc: 0.6590\n",
            "Epoch 31/80\n",
            "100/100 [==============================] - 21s 207ms/step - loss: 1.2825 - acc: 0.6622 - val_loss: 1.5616 - val_acc: 0.6174\n",
            "Epoch 32/80\n",
            "100/100 [==============================] - 20s 195ms/step - loss: 1.3210 - acc: 0.6375 - val_loss: 1.4663 - val_acc: 0.6570\n",
            "Epoch 33/80\n",
            "100/100 [==============================] - 19s 195ms/step - loss: 1.3337 - acc: 0.6410 - val_loss: 1.4517 - val_acc: 0.6326\n",
            "Epoch 34/80\n",
            "100/100 [==============================] - 19s 195ms/step - loss: 1.2329 - acc: 0.6752 - val_loss: 1.3925 - val_acc: 0.6670\n",
            "Epoch 35/80\n",
            "100/100 [==============================] - 21s 208ms/step - loss: 1.2275 - acc: 0.6620 - val_loss: 1.4779 - val_acc: 0.6255\n",
            "Epoch 36/80\n",
            "100/100 [==============================] - 20s 196ms/step - loss: 1.2474 - acc: 0.6525 - val_loss: 1.3547 - val_acc: 0.6650\n",
            "Epoch 37/80\n",
            "100/100 [==============================] - 20s 200ms/step - loss: 1.2778 - acc: 0.6629 - val_loss: 1.3962 - val_acc: 0.6731\n",
            "Epoch 38/80\n",
            "100/100 [==============================] - 21s 206ms/step - loss: 1.1684 - acc: 0.6855 - val_loss: 1.4772 - val_acc: 0.6508\n",
            "Epoch 39/80\n",
            "100/100 [==============================] - 21s 208ms/step - loss: 1.1146 - acc: 0.6935 - val_loss: 1.4046 - val_acc: 0.6610\n",
            "Epoch 40/80\n",
            "100/100 [==============================] - 20s 197ms/step - loss: 1.1768 - acc: 0.6837 - val_loss: 1.6453 - val_acc: 0.6103\n",
            "Epoch 41/80\n",
            "100/100 [==============================] - 20s 197ms/step - loss: 1.0922 - acc: 0.6975 - val_loss: 1.4664 - val_acc: 0.6570\n",
            "Epoch 42/80\n",
            "100/100 [==============================] - 19s 195ms/step - loss: 1.1839 - acc: 0.6795 - val_loss: 1.4742 - val_acc: 0.6356\n",
            "Epoch 43/80\n",
            "100/100 [==============================] - 21s 213ms/step - loss: 1.1406 - acc: 0.6927 - val_loss: 1.4656 - val_acc: 0.6590\n",
            "Epoch 44/80\n",
            "100/100 [==============================] - 20s 196ms/step - loss: 1.0844 - acc: 0.6915 - val_loss: 1.3351 - val_acc: 0.6791\n",
            "Epoch 45/80\n",
            "100/100 [==============================] - 19s 195ms/step - loss: 1.0999 - acc: 0.7010 - val_loss: 1.4306 - val_acc: 0.6700\n",
            "Epoch 46/80\n",
            "100/100 [==============================] - 20s 196ms/step - loss: 1.0365 - acc: 0.7215 - val_loss: 1.5285 - val_acc: 0.6538\n",
            "Epoch 47/80\n",
            "100/100 [==============================] - 20s 205ms/step - loss: 0.9842 - acc: 0.7284 - val_loss: 1.3483 - val_acc: 0.6791\n",
            "Epoch 48/80\n",
            "100/100 [==============================] - 20s 198ms/step - loss: 1.0430 - acc: 0.7255 - val_loss: 1.3373 - val_acc: 0.6750\n",
            "Epoch 49/80\n",
            "100/100 [==============================] - 20s 195ms/step - loss: 1.1063 - acc: 0.7075 - val_loss: 1.2531 - val_acc: 0.6933\n",
            "Epoch 50/80\n",
            "100/100 [==============================] - 20s 196ms/step - loss: 1.0273 - acc: 0.7229 - val_loss: 1.3464 - val_acc: 0.7010\n",
            "Epoch 51/80\n",
            "100/100 [==============================] - 20s 203ms/step - loss: 0.9689 - acc: 0.7355 - val_loss: 1.3031 - val_acc: 0.6822\n",
            "Epoch 52/80\n",
            "100/100 [==============================] - 20s 201ms/step - loss: 1.0286 - acc: 0.7170 - val_loss: 1.2376 - val_acc: 0.6900\n",
            "Epoch 53/80\n",
            "100/100 [==============================] - 21s 211ms/step - loss: 0.8904 - acc: 0.7442 - val_loss: 1.3245 - val_acc: 0.6974\n",
            "Epoch 54/80\n",
            "100/100 [==============================] - 20s 198ms/step - loss: 1.0232 - acc: 0.7345 - val_loss: 1.4469 - val_acc: 0.6860\n",
            "Epoch 55/80\n",
            "100/100 [==============================] - 21s 205ms/step - loss: 0.9865 - acc: 0.7175 - val_loss: 1.2834 - val_acc: 0.7095\n",
            "Epoch 56/80\n",
            "100/100 [==============================] - 20s 197ms/step - loss: 1.0037 - acc: 0.7395 - val_loss: 1.4247 - val_acc: 0.6761\n",
            "Epoch 57/80\n",
            "100/100 [==============================] - 20s 196ms/step - loss: 0.9824 - acc: 0.7260 - val_loss: 1.3222 - val_acc: 0.6790\n",
            "Epoch 58/80\n",
            "100/100 [==============================] - 20s 201ms/step - loss: 0.9492 - acc: 0.7455 - val_loss: 1.2457 - val_acc: 0.7206\n",
            "Epoch 59/80\n",
            "100/100 [==============================] - 21s 206ms/step - loss: 1.0153 - acc: 0.7282 - val_loss: 1.3364 - val_acc: 0.6890\n",
            "Epoch 60/80\n",
            "100/100 [==============================] - 20s 199ms/step - loss: 0.8819 - acc: 0.7640 - val_loss: 1.4778 - val_acc: 0.6802\n",
            "Epoch 61/80\n",
            "100/100 [==============================] - 20s 196ms/step - loss: 1.0200 - acc: 0.7235 - val_loss: 1.2757 - val_acc: 0.7110\n",
            "Epoch 62/80\n",
            "100/100 [==============================] - 20s 196ms/step - loss: 0.8810 - acc: 0.7570 - val_loss: 1.4158 - val_acc: 0.6771\n",
            "Epoch 63/80\n",
            "100/100 [==============================] - 20s 203ms/step - loss: 0.8054 - acc: 0.7865 - val_loss: 1.2953 - val_acc: 0.7000\n",
            "Epoch 64/80\n",
            "100/100 [==============================] - 20s 200ms/step - loss: 0.8682 - acc: 0.7700 - val_loss: 1.1948 - val_acc: 0.7358\n",
            "Epoch 65/80\n",
            "100/100 [==============================] - 20s 197ms/step - loss: 0.9274 - acc: 0.7435 - val_loss: 1.3356 - val_acc: 0.7065\n",
            "Epoch 66/80\n",
            "100/100 [==============================] - 20s 196ms/step - loss: 0.8577 - acc: 0.7680 - val_loss: 1.3159 - val_acc: 0.7050\n",
            "Epoch 67/80\n",
            "100/100 [==============================] - 20s 202ms/step - loss: 0.8509 - acc: 0.7660 - val_loss: 1.1499 - val_acc: 0.7480\n",
            "Epoch 68/80\n",
            "100/100 [==============================] - 21s 208ms/step - loss: 0.8183 - acc: 0.7740 - val_loss: 1.3278 - val_acc: 0.7040\n",
            "Epoch 69/80\n",
            "100/100 [==============================] - 21s 205ms/step - loss: 0.8409 - acc: 0.7714 - val_loss: 1.2898 - val_acc: 0.7196\n",
            "Epoch 70/80\n",
            "100/100 [==============================] - 20s 197ms/step - loss: 0.8385 - acc: 0.7710 - val_loss: 1.2845 - val_acc: 0.7130\n",
            "Epoch 71/80\n",
            "100/100 [==============================] - 20s 204ms/step - loss: 0.8667 - acc: 0.7700 - val_loss: 1.1651 - val_acc: 0.7328\n",
            "Epoch 72/80\n",
            "100/100 [==============================] - 20s 201ms/step - loss: 0.8186 - acc: 0.7744 - val_loss: 1.1827 - val_acc: 0.7390\n",
            "Epoch 73/80\n",
            "100/100 [==============================] - 20s 202ms/step - loss: 0.8245 - acc: 0.7670 - val_loss: 1.3149 - val_acc: 0.7237\n",
            "Epoch 74/80\n",
            "100/100 [==============================] - 20s 197ms/step - loss: 0.8695 - acc: 0.7665 - val_loss: 1.2304 - val_acc: 0.7146\n",
            "Epoch 75/80\n",
            "100/100 [==============================] - 20s 201ms/step - loss: 0.7886 - acc: 0.7720 - val_loss: 1.4344 - val_acc: 0.7100\n",
            "Epoch 76/80\n",
            "100/100 [==============================] - 20s 201ms/step - loss: 0.8509 - acc: 0.7545 - val_loss: 1.2845 - val_acc: 0.7277\n",
            "Epoch 77/80\n",
            "100/100 [==============================] - 20s 196ms/step - loss: 0.9331 - acc: 0.7480 - val_loss: 1.1859 - val_acc: 0.7190\n",
            "Epoch 78/80\n",
            "100/100 [==============================] - 20s 197ms/step - loss: 0.9055 - acc: 0.7530 - val_loss: 1.3644 - val_acc: 0.6883\n",
            "Epoch 79/80\n",
            "100/100 [==============================] - 20s 200ms/step - loss: 0.8374 - acc: 0.7780 - val_loss: 1.1427 - val_acc: 0.7330\n",
            "Epoch 80/80\n",
            "100/100 [==============================] - 20s 201ms/step - loss: 0.7968 - acc: 0.7775 - val_loss: 1.2837 - val_acc: 0.7217\n",
            "CPU times: user 28min 39s, sys: 3min 16s, total: 31min 55s\n",
            "Wall time: 26min 47s\n"
          ],
          "name": "stdout"
        }
      ]
    },
    {
      "cell_type": "code",
      "metadata": {
        "id": "nfDa7X4BAvlc",
        "colab_type": "code",
        "colab": {}
      },
      "source": [
        "model.save(\"/content/drive/My Drive/data/caltech_101/caltech_6.h5\")\n"
      ],
      "execution_count": 0,
      "outputs": []
    },
    {
      "cell_type": "code",
      "metadata": {
        "id": "eja_rUCrAvps",
        "colab_type": "code",
        "colab": {
          "base_uri": "https://localhost:8080/",
          "height": 35
        },
        "outputId": "1903c3db-4771-469a-c365-5a191b6484d9"
      },
      "source": [
        "test_loss, test_acc = model.evaluate_generator(test_generator, steps=50)\n",
        "print('test acc:', test_acc)\n"
      ],
      "execution_count": 164,
      "outputs": [
        {
          "output_type": "stream",
          "text": [
            "test acc: 0.7039674448336372\n"
          ],
          "name": "stdout"
        }
      ]
    },
    {
      "cell_type": "code",
      "metadata": {
        "id": "rm4H7c7cAvt5",
        "colab_type": "code",
        "colab": {
          "base_uri": "https://localhost:8080/",
          "height": 545
        },
        "outputId": "7e4e924e-7e06-444b-e403-022549566f92"
      },
      "source": [
        "acc = history.history['acc']\n",
        "val_acc = history.history['val_acc']\n",
        "loss = history.history['loss']\n",
        "val_loss = history.history['val_loss']\n",
        "\n",
        "epochs = range(len(acc))\n",
        "\n",
        "plt.plot(epochs, acc, 'bo', label='Training acc')\n",
        "plt.plot(epochs, val_acc, 'b', label='Validation acc')\n",
        "plt.title('Training and validation accuracy')\n",
        "plt.legend()\n",
        "\n",
        "plt.figure()\n",
        "\n",
        "plt.plot(epochs, loss, 'bo', label='Training loss')\n",
        "plt.plot(epochs, val_loss, 'b', label='Validation loss')\n",
        "plt.title('Training and validation loss')\n",
        "plt.legend()\n",
        "\n",
        "plt.show()"
      ],
      "execution_count": 165,
      "outputs": [
        {
          "output_type": "display_data",
          "data": {
            "image/png": "[encoded data removed]",
            "text/plain": [
              "<Figure size 432x288 with 1 Axes>"
            ]
          },
          "metadata": {
            "tags": []
          }
        },
        {
          "output_type": "display_data",
          "data": {
            "image/png": "[encoded data removed]",
            "text/plain": [
              "<Figure size 432x288 with 1 Axes>"
            ]
          },
          "metadata": {
            "tags": []
          }
        }
      ]
    },
    {
      "cell_type": "code",
      "metadata": {
        "id": "fMjm9AWoAvxx",
        "colab_type": "code",
        "colab": {}
      },
      "source": [
        ""
      ],
      "execution_count": 0,
      "outputs": []
    },
    {
      "cell_type": "code",
      "metadata": {
        "id": "VbSBWNqhAv1-",
        "colab_type": "code",
        "colab": {}
      },
      "source": [
        ""
      ],
      "execution_count": 0,
      "outputs": []
    }
  ]
}